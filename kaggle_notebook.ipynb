{
 "cells": [
  {
   "cell_type": "code",
   "execution_count": 1,
   "id": "cb4274a5",
   "metadata": {
    "execution": {
     "iopub.execute_input": "2021-08-04T01:40:39.218192Z",
     "iopub.status.busy": "2021-08-04T01:40:39.217216Z",
     "iopub.status.idle": "2021-08-04T01:40:43.756788Z",
     "shell.execute_reply": "2021-08-04T01:40:43.757952Z"
    },
    "papermill": {
     "duration": 4.576839,
     "end_time": "2021-08-04T01:40:43.758313",
     "exception": false,
     "start_time": "2021-08-04T01:40:39.181474",
     "status": "completed"
    },
    "tags": []
   },
   "outputs": [],
   "source": [
    "import pandas as pd\n",
    "import numpy as np\n",
    "import tensorflow as tf\n",
    "import os\n",
    "from PIL import Image\n",
    "import gc\n",
    "import matplotlib.pyplot as plt"
   ]
  },
  {
   "cell_type": "code",
   "execution_count": 2,
   "id": "80df5d77",
   "metadata": {
    "execution": {
     "iopub.execute_input": "2021-08-04T01:40:43.846206Z",
     "iopub.status.busy": "2021-08-04T01:40:43.845355Z",
     "iopub.status.idle": "2021-08-04T01:40:43.847591Z",
     "shell.execute_reply": "2021-08-04T01:40:43.846944Z"
    },
    "papermill": {
     "duration": 0.049373,
     "end_time": "2021-08-04T01:40:43.847740",
     "exception": false,
     "start_time": "2021-08-04T01:40:43.798367",
     "status": "completed"
    },
    "tags": []
   },
   "outputs": [],
   "source": [
    "data_dir = \"../input/seti-breakthrough-listen/\""
   ]
  },
  {
   "cell_type": "code",
   "execution_count": 3,
   "id": "7e1df78d",
   "metadata": {
    "execution": {
     "iopub.execute_input": "2021-08-04T01:40:43.933027Z",
     "iopub.status.busy": "2021-08-04T01:40:43.931843Z",
     "iopub.status.idle": "2021-08-04T01:40:43.995289Z",
     "shell.execute_reply": "2021-08-04T01:40:43.996308Z"
    },
    "papermill": {
     "duration": 0.110359,
     "end_time": "2021-08-04T01:40:43.996494",
     "exception": false,
     "start_time": "2021-08-04T01:40:43.886135",
     "status": "completed"
    },
    "tags": []
   },
   "outputs": [],
   "source": [
    "train_df = pd.read_csv(\"../input/seti-breakthrough-listen/train_labels.csv\")"
   ]
  },
  {
   "cell_type": "code",
   "execution_count": 4,
   "id": "19f10311",
   "metadata": {
    "execution": {
     "iopub.execute_input": "2021-08-04T01:40:44.083525Z",
     "iopub.status.busy": "2021-08-04T01:40:44.082794Z",
     "iopub.status.idle": "2021-08-04T01:40:44.089102Z",
     "shell.execute_reply": "2021-08-04T01:40:44.089673Z"
    },
    "papermill": {
     "duration": 0.054029,
     "end_time": "2021-08-04T01:40:44.089847",
     "exception": false,
     "start_time": "2021-08-04T01:40:44.035818",
     "status": "completed"
    },
    "tags": []
   },
   "outputs": [
    {
     "data": {
      "text/plain": [
       "60000"
      ]
     },
     "execution_count": 4,
     "metadata": {},
     "output_type": "execute_result"
    }
   ],
   "source": [
    "train_df.shape[0]"
   ]
  },
  {
   "cell_type": "code",
   "execution_count": 5,
   "id": "05b0d203",
   "metadata": {
    "execution": {
     "iopub.execute_input": "2021-08-04T01:40:44.179754Z",
     "iopub.status.busy": "2021-08-04T01:40:44.178954Z",
     "iopub.status.idle": "2021-08-04T01:40:44.211937Z",
     "shell.execute_reply": "2021-08-04T01:40:44.212936Z"
    },
    "papermill": {
     "duration": 0.083141,
     "end_time": "2021-08-04T01:40:44.213134",
     "exception": false,
     "start_time": "2021-08-04T01:40:44.129993",
     "status": "completed"
    },
    "tags": []
   },
   "outputs": [
    {
     "data": {
      "text/plain": [
       "target\n",
       "0    0.9\n",
       "1    0.1\n",
       "dtype: float64"
      ]
     },
     "execution_count": 5,
     "metadata": {},
     "output_type": "execute_result"
    }
   ],
   "source": [
    "train_df.groupby(by='target').size()/train_df.shape[0]"
   ]
  },
  {
   "cell_type": "code",
   "execution_count": 6,
   "id": "655a25bf",
   "metadata": {
    "execution": {
     "iopub.execute_input": "2021-08-04T01:40:44.306674Z",
     "iopub.status.busy": "2021-08-04T01:40:44.305860Z",
     "iopub.status.idle": "2021-08-04T01:40:44.317421Z",
     "shell.execute_reply": "2021-08-04T01:40:44.318382Z"
    },
    "papermill": {
     "duration": 0.064137,
     "end_time": "2021-08-04T01:40:44.318579",
     "exception": false,
     "start_time": "2021-08-04T01:40:44.254442",
     "status": "completed"
    },
    "tags": []
   },
   "outputs": [
    {
     "data": {
      "text/html": [
       "<div>\n",
       "<style scoped>\n",
       "    .dataframe tbody tr th:only-of-type {\n",
       "        vertical-align: middle;\n",
       "    }\n",
       "\n",
       "    .dataframe tbody tr th {\n",
       "        vertical-align: top;\n",
       "    }\n",
       "\n",
       "    .dataframe thead th {\n",
       "        text-align: right;\n",
       "    }\n",
       "</style>\n",
       "<table border=\"1\" class=\"dataframe\">\n",
       "  <thead>\n",
       "    <tr style=\"text-align: right;\">\n",
       "      <th></th>\n",
       "      <th>id</th>\n",
       "      <th>target</th>\n",
       "    </tr>\n",
       "  </thead>\n",
       "  <tbody>\n",
       "    <tr>\n",
       "      <th>0</th>\n",
       "      <td>0000799a2b2c42d</td>\n",
       "      <td>0</td>\n",
       "    </tr>\n",
       "    <tr>\n",
       "      <th>1</th>\n",
       "      <td>00042890562ff68</td>\n",
       "      <td>0</td>\n",
       "    </tr>\n",
       "    <tr>\n",
       "      <th>2</th>\n",
       "      <td>0005364cdcb8e5b</td>\n",
       "      <td>0</td>\n",
       "    </tr>\n",
       "    <tr>\n",
       "      <th>3</th>\n",
       "      <td>0007a5a46901c56</td>\n",
       "      <td>0</td>\n",
       "    </tr>\n",
       "    <tr>\n",
       "      <th>4</th>\n",
       "      <td>0009283e145448e</td>\n",
       "      <td>0</td>\n",
       "    </tr>\n",
       "  </tbody>\n",
       "</table>\n",
       "</div>"
      ],
      "text/plain": [
       "                id  target\n",
       "0  0000799a2b2c42d       0\n",
       "1  00042890562ff68       0\n",
       "2  0005364cdcb8e5b       0\n",
       "3  0007a5a46901c56       0\n",
       "4  0009283e145448e       0"
      ]
     },
     "execution_count": 6,
     "metadata": {},
     "output_type": "execute_result"
    }
   ],
   "source": [
    "train_df.head()"
   ]
  },
  {
   "cell_type": "code",
   "execution_count": 7,
   "id": "fa18868a",
   "metadata": {
    "execution": {
     "iopub.execute_input": "2021-08-04T01:40:44.411730Z",
     "iopub.status.busy": "2021-08-04T01:40:44.411169Z",
     "iopub.status.idle": "2021-08-04T01:40:44.415053Z",
     "shell.execute_reply": "2021-08-04T01:40:44.414645Z"
    },
    "papermill": {
     "duration": 0.053825,
     "end_time": "2021-08-04T01:40:44.415165",
     "exception": false,
     "start_time": "2021-08-04T01:40:44.361340",
     "status": "completed"
    },
    "tags": []
   },
   "outputs": [],
   "source": [
    "def get_path_for(path='train'):\n",
    "    array_path_train_index = []\n",
    "    train_dict = []\n",
    "    subdirs = [subdir for subdir in os.listdir(data_dir+'/test')]\n",
    "    print(subdirs)\n",
    "    print(len(subdirs))\n",
    "    for index in subdirs:\n",
    "        for array in os.listdir(data_dir+'/%s/'%(path)+str(index)):\n",
    "            train_dict.append((array.split('.')[0], data_dir+'%s/'%(path)+str(index)+'/'+array))\n",
    "            array_path_train_index.append(array.split('.')[0])\n",
    "\n",
    "    return dict(train_dict), np.array(array_path_train_index)"
   ]
  },
  {
   "cell_type": "code",
   "execution_count": 8,
   "id": "0c035a74",
   "metadata": {
    "execution": {
     "iopub.execute_input": "2021-08-04T01:40:44.469580Z",
     "iopub.status.busy": "2021-08-04T01:40:44.468974Z",
     "iopub.status.idle": "2021-08-04T01:40:47.512564Z",
     "shell.execute_reply": "2021-08-04T01:40:47.512097Z"
    },
    "papermill": {
     "duration": 3.072126,
     "end_time": "2021-08-04T01:40:47.512696",
     "exception": false,
     "start_time": "2021-08-04T01:40:44.440570",
     "status": "completed"
    },
    "tags": []
   },
   "outputs": [
    {
     "name": "stdout",
     "output_type": "stream",
     "text": [
      "['7', '2', 'b', 'f', '5', 'e', '8', '0', 'a', '3', '1', 'c', '4', '9', '6', 'd']\n",
      "16\n",
      "['7', '2', 'b', 'f', '5', 'e', '8', '0', 'a', '3', '1', 'c', '4', '9', '6', 'd']\n",
      "16\n"
     ]
    }
   ],
   "source": [
    "train_dict, array_path_train_index = get_path_for('train')\n",
    "test_dict, test_path_index = get_path_for('test')"
   ]
  },
  {
   "cell_type": "code",
   "execution_count": 9,
   "id": "131b52d7",
   "metadata": {
    "execution": {
     "iopub.execute_input": "2021-08-04T01:40:47.584961Z",
     "iopub.status.busy": "2021-08-04T01:40:47.583691Z",
     "iopub.status.idle": "2021-08-04T01:40:47.585992Z",
     "shell.execute_reply": "2021-08-04T01:40:47.586450Z"
    },
    "papermill": {
     "duration": 0.047846,
     "end_time": "2021-08-04T01:40:47.586603",
     "exception": false,
     "start_time": "2021-08-04T01:40:47.538757",
     "status": "completed"
    },
    "tags": []
   },
   "outputs": [],
   "source": [
    "test_path = np.array([v for k, v in test_dict.items()])"
   ]
  },
  {
   "cell_type": "code",
   "execution_count": 10,
   "id": "4cf435e1",
   "metadata": {
    "execution": {
     "iopub.execute_input": "2021-08-04T01:40:47.641627Z",
     "iopub.status.busy": "2021-08-04T01:40:47.641087Z",
     "iopub.status.idle": "2021-08-04T01:40:47.644684Z",
     "shell.execute_reply": "2021-08-04T01:40:47.644277Z"
    },
    "papermill": {
     "duration": 0.032445,
     "end_time": "2021-08-04T01:40:47.644801",
     "exception": false,
     "start_time": "2021-08-04T01:40:47.612356",
     "status": "completed"
    },
    "tags": []
   },
   "outputs": [],
   "source": [
    "assert test_path.shape[0] == 39995"
   ]
  },
  {
   "cell_type": "code",
   "execution_count": 11,
   "id": "b768c0d3",
   "metadata": {
    "execution": {
     "iopub.execute_input": "2021-08-04T01:40:47.726384Z",
     "iopub.status.busy": "2021-08-04T01:40:47.725849Z",
     "iopub.status.idle": "2021-08-04T01:40:49.105131Z",
     "shell.execute_reply": "2021-08-04T01:40:49.104665Z"
    },
    "papermill": {
     "duration": 1.434496,
     "end_time": "2021-08-04T01:40:49.105260",
     "exception": false,
     "start_time": "2021-08-04T01:40:47.670764",
     "status": "completed"
    },
    "tags": []
   },
   "outputs": [],
   "source": [
    "train_df['path'] = train_df[train_df.id\\\n",
    "                            .isin(array_path_train_index)]\\\n",
    "                            .apply(lambda row: train_dict[row.id] if row.id in train_dict.keys() else np.nan, axis=1)"
   ]
  },
  {
   "cell_type": "code",
   "execution_count": 12,
   "id": "de6675af",
   "metadata": {
    "execution": {
     "iopub.execute_input": "2021-08-04T01:40:49.163832Z",
     "iopub.status.busy": "2021-08-04T01:40:49.163225Z",
     "iopub.status.idle": "2021-08-04T01:40:49.168356Z",
     "shell.execute_reply": "2021-08-04T01:40:49.168744Z"
    },
    "papermill": {
     "duration": 0.036697,
     "end_time": "2021-08-04T01:40:49.168888",
     "exception": false,
     "start_time": "2021-08-04T01:40:49.132191",
     "status": "completed"
    },
    "tags": []
   },
   "outputs": [
    {
     "data": {
      "text/plain": [
       "60000"
      ]
     },
     "execution_count": 12,
     "metadata": {},
     "output_type": "execute_result"
    }
   ],
   "source": [
    "train_df.shape[0]"
   ]
  },
  {
   "cell_type": "code",
   "execution_count": 13,
   "id": "430d5a67",
   "metadata": {
    "execution": {
     "iopub.execute_input": "2021-08-04T01:40:49.227357Z",
     "iopub.status.busy": "2021-08-04T01:40:49.226536Z",
     "iopub.status.idle": "2021-08-04T01:40:49.233916Z",
     "shell.execute_reply": "2021-08-04T01:40:49.233488Z"
    },
    "papermill": {
     "duration": 0.03821,
     "end_time": "2021-08-04T01:40:49.234032",
     "exception": false,
     "start_time": "2021-08-04T01:40:49.195822",
     "status": "completed"
    },
    "tags": []
   },
   "outputs": [
    {
     "data": {
      "text/plain": [
       "target\n",
       "0    0.9\n",
       "1    0.1\n",
       "dtype: float64"
      ]
     },
     "execution_count": 13,
     "metadata": {},
     "output_type": "execute_result"
    }
   ],
   "source": [
    "train_df.groupby(by='target').size()/train_df.shape[0]"
   ]
  },
  {
   "cell_type": "code",
   "execution_count": 14,
   "id": "872a4b34",
   "metadata": {
    "execution": {
     "iopub.execute_input": "2021-08-04T01:40:49.294141Z",
     "iopub.status.busy": "2021-08-04T01:40:49.293358Z",
     "iopub.status.idle": "2021-08-04T01:40:49.306495Z",
     "shell.execute_reply": "2021-08-04T01:40:49.306920Z"
    },
    "papermill": {
     "duration": 0.046075,
     "end_time": "2021-08-04T01:40:49.307056",
     "exception": false,
     "start_time": "2021-08-04T01:40:49.260981",
     "status": "completed"
    },
    "tags": []
   },
   "outputs": [
    {
     "data": {
      "text/html": [
       "<div>\n",
       "<style scoped>\n",
       "    .dataframe tbody tr th:only-of-type {\n",
       "        vertical-align: middle;\n",
       "    }\n",
       "\n",
       "    .dataframe tbody tr th {\n",
       "        vertical-align: top;\n",
       "    }\n",
       "\n",
       "    .dataframe thead th {\n",
       "        text-align: right;\n",
       "    }\n",
       "</style>\n",
       "<table border=\"1\" class=\"dataframe\">\n",
       "  <thead>\n",
       "    <tr style=\"text-align: right;\">\n",
       "      <th></th>\n",
       "      <th>id</th>\n",
       "      <th>target</th>\n",
       "      <th>path</th>\n",
       "    </tr>\n",
       "  </thead>\n",
       "  <tbody>\n",
       "    <tr>\n",
       "      <th>54494</th>\n",
       "      <td>e82be10db727e2c</td>\n",
       "      <td>0</td>\n",
       "      <td>../input/seti-breakthrough-listen/train/e/e82b...</td>\n",
       "    </tr>\n",
       "    <tr>\n",
       "      <th>30452</th>\n",
       "      <td>821cb09c2cc0663</td>\n",
       "      <td>1</td>\n",
       "      <td>../input/seti-breakthrough-listen/train/8/821c...</td>\n",
       "    </tr>\n",
       "    <tr>\n",
       "      <th>30104</th>\n",
       "      <td>809cfcb7d0890c5</td>\n",
       "      <td>0</td>\n",
       "      <td>../input/seti-breakthrough-listen/train/8/809c...</td>\n",
       "    </tr>\n",
       "    <tr>\n",
       "      <th>2437</th>\n",
       "      <td>0a441f600a24bba</td>\n",
       "      <td>0</td>\n",
       "      <td>../input/seti-breakthrough-listen/train/0/0a44...</td>\n",
       "    </tr>\n",
       "    <tr>\n",
       "      <th>45844</th>\n",
       "      <td>c36989c16d97094</td>\n",
       "      <td>0</td>\n",
       "      <td>../input/seti-breakthrough-listen/train/c/c369...</td>\n",
       "    </tr>\n",
       "  </tbody>\n",
       "</table>\n",
       "</div>"
      ],
      "text/plain": [
       "                    id  target  \\\n",
       "54494  e82be10db727e2c       0   \n",
       "30452  821cb09c2cc0663       1   \n",
       "30104  809cfcb7d0890c5       0   \n",
       "2437   0a441f600a24bba       0   \n",
       "45844  c36989c16d97094       0   \n",
       "\n",
       "                                                    path  \n",
       "54494  ../input/seti-breakthrough-listen/train/e/e82b...  \n",
       "30452  ../input/seti-breakthrough-listen/train/8/821c...  \n",
       "30104  ../input/seti-breakthrough-listen/train/8/809c...  \n",
       "2437   ../input/seti-breakthrough-listen/train/0/0a44...  \n",
       "45844  ../input/seti-breakthrough-listen/train/c/c369...  "
      ]
     },
     "execution_count": 14,
     "metadata": {},
     "output_type": "execute_result"
    }
   ],
   "source": [
    "train_df.sample(n=5)"
   ]
  },
  {
   "cell_type": "code",
   "execution_count": 15,
   "id": "bc4391d1",
   "metadata": {
    "execution": {
     "iopub.execute_input": "2021-08-04T01:40:49.365396Z",
     "iopub.status.busy": "2021-08-04T01:40:49.364897Z",
     "iopub.status.idle": "2021-08-04T01:40:49.368373Z",
     "shell.execute_reply": "2021-08-04T01:40:49.368759Z"
    },
    "papermill": {
     "duration": 0.034247,
     "end_time": "2021-08-04T01:40:49.368891",
     "exception": false,
     "start_time": "2021-08-04T01:40:49.334644",
     "status": "completed"
    },
    "tags": []
   },
   "outputs": [],
   "source": [
    "import tensorflow as tf"
   ]
  },
  {
   "cell_type": "code",
   "execution_count": 16,
   "id": "0da6a49e",
   "metadata": {
    "execution": {
     "iopub.execute_input": "2021-08-04T01:40:49.429893Z",
     "iopub.status.busy": "2021-08-04T01:40:49.428699Z",
     "iopub.status.idle": "2021-08-04T01:40:49.430893Z",
     "shell.execute_reply": "2021-08-04T01:40:49.431373Z"
    },
    "papermill": {
     "duration": 0.035374,
     "end_time": "2021-08-04T01:40:49.431497",
     "exception": false,
     "start_time": "2021-08-04T01:40:49.396123",
     "status": "completed"
    },
    "tags": []
   },
   "outputs": [],
   "source": [
    "def load_batches_of_batches(df, start_index=0, nro_batches=1, batch_size=32):\n",
    "    batch = []\n",
    "    arrays = []\n",
    "    end = batch_size * nro_batches\n",
    "    for index in range(start_index, end):\n",
    "        batch.append(np.load(df.iloc[index].path))\n",
    "        if (index+1)%batch_size==0:\n",
    "            arrays.append(np.stack(batch))\n",
    "            batch = []\n",
    "    return np.array(arrays, dtype='float32')"
   ]
  },
  {
   "cell_type": "code",
   "execution_count": 17,
   "id": "1f2fb065",
   "metadata": {
    "execution": {
     "iopub.execute_input": "2021-08-04T01:40:49.490890Z",
     "iopub.status.busy": "2021-08-04T01:40:49.490218Z",
     "iopub.status.idle": "2021-08-04T01:40:49.492571Z",
     "shell.execute_reply": "2021-08-04T01:40:49.493004Z"
    },
    "papermill": {
     "duration": 0.034365,
     "end_time": "2021-08-04T01:40:49.493121",
     "exception": false,
     "start_time": "2021-08-04T01:40:49.458756",
     "status": "completed"
    },
    "tags": []
   },
   "outputs": [],
   "source": [
    "#numpy array\n",
    "\n",
    "def load_batches(array, start_index=0, end_index=32):\n",
    "    batch = []\n",
    "    for index in range(start_index, end_index):\n",
    "        batch.append(np.load(array[index]).reshape(6, 273, 256, 1))\n",
    "    return np.array(np.stack(batch), dtype='float32')"
   ]
  },
  {
   "cell_type": "code",
   "execution_count": 18,
   "id": "b665b8cb",
   "metadata": {
    "execution": {
     "iopub.execute_input": "2021-08-04T01:40:49.553147Z",
     "iopub.status.busy": "2021-08-04T01:40:49.552423Z",
     "iopub.status.idle": "2021-08-04T01:40:51.618460Z",
     "shell.execute_reply": "2021-08-04T01:40:51.619274Z"
    },
    "papermill": {
     "duration": 2.098807,
     "end_time": "2021-08-04T01:40:51.619438",
     "exception": false,
     "start_time": "2021-08-04T01:40:49.520631",
     "status": "completed"
    },
    "tags": []
   },
   "outputs": [
    {
     "name": "stdout",
     "output_type": "stream",
     "text": [
      "(16, 4, 6, 273, 256)\n"
     ]
    }
   ],
   "source": [
    "test_batches = load_batches_of_batches(train_df, 0, 16, 4)\n",
    "\n",
    "print(test_batches.shape)\n",
    "assert test_batches.shape == (16, 4, 6, 273, 256)"
   ]
  },
  {
   "cell_type": "code",
   "execution_count": 19,
   "id": "42a56191",
   "metadata": {
    "execution": {
     "iopub.execute_input": "2021-08-04T01:40:51.681677Z",
     "iopub.status.busy": "2021-08-04T01:40:51.680829Z",
     "iopub.status.idle": "2021-08-04T01:40:51.733447Z",
     "shell.execute_reply": "2021-08-04T01:40:51.732630Z"
    },
    "papermill": {
     "duration": 0.085443,
     "end_time": "2021-08-04T01:40:51.733598",
     "exception": false,
     "start_time": "2021-08-04T01:40:51.648155",
     "status": "completed"
    },
    "tags": []
   },
   "outputs": [
    {
     "name": "stdout",
     "output_type": "stream",
     "text": [
      "(16, 6, 273, 256, 1)\n"
     ]
    }
   ],
   "source": [
    "test_batch = load_batches(train_df['path'].to_numpy(), 0, 16)\n",
    "\n",
    "print(test_batch.shape)\n",
    "assert test_batch.shape == (16, 6, 273, 256, 1)"
   ]
  },
  {
   "cell_type": "code",
   "execution_count": 20,
   "id": "8cee2847",
   "metadata": {
    "execution": {
     "iopub.execute_input": "2021-08-04T01:40:51.817545Z",
     "iopub.status.busy": "2021-08-04T01:40:51.810963Z",
     "iopub.status.idle": "2021-08-04T01:40:56.297395Z",
     "shell.execute_reply": "2021-08-04T01:40:56.296881Z"
    },
    "papermill": {
     "duration": 4.53527,
     "end_time": "2021-08-04T01:40:56.297537",
     "exception": false,
     "start_time": "2021-08-04T01:40:51.762267",
     "status": "completed"
    },
    "tags": []
   },
   "outputs": [],
   "source": [
    "# [batch_size, T, W, H]\n",
    "X_input = tf.keras.layers.Input(shape=(6, 273, 256, 1))\n",
    "\n",
    "X = tf.keras.layers.TimeDistributed(tf.keras.layers.BatchNormalization())(X_input)\n",
    "\n",
    "X = tf.keras.layers.TimeDistributed(tf.keras.layers.Conv2D(64, (3, 3),\n",
    "                                                           padding='valid',\n",
    "                                                           data_format='channels_last',\n",
    "                                                          activation='relu'))(X)\n",
    "\n",
    "X = tf.keras.layers.TimeDistributed(tf.keras.layers.Conv2D(64, (3, 3),\n",
    "                                                           padding='valid',\n",
    "                                                           data_format='channels_last',\n",
    "                                                          activation='relu'))(X)\n",
    "\n",
    "X = tf.keras.layers.TimeDistributed(tf.keras.layers.MaxPooling2D(pool_size=(2, 2), strides=(2, 2)))(X)\n",
    "X = tf.keras.layers.TimeDistributed(tf.keras.layers.BatchNormalization())(X)\n",
    "\n",
    "X = tf.keras.layers.TimeDistributed(tf.keras.layers.Conv2D(128, (3, 3),\n",
    "                                                           padding='valid',\n",
    "                                                           data_format='channels_last',\n",
    "                                                          activation='relu'))(X)\n",
    "\n",
    "X = tf.keras.layers.TimeDistributed(tf.keras.layers.Conv2D(128, (3, 3),\n",
    "                                                           padding='valid',\n",
    "                                                           data_format='channels_last',\n",
    "                                                          activation='relu'))(X)\n",
    "\n",
    "X = tf.keras.layers.TimeDistributed(tf.keras.layers.MaxPooling2D(pool_size=(2, 2), strides=(2, 2)))(X)\n",
    "X = tf.keras.layers.TimeDistributed(tf.keras.layers.BatchNormalization())(X)\n",
    "\n",
    "X = tf.keras.layers.TimeDistributed(tf.keras.layers.Conv2D(256, (3, 3),\n",
    "                                                           padding='valid',\n",
    "                                                           data_format='channels_last',\n",
    "                                                          activation='relu'))(X)\n",
    "\n",
    "X = tf.keras.layers.TimeDistributed(tf.keras.layers.Conv2D(256, (3, 3),\n",
    "                                                           padding='valid',\n",
    "                                                           data_format='channels_last',\n",
    "                                                          activation='relu'))(X)\n",
    "\n",
    "X = tf.keras.layers.TimeDistributed(tf.keras.layers.Conv2D(256, (3, 3),\n",
    "                                                           padding='valid',\n",
    "                                                           data_format='channels_last',\n",
    "                                                          activation='relu'))(X)\n",
    "\n",
    "X = tf.keras.layers.TimeDistributed(tf.keras.layers.MaxPooling2D(pool_size=(2, 2), strides=(2, 2)))(X)\n",
    "X = tf.keras.layers.TimeDistributed(tf.keras.layers.BatchNormalization())(X)\n",
    "\n",
    "X = tf.keras.layers.TimeDistributed(tf.keras.layers.Conv2D(512, (3, 3),\n",
    "                                                           padding='valid',\n",
    "                                                           data_format='channels_last',\n",
    "                                                          activation='relu'))(X)\n",
    "\n",
    "X = tf.keras.layers.TimeDistributed(tf.keras.layers.Conv2D(512, (3, 3),\n",
    "                                                           padding='valid',\n",
    "                                                           data_format='channels_last',\n",
    "                                                          activation='relu'))(X)\n",
    "\n",
    "X = tf.keras.layers.TimeDistributed(tf.keras.layers.Conv2D(512, (3, 3),\n",
    "                                                           padding='valid',\n",
    "                                                           data_format='channels_last',\n",
    "                                                          activation='relu'))(X)\n",
    "\n",
    "X = tf.keras.layers.TimeDistributed(tf.keras.layers.MaxPooling2D(pool_size=(2, 2), strides=(2, 2)))(X)\n",
    "X = tf.keras.layers.TimeDistributed(tf.keras.layers.BatchNormalization())(X)\n",
    "\n",
    "X = tf.keras.layers.TimeDistributed(tf.keras.layers.Conv2D(512, (3, 3),\n",
    "                                                           padding='valid',\n",
    "                                                           data_format='channels_last',\n",
    "                                                          activation='relu'))(X)\n",
    "\n",
    "X = tf.keras.layers.TimeDistributed(tf.keras.layers.Conv2D(512, (3, 3),\n",
    "                                                           padding='valid',\n",
    "                                                           data_format='channels_last',\n",
    "                                                          activation='relu'))(X)\n",
    "\n",
    "X = tf.keras.layers.TimeDistributed(tf.keras.layers.Conv2D(512, (3, 3),\n",
    "                                                           padding='valid',\n",
    "                                                           data_format='channels_last',\n",
    "                                                          activation='relu'))(X)\n",
    "\n",
    "# [batch_size, filters, W, H]\n",
    "X = tf.keras.layers.TimeDistributed(tf.keras.layers.MaxPooling2D(pool_size=(2, 2), strides=(2, 2)))(X)\n",
    "X = tf.keras.layers.TimeDistributed(tf.keras.layers.BatchNormalization())(X)\n",
    "X = tf.keras.layers.TimeDistributed(tf.keras.layers.Flatten())(X)\n",
    "\n",
    "X = tf.keras.layers.TimeDistributed(tf.keras.layers.Dense(4096, activation='relu'))(X)\n",
    "X = tf.keras.layers.TimeDistributed(tf.keras.layers.Dropout(0.4))(X)\n",
    "X = tf.keras.layers.TimeDistributed(tf.keras.layers.Dense(4096, activation='relu'))(X)\n",
    "X = tf.keras.layers.TimeDistributed(tf.keras.layers.Dropout(0.4))(X)\n",
    "\n",
    "X = tf.keras.layers.Bidirectional(tf.keras.layers.LSTM(6, return_sequences=True))(X)\n",
    "X = tf.keras.layers.Bidirectional(tf.keras.layers.LSTM(6, return_sequences=True))(X)\n",
    "X = tf.keras.layers.Bidirectional(tf.keras.layers.LSTM(6, return_sequences=True))(X)\n",
    "X = tf.keras.layers.Bidirectional(tf.keras.layers.LSTM(6, return_sequences=True))(X)\n",
    "X = tf.keras.layers.Bidirectional(tf.keras.layers.LSTM(6))(X)\n",
    "\n",
    "X = tf.keras.layers.Dense(1024, activation='relu')(X)\n",
    "X = tf.keras.layers.Dropout(0.2)(X)\n",
    "\n",
    "X_output = tf.keras.layers.Dense(1, activation='sigmoid')(X)\n",
    "\n",
    "model = tf.keras.Model(X_input, X_output)"
   ]
  },
  {
   "cell_type": "code",
   "execution_count": 21,
   "id": "f63263d3",
   "metadata": {
    "execution": {
     "iopub.execute_input": "2021-08-04T01:40:56.365602Z",
     "iopub.status.busy": "2021-08-04T01:40:56.365060Z",
     "iopub.status.idle": "2021-08-04T01:40:56.398653Z",
     "shell.execute_reply": "2021-08-04T01:40:56.399034Z"
    },
    "papermill": {
     "duration": 0.072601,
     "end_time": "2021-08-04T01:40:56.399168",
     "exception": false,
     "start_time": "2021-08-04T01:40:56.326567",
     "status": "completed"
    },
    "tags": []
   },
   "outputs": [],
   "source": [
    "model.compile(loss=tf.keras.losses.BinaryCrossentropy(),\n",
    "            optimizer=\"Adam\",\n",
    "            metrics=[tf.keras.metrics.BinaryAccuracy(),\n",
    "                     tf.keras.metrics.FalseNegatives(),\n",
    "                     tf.keras.metrics.FalsePositives(),\n",
    "                     tf.keras.metrics.Precision(),\n",
    "                     tf.keras.metrics.Recall(),\n",
    "                     tf.keras.metrics.AUC()])"
   ]
  },
  {
   "cell_type": "code",
   "execution_count": 22,
   "id": "77fbeec4",
   "metadata": {
    "execution": {
     "iopub.execute_input": "2021-08-04T01:40:56.462683Z",
     "iopub.status.busy": "2021-08-04T01:40:56.461453Z",
     "iopub.status.idle": "2021-08-04T01:40:56.465385Z",
     "shell.execute_reply": "2021-08-04T01:40:56.464980Z"
    },
    "papermill": {
     "duration": 0.03732,
     "end_time": "2021-08-04T01:40:56.465497",
     "exception": false,
     "start_time": "2021-08-04T01:40:56.428177",
     "status": "completed"
    },
    "tags": []
   },
   "outputs": [],
   "source": [
    "#tags to numpy\n",
    "\n",
    "tags = train_df.pop('target').to_numpy()\n",
    "train_paths = train_df.pop('path').to_numpy()"
   ]
  },
  {
   "cell_type": "code",
   "execution_count": 23,
   "id": "2d9dded2",
   "metadata": {
    "execution": {
     "iopub.execute_input": "2021-08-04T01:40:56.529119Z",
     "iopub.status.busy": "2021-08-04T01:40:56.527900Z",
     "iopub.status.idle": "2021-08-04T01:40:56.530701Z",
     "shell.execute_reply": "2021-08-04T01:40:56.530249Z"
    },
    "papermill": {
     "duration": 0.036527,
     "end_time": "2021-08-04T01:40:56.530808",
     "exception": false,
     "start_time": "2021-08-04T01:40:56.494281",
     "status": "completed"
    },
    "tags": []
   },
   "outputs": [],
   "source": [
    "def split_train_val(batches, tags, split=0.3):\n",
    "    mask = np.array([np.random.random(1)[0]>split for index in range(batches.shape[0])], dtype='bool')\n",
    "    train_batch = batches[mask]\n",
    "    train_tag = tags[mask]\n",
    "    val_batch = batches[~mask]\n",
    "    val_tag = tags[~mask]\n",
    "    \n",
    "    return train_batch, train_tag, val_batch, val_tag"
   ]
  },
  {
   "cell_type": "code",
   "execution_count": 24,
   "id": "7b2cdfb5",
   "metadata": {
    "execution": {
     "iopub.execute_input": "2021-08-04T01:40:56.593267Z",
     "iopub.status.busy": "2021-08-04T01:40:56.592269Z",
     "iopub.status.idle": "2021-08-04T01:40:56.606315Z",
     "shell.execute_reply": "2021-08-04T01:40:56.606707Z"
    },
    "papermill": {
     "duration": 0.047344,
     "end_time": "2021-08-04T01:40:56.606841",
     "exception": false,
     "start_time": "2021-08-04T01:40:56.559497",
     "status": "completed"
    },
    "tags": []
   },
   "outputs": [
    {
     "name": "stdout",
     "output_type": "stream",
     "text": [
      "(12, 6, 273, 256, 1)\n",
      "(12,)\n",
      "(4, 6, 273, 256, 1)\n",
      "(4,)\n"
     ]
    }
   ],
   "source": [
    "train_batch, train_tag, val_batch, val_tag = split_train_val(test_batch, tags[:16], 0.3)\n",
    "print(train_batch.shape)\n",
    "print(train_tag.shape)\n",
    "print(val_batch.shape)\n",
    "print(val_tag.shape)"
   ]
  },
  {
   "cell_type": "code",
   "execution_count": 25,
   "id": "633993c4",
   "metadata": {
    "execution": {
     "iopub.execute_input": "2021-08-04T01:40:56.830161Z",
     "iopub.status.busy": "2021-08-04T01:40:56.829327Z",
     "iopub.status.idle": "2021-08-04T01:40:56.886751Z",
     "shell.execute_reply": "2021-08-04T01:40:56.887171Z"
    },
    "papermill": {
     "duration": 0.251039,
     "end_time": "2021-08-04T01:40:56.887318",
     "exception": false,
     "start_time": "2021-08-04T01:40:56.636279",
     "status": "completed"
    },
    "tags": []
   },
   "outputs": [
    {
     "data": {
      "text/plain": [
       "28929"
      ]
     },
     "execution_count": 25,
     "metadata": {},
     "output_type": "execute_result"
    }
   ],
   "source": [
    "del test_batch\n",
    "del test_batches\n",
    "del train_batch\n",
    "del train_tag\n",
    "del val_batch\n",
    "del val_tag\n",
    "gc.collect()"
   ]
  },
  {
   "cell_type": "code",
   "execution_count": 26,
   "id": "dc70d96d",
   "metadata": {
    "execution": {
     "iopub.execute_input": "2021-08-04T01:40:56.953256Z",
     "iopub.status.busy": "2021-08-04T01:40:56.952570Z",
     "iopub.status.idle": "2021-08-04T01:40:57.490057Z",
     "shell.execute_reply": "2021-08-04T01:40:57.489425Z"
    },
    "papermill": {
     "duration": 0.572536,
     "end_time": "2021-08-04T01:40:57.490215",
     "exception": false,
     "start_time": "2021-08-04T01:40:56.917679",
     "status": "completed"
    },
    "tags": []
   },
   "outputs": [
    {
     "name": "stdout",
     "output_type": "stream",
     "text": [
      "52\n",
      "460\n",
      "0.1015625\n",
      "(0.5565217391304348, 4.923076923076923)\n"
     ]
    },
    {
     "name": "stderr",
     "output_type": "stream",
     "text": [
      "/opt/conda/lib/python3.7/site-packages/sklearn/utils/validation.py:70: FutureWarning: Pass classes=[0 1] as keyword args. From version 0.25 passing these as positional arguments will result in an error\n",
      "  FutureWarning)\n"
     ]
    }
   ],
   "source": [
    "#test balance weights\n",
    "\n",
    "from sklearn.utils import class_weight\n",
    "\n",
    "class_weights_0, class_weights_1 = class_weight.compute_class_weight('balanced', np.unique(tags[:512]), classes=[0, 1], y=tags[:512])\n",
    "\n",
    "print(np.sum(tags[:512]))\n",
    "print(tags[:512].shape[0]-np.sum(tags[:512]))\n",
    "print(np.sum(tags[:512])/tags[:512].shape[0])\n",
    "print((class_weights_0, class_weights_1))"
   ]
  },
  {
   "cell_type": "code",
   "execution_count": 27,
   "id": "30d361de",
   "metadata": {
    "execution": {
     "iopub.execute_input": "2021-08-04T01:40:57.559894Z",
     "iopub.status.busy": "2021-08-04T01:40:57.558649Z",
     "iopub.status.idle": "2021-08-04T01:40:57.562499Z",
     "shell.execute_reply": "2021-08-04T01:40:57.561920Z"
    },
    "papermill": {
     "duration": 0.040901,
     "end_time": "2021-08-04T01:40:57.562661",
     "exception": false,
     "start_time": "2021-08-04T01:40:57.521760",
     "status": "completed"
    },
    "tags": []
   },
   "outputs": [
    {
     "name": "stdout",
     "output_type": "stream",
     "text": [
      "[0 1 2 3 4 5 6 7 8 9]\n",
      "[15 16 17 18 19 20 21 22 23 24]\n",
      "[9 4 2 5 3 1 8 0 6 7]\n",
      "[24 19 17 20 18 16 23 15 21 22]\n"
     ]
    }
   ],
   "source": [
    "from sklearn.utils import shuffle\n",
    "\n",
    "test = np.array(range(10))\n",
    "test2 = np.array(range(15, 25))\n",
    "print(test)\n",
    "print(test2)\n",
    "\n",
    "shuffle_test, shuffle_test2 = shuffle(test, test2)\n",
    "\n",
    "print(shuffle_test)\n",
    "print(shuffle_test2)"
   ]
  },
  {
   "cell_type": "code",
   "execution_count": 28,
   "id": "f21eb633",
   "metadata": {
    "execution": {
     "iopub.execute_input": "2021-08-04T01:40:57.775150Z",
     "iopub.status.busy": "2021-08-04T01:40:57.774321Z",
     "iopub.status.idle": "2021-08-04T01:40:57.778577Z",
     "shell.execute_reply": "2021-08-04T01:40:57.778959Z"
    },
    "papermill": {
     "duration": 0.184704,
     "end_time": "2021-08-04T01:40:57.779104",
     "exception": false,
     "start_time": "2021-08-04T01:40:57.594400",
     "status": "completed"
    },
    "tags": []
   },
   "outputs": [
    {
     "data": {
      "text/plain": [
       "40"
      ]
     },
     "execution_count": 28,
     "metadata": {},
     "output_type": "execute_result"
    }
   ],
   "source": [
    "gc.collect()"
   ]
  },
  {
   "cell_type": "code",
   "execution_count": 29,
   "id": "7be31089",
   "metadata": {
    "execution": {
     "iopub.execute_input": "2021-08-04T01:40:57.845262Z",
     "iopub.status.busy": "2021-08-04T01:40:57.844665Z",
     "iopub.status.idle": "2021-08-04T01:40:57.892715Z",
     "shell.execute_reply": "2021-08-04T01:40:57.892252Z"
    },
    "papermill": {
     "duration": 0.08242,
     "end_time": "2021-08-04T01:40:57.892850",
     "exception": false,
     "start_time": "2021-08-04T01:40:57.810430",
     "status": "completed"
    },
    "tags": []
   },
   "outputs": [],
   "source": [
    "from sklearn.model_selection import train_test_split"
   ]
  },
  {
   "cell_type": "code",
   "execution_count": 30,
   "id": "dadc4178",
   "metadata": {
    "execution": {
     "iopub.execute_input": "2021-08-04T01:40:57.965980Z",
     "iopub.status.busy": "2021-08-04T01:40:57.965153Z",
     "iopub.status.idle": "2021-08-04T06:57:09.651734Z",
     "shell.execute_reply": "2021-08-04T06:57:09.651258Z"
    },
    "papermill": {
     "duration": 18971.728276,
     "end_time": "2021-08-04T06:57:09.652518",
     "exception": false,
     "start_time": "2021-08-04T01:40:57.924242",
     "status": "completed"
    },
    "tags": []
   },
   "outputs": [
    {
     "name": "stdout",
     "output_type": "stream",
     "text": [
      "signal weight: [5.000000] - noiseweight: [0.555556]\n",
      "Epoch: [0]\n",
      "train size: [921] val size: [231]\n",
      "58/58 [==============================] - 99s 1s/step - loss: 0.7309 - binary_accuracy: 0.2005 - false_negatives: 10.7627 - false_positives: 368.3220 - precision: 0.1038 - recall: 0.8087 - auc: 0.4488 - val_loss: 0.6901 - val_binary_accuracy: 0.9091 - val_false_negatives: 21.0000 - val_false_positives: 0.0000e+00 - val_precision: 0.0000e+00 - val_recall: 0.0000e+00 - val_auc: 0.5405\n",
      "processed so far: [1.92]\n",
      "train size: [921] val size: [231]\n",
      "58/58 [==============================] - 50s 860ms/step - loss: 0.7168 - binary_accuracy: 0.8165 - false_negatives: 87.0000 - false_positives: 82.0000 - precision: 0.1277 - recall: 0.1212 - auc: 0.4709 - val_loss: 0.7035 - val_binary_accuracy: 0.1255 - val_false_negatives: 0.0000e+00 - val_false_positives: 202.0000 - val_precision: 0.1255 - val_recall: 1.0000 - val_auc: 0.5000\n",
      "processed so far: [3.84]\n",
      "train size: [921] val size: [231]\n",
      "58/58 [==============================] - 50s 860ms/step - loss: 0.6804 - binary_accuracy: 0.0955 - false_negatives: 0.0000e+00 - false_positives: 833.0000 - precision: 0.0955 - recall: 1.0000 - auc: 0.4833 - val_loss: 0.7014 - val_binary_accuracy: 0.0952 - val_false_negatives: 0.0000e+00 - val_false_positives: 209.0000 - val_precision: 0.0952 - val_recall: 1.0000 - val_auc: 0.5000\n",
      "processed so far: [5.76]\n",
      "train size: [921] val size: [231]\n",
      "58/58 [==============================] - 50s 861ms/step - loss: 0.6728 - binary_accuracy: 0.6113 - false_negatives: 58.0000 - false_positives: 300.0000 - precision: 0.0854 - recall: 0.3256 - auc: 0.5057 - val_loss: 0.6747 - val_binary_accuracy: 0.9134 - val_false_negatives: 20.0000 - val_false_positives: 0.0000e+00 - val_precision: 0.0000e+00 - val_recall: 0.0000e+00 - val_auc: 0.5000\n",
      "processed so far: [7.68]\n",
      "train size: [921] val size: [231]\n",
      "58/58 [==============================] - 50s 858ms/step - loss: 0.6761 - binary_accuracy: 0.8893 - false_negatives: 85.0000 - false_positives: 17.0000 - precision: 0.1053 - recall: 0.0230 - auc: 0.4901 - val_loss: 0.6810 - val_binary_accuracy: 0.8831 - val_false_negatives: 27.0000 - val_false_positives: 0.0000e+00 - val_precision: 0.0000e+00 - val_recall: 0.0000e+00 - val_auc: 0.5000\n",
      "processed so far: [9.60]\n",
      "train size: [921] val size: [231]\n",
      "58/58 [==============================] - 50s 860ms/step - loss: 0.6796 - binary_accuracy: 0.9045 - false_negatives: 88.0000 - false_positives: 0.0000e+00 - precision: 0.0000e+00 - recall: 0.0000e+00 - auc: 0.4674 - val_loss: 0.6752 - val_binary_accuracy: 0.8918 - val_false_negatives: 25.0000 - val_false_positives: 0.0000e+00 - val_precision: 0.0000e+00 - val_recall: 0.0000e+00 - val_auc: 0.5000\n",
      "processed so far: [11.52]\n",
      "train size: [921] val size: [231]\n",
      "58/58 [==============================] - 50s 858ms/step - loss: 0.6620 - binary_accuracy: 0.9099 - false_negatives: 83.0000 - false_positives: 0.0000e+00 - precision: 0.0000e+00 - recall: 0.0000e+00 - auc: 0.4482 - val_loss: 0.6603 - val_binary_accuracy: 0.9048 - val_false_negatives: 22.0000 - val_false_positives: 0.0000e+00 - val_precision: 0.0000e+00 - val_recall: 0.0000e+00 - val_auc: 0.5000\n",
      "processed so far: [13.44]\n",
      "train size: [921] val size: [231]\n",
      "58/58 [==============================] - 50s 857ms/step - loss: 0.6945 - binary_accuracy: 0.9001 - false_negatives: 92.0000 - false_positives: 0.0000e+00 - precision: 0.0000e+00 - recall: 0.0000e+00 - auc: 0.4673 - val_loss: 0.6780 - val_binary_accuracy: 0.9091 - val_false_negatives: 21.0000 - val_false_positives: 0.0000e+00 - val_precision: 0.0000e+00 - val_recall: 0.0000e+00 - val_auc: 0.5000\n",
      "processed so far: [15.36]\n",
      "train size: [921] val size: [231]\n",
      "58/58 [==============================] - 50s 858ms/step - loss: 0.7795 - binary_accuracy: 0.2638 - false_negatives: 26.0000 - false_positives: 652.0000 - precision: 0.1237 - recall: 0.7797 - auc: 0.4449 - val_loss: 0.7433 - val_binary_accuracy: 0.0779 - val_false_negatives: 0.0000e+00 - val_false_positives: 213.0000 - val_precision: 0.0779 - val_recall: 1.0000 - val_auc: 0.5000\n",
      "processed so far: [17.28]\n",
      "train size: [921] val size: [231]\n",
      "58/58 [==============================] - 50s 857ms/step - loss: 0.7348 - binary_accuracy: 0.1140 - false_negatives: 0.0000e+00 - false_positives: 816.0000 - precision: 0.1140 - recall: 1.0000 - auc: 0.4589 - val_loss: 0.7477 - val_binary_accuracy: 0.0952 - val_false_negatives: 0.0000e+00 - val_false_positives: 209.0000 - val_precision: 0.0952 - val_recall: 1.0000 - val_auc: 0.5000\n",
      "processed so far: [19.20]\n",
      "train size: [921] val size: [231]\n",
      "58/58 [==============================] - 50s 859ms/step - loss: 0.6887 - binary_accuracy: 0.0977 - false_negatives: 0.0000e+00 - false_positives: 831.0000 - precision: 0.0977 - recall: 1.0000 - auc: 0.4650 - val_loss: 0.7108 - val_binary_accuracy: 0.1126 - val_false_negatives: 0.0000e+00 - val_false_positives: 205.0000 - val_precision: 0.1126 - val_recall: 1.0000 - val_auc: 0.5000\n",
      "processed so far: [21.12]\n",
      "train size: [921] val size: [231]\n",
      "58/58 [==============================] - 50s 857ms/step - loss: 0.7351 - binary_accuracy: 0.1140 - false_negatives: 0.0000e+00 - false_positives: 816.0000 - precision: 0.1140 - recall: 1.0000 - auc: 0.4644 - val_loss: 0.7430 - val_binary_accuracy: 0.0952 - val_false_negatives: 0.0000e+00 - val_false_positives: 209.0000 - val_precision: 0.0952 - val_recall: 1.0000 - val_auc: 0.5000\n",
      "processed so far: [23.04]\n",
      "train size: [921] val size: [231]\n",
      "58/58 [==============================] - 50s 858ms/step - loss: 0.7045 - binary_accuracy: 0.1031 - false_negatives: 0.0000e+00 - false_positives: 826.0000 - precision: 0.1031 - recall: 1.0000 - auc: 0.4247 - val_loss: 0.7244 - val_binary_accuracy: 0.0996 - val_false_negatives: 0.0000e+00 - val_false_positives: 208.0000 - val_precision: 0.0996 - val_recall: 1.0000 - val_auc: 0.5000\n",
      "processed so far: [24.96]\n",
      "train size: [921] val size: [231]\n",
      "58/58 [==============================] - 50s 859ms/step - loss: 0.7060 - binary_accuracy: 0.1042 - false_negatives: 0.0000e+00 - false_positives: 825.0000 - precision: 0.1042 - recall: 1.0000 - auc: 0.5328 - val_loss: 0.7266 - val_binary_accuracy: 0.0779 - val_false_negatives: 0.0000e+00 - val_false_positives: 213.0000 - val_precision: 0.0779 - val_recall: 1.0000 - val_auc: 0.5000\n",
      "processed so far: [26.88]\n",
      "train size: [921] val size: [231]\n",
      "58/58 [==============================] - 50s 859ms/step - loss: 0.6846 - binary_accuracy: 0.0966 - false_negatives: 0.0000e+00 - false_positives: 832.0000 - precision: 0.0966 - recall: 1.0000 - auc: 0.4555 - val_loss: 0.7024 - val_binary_accuracy: 0.0823 - val_false_negatives: 0.0000e+00 - val_false_positives: 212.0000 - val_precision: 0.0823 - val_recall: 1.0000 - val_auc: 0.5000\n",
      "processed so far: [28.80]\n",
      "train size: [921] val size: [231]\n",
      "58/58 [==============================] - 50s 857ms/step - loss: 0.6703 - binary_accuracy: 0.1064 - false_negatives: 0.0000e+00 - false_positives: 823.0000 - precision: 0.0936 - recall: 1.0000 - auc: 0.4732 - val_loss: 0.6972 - val_binary_accuracy: 0.1082 - val_false_negatives: 0.0000e+00 - val_false_positives: 206.0000 - val_precision: 0.1082 - val_recall: 1.0000 - val_auc: 0.5000\n",
      "processed so far: [30.72]\n",
      "train size: [921] val size: [231]\n",
      "58/58 [==============================] - 50s 857ms/step - loss: 0.6633 - binary_accuracy: 0.7568 - false_negatives: 79.0000 - false_positives: 145.0000 - precision: 0.0268 - recall: 0.0482 - auc: 0.4276 - val_loss: 0.6834 - val_binary_accuracy: 0.8961 - val_false_negatives: 24.0000 - val_false_positives: 0.0000e+00 - val_precision: 0.0000e+00 - val_recall: 0.0000e+00 - val_auc: 0.5000\n",
      "processed so far: [32.64]\n",
      "train size: [921] val size: [231]\n",
      "58/58 [==============================] - 50s 859ms/step - loss: 0.6838 - binary_accuracy: 0.8893 - false_negatives: 87.0000 - false_positives: 15.0000 - precision: 0.1176 - recall: 0.0225 - auc: 0.4098 - val_loss: 0.6752 - val_binary_accuracy: 0.9048 - val_false_negatives: 22.0000 - val_false_positives: 0.0000e+00 - val_precision: 0.0000e+00 - val_recall: 0.0000e+00 - val_auc: 0.5000\n",
      "processed so far: [34.56]\n",
      "train size: [921] val size: [231]\n",
      "58/58 [==============================] - 50s 861ms/step - loss: 0.7238 - binary_accuracy: 0.4039 - false_negatives: 46.0000 - false_positives: 503.0000 - precision: 0.0986 - recall: 0.5446 - auc: 0.4616 - val_loss: 0.6981 - val_binary_accuracy: 0.0952 - val_false_negatives: 0.0000e+00 - val_false_positives: 209.0000 - val_precision: 0.0952 - val_recall: 1.0000 - val_auc: 0.5000\n",
      "processed so far: [36.48]\n",
      "train size: [921] val size: [231]\n",
      "58/58 [==============================] - 50s 859ms/step - loss: 0.6837 - binary_accuracy: 0.6482 - false_negatives: 67.0000 - false_positives: 257.0000 - precision: 0.0789 - recall: 0.2472 - auc: 0.4642 - val_loss: 0.6819 - val_binary_accuracy: 0.9264 - val_false_negatives: 17.0000 - val_false_positives: 0.0000e+00 - val_precision: 0.0000e+00 - val_recall: 0.0000e+00 - val_auc: 0.5000\n",
      "processed so far: [38.40]\n",
      "train size: [921] val size: [231]\n",
      "58/58 [==============================] - 50s 859ms/step - loss: 0.6828 - binary_accuracy: 0.6232 - false_negatives: 63.0000 - false_positives: 284.0000 - precision: 0.0839 - recall: 0.2921 - auc: 0.4786 - val_loss: 0.6888 - val_binary_accuracy: 0.9221 - val_false_negatives: 18.0000 - val_false_positives: 0.0000e+00 - val_precision: 0.0000e+00 - val_recall: 0.0000e+00 - val_auc: 0.5000\n",
      "processed so far: [40.32]\n",
      "train size: [921] val size: [231]\n",
      "58/58 [==============================] - 50s 860ms/step - loss: 0.6998 - binary_accuracy: 0.3594 - false_negatives: 34.0000 - false_positives: 556.0000 - precision: 0.0974 - recall: 0.6383 - auc: 0.4633 - val_loss: 0.6958 - val_binary_accuracy: 0.0996 - val_false_negatives: 0.0000e+00 - val_false_positives: 208.0000 - val_precision: 0.0996 - val_recall: 1.0000 - val_auc: 0.5000\n",
      "processed so far: [42.24]\n",
      "train size: [921] val size: [231]\n",
      "58/58 [==============================] - 50s 860ms/step - loss: 0.7493 - binary_accuracy: 0.2801 - false_negatives: 28.0000 - false_positives: 635.0000 - precision: 0.1131 - recall: 0.7431 - auc: 0.4802 - val_loss: 0.7153 - val_binary_accuracy: 0.0952 - val_false_negatives: 0.0000e+00 - val_false_positives: 209.0000 - val_precision: 0.0952 - val_recall: 1.0000 - val_auc: 0.5000\n",
      "processed so far: [44.16]\n",
      "train size: [921] val size: [231]\n",
      "58/58 [==============================] - 50s 860ms/step - loss: 0.6936 - binary_accuracy: 0.0999 - false_negatives: 0.0000e+00 - false_positives: 829.0000 - precision: 0.0999 - recall: 1.0000 - auc: 0.4593 - val_loss: 0.7141 - val_binary_accuracy: 0.1212 - val_false_negatives: 0.0000e+00 - val_false_positives: 203.0000 - val_precision: 0.1212 - val_recall: 1.0000 - val_auc: 0.5000\n",
      "processed so far: [46.08]\n",
      "train size: [921] val size: [231]\n",
      "58/58 [==============================] - 50s 861ms/step - loss: 0.6801 - binary_accuracy: 0.1281 - false_negatives: 6.0000 - false_positives: 797.0000 - precision: 0.0933 - recall: 0.9318 - auc: 0.4791 - val_loss: 0.7006 - val_binary_accuracy: 0.0606 - val_false_negatives: 0.0000e+00 - val_false_positives: 217.0000 - val_precision: 0.0606 - val_recall: 1.0000 - val_auc: 0.5000\n",
      "processed so far: [48.00]\n",
      "train size: [921] val size: [231]\n",
      "58/58 [==============================] - 50s 859ms/step - loss: 0.7062 - binary_accuracy: 0.1954 - false_negatives: 10.0000 - false_positives: 731.0000 - precision: 0.1053 - recall: 0.8958 - auc: 0.5055 - val_loss: 0.6999 - val_binary_accuracy: 0.1342 - val_false_negatives: 0.0000e+00 - val_false_positives: 200.0000 - val_precision: 0.1342 - val_recall: 1.0000 - val_auc: 0.5000\n",
      "processed so far: [49.92]\n",
      "train size: [921] val size: [231]\n",
      "58/58 [==============================] - 50s 861ms/step - loss: 0.6596 - binary_accuracy: 0.3333 - false_negatives: 25.0000 - false_positives: 589.0000 - precision: 0.0882 - recall: 0.6951 - auc: 0.4911 - val_loss: 0.6898 - val_binary_accuracy: 0.9091 - val_false_negatives: 21.0000 - val_false_positives: 0.0000e+00 - val_precision: 0.0000e+00 - val_recall: 0.0000e+00 - val_auc: 0.5000\n",
      "processed so far: [51.84]\n",
      "train size: [921] val size: [231]\n",
      "58/58 [==============================] - 50s 859ms/step - loss: 0.7033 - binary_accuracy: 0.8578 - false_negatives: 91.0000 - false_positives: 40.0000 - precision: 0.0909 - recall: 0.0421 - auc: 0.5019 - val_loss: 0.6919 - val_binary_accuracy: 0.9351 - val_false_negatives: 15.0000 - val_false_positives: 0.0000e+00 - val_precision: 0.0000e+00 - val_recall: 0.0000e+00 - val_auc: 0.5000\n",
      "processed so far: [53.76]\n",
      "train size: [921] val size: [231]\n",
      "58/58 [==============================] - 50s 858ms/step - loss: 0.7091 - binary_accuracy: 0.2074 - false_negatives: 10.0000 - false_positives: 720.0000 - precision: 0.1078 - recall: 0.8969 - auc: 0.5239 - val_loss: 0.7058 - val_binary_accuracy: 0.0563 - val_false_negatives: 0.0000e+00 - val_false_positives: 218.0000 - val_precision: 0.0563 - val_recall: 1.0000 - val_auc: 0.5000\n",
      "processed so far: [55.68]\n",
      "train size: [921] val size: [231]\n",
      "58/58 [==============================] - 50s 859ms/step - loss: 0.6802 - binary_accuracy: 0.2780 - false_negatives: 29.0000 - false_positives: 636.0000 - precision: 0.0849 - recall: 0.6705 - auc: 0.4555 - val_loss: 0.6988 - val_binary_accuracy: 0.1515 - val_false_negatives: 0.0000e+00 - val_false_positives: 196.0000 - val_precision: 0.1515 - val_recall: 1.0000 - val_auc: 0.5000\n",
      "processed so far: [57.60]\n",
      "train size: [921] val size: [231]\n",
      "58/58 [==============================] - 50s 858ms/step - loss: 0.6830 - binary_accuracy: 0.5570 - false_negatives: 54.0000 - false_positives: 354.0000 - precision: 0.0900 - recall: 0.3933 - auc: 0.5043 - val_loss: 0.6933 - val_binary_accuracy: 0.1126 - val_false_negatives: 0.0000e+00 - val_false_positives: 205.0000 - val_precision: 0.1126 - val_recall: 1.0000 - val_auc: 0.5000\n",
      "processed so far: [59.52]\n",
      "train size: [921] val size: [231]\n",
      "58/58 [==============================] - 50s 859ms/step - loss: 0.6314 - binary_accuracy: 0.8784 - false_negatives: 73.0000 - false_positives: 39.0000 - precision: 0.0250 - recall: 0.0135 - auc: 0.5098 - val_loss: 0.6713 - val_binary_accuracy: 0.8918 - val_false_negatives: 25.0000 - val_false_positives: 0.0000e+00 - val_precision: 0.0000e+00 - val_recall: 0.0000e+00 - val_auc: 0.5000\n",
      "processed so far: [61.44]\n",
      "train size: [921] val size: [231]\n",
      "58/58 [==============================] - 50s 859ms/step - loss: 0.6793 - binary_accuracy: 0.9045 - false_negatives: 88.0000 - false_positives: 0.0000e+00 - precision: 0.0000e+00 - recall: 0.0000e+00 - auc: 0.4887 - val_loss: 0.6692 - val_binary_accuracy: 0.8745 - val_false_negatives: 29.0000 - val_false_positives: 0.0000e+00 - val_precision: 0.0000e+00 - val_recall: 0.0000e+00 - val_auc: 0.5000\n",
      "processed so far: [63.36]\n",
      "train size: [921] val size: [231]\n",
      "58/58 [==============================] - 50s 861ms/step - loss: 0.6842 - binary_accuracy: 0.9034 - false_negatives: 89.0000 - false_positives: 0.0000e+00 - precision: 0.0000e+00 - recall: 0.0000e+00 - auc: 0.4692 - val_loss: 0.6860 - val_binary_accuracy: 0.8745 - val_false_negatives: 29.0000 - val_false_positives: 0.0000e+00 - val_precision: 0.0000e+00 - val_recall: 0.0000e+00 - val_auc: 0.5000\n",
      "processed so far: [65.28]\n",
      "train size: [921] val size: [231]\n",
      "58/58 [==============================] - 50s 859ms/step - loss: 0.7105 - binary_accuracy: 0.2085 - false_negatives: 8.0000 - false_positives: 721.0000 - precision: 0.1099 - recall: 0.9175 - auc: 0.4678 - val_loss: 0.7038 - val_binary_accuracy: 0.1212 - val_false_negatives: 0.0000e+00 - val_false_positives: 203.0000 - val_precision: 0.1212 - val_recall: 1.0000 - val_auc: 0.5000\n",
      "processed so far: [67.20]\n",
      "train size: [921] val size: [231]\n",
      "58/58 [==============================] - 50s 860ms/step - loss: 0.6573 - binary_accuracy: 0.6428 - false_negatives: 65.0000 - false_positives: 264.0000 - precision: 0.0571 - recall: 0.1975 - auc: 0.4128 - val_loss: 0.6859 - val_binary_accuracy: 0.8442 - val_false_negatives: 36.0000 - val_false_positives: 0.0000e+00 - val_precision: 0.0000e+00 - val_recall: 0.0000e+00 - val_auc: 0.5000\n",
      "processed so far: [69.12]\n",
      "train size: [921] val size: [231]\n",
      "58/58 [==============================] - 50s 858ms/step - loss: 0.6694 - binary_accuracy: 0.9066 - false_negatives: 85.0000 - false_positives: 1.0000 - precision: 0.0000e+00 - recall: 0.0000e+00 - auc: 0.4548 - val_loss: 0.6608 - val_binary_accuracy: 0.9307 - val_false_negatives: 16.0000 - val_false_positives: 0.0000e+00 - val_precision: 0.0000e+00 - val_recall: 0.0000e+00 - val_auc: 0.5000\n",
      "processed so far: [71.04]\n",
      "train size: [921] val size: [231]\n",
      "58/58 [==============================] - 50s 859ms/step - loss: 0.6765 - binary_accuracy: 0.9055 - false_negatives: 87.0000 - false_positives: 0.0000e+00 - precision: 0.0000e+00 - recall: 0.0000e+00 - auc: 0.4478 - val_loss: 0.6686 - val_binary_accuracy: 0.9004 - val_false_negatives: 23.0000 - val_false_positives: 0.0000e+00 - val_precision: 0.0000e+00 - val_recall: 0.0000e+00 - val_auc: 0.5000\n",
      "processed so far: [72.96]\n",
      "train size: [921] val size: [231]\n",
      "58/58 [==============================] - 50s 863ms/step - loss: 0.7076 - binary_accuracy: 0.8632 - false_negatives: 94.0000 - false_positives: 32.0000 - precision: 0.0588 - recall: 0.0208 - auc: 0.4640 - val_loss: 0.6840 - val_binary_accuracy: 0.8874 - val_false_negatives: 26.0000 - val_false_positives: 0.0000e+00 - val_precision: 0.0000e+00 - val_recall: 0.0000e+00 - val_auc: 0.5000\n",
      "processed so far: [74.88]\n",
      "train size: [921] val size: [231]\n",
      "58/58 [==============================] - 50s 861ms/step - loss: 0.6483 - binary_accuracy: 0.9131 - false_negatives: 79.0000 - false_positives: 1.0000 - precision: 0.0000e+00 - recall: 0.0000e+00 - auc: 0.4657 - val_loss: 0.6623 - val_binary_accuracy: 0.9177 - val_false_negatives: 19.0000 - val_false_positives: 0.0000e+00 - val_precision: 0.0000e+00 - val_recall: 0.0000e+00 - val_auc: 0.5000\n",
      "processed so far: [76.80]\n",
      "train size: [921] val size: [231]\n",
      "58/58 [==============================] - 50s 859ms/step - loss: 0.7190 - binary_accuracy: 0.7763 - false_negatives: 88.0000 - false_positives: 118.0000 - precision: 0.0853 - recall: 0.1111 - auc: 0.4586 - val_loss: 0.6925 - val_binary_accuracy: 0.8874 - val_false_negatives: 26.0000 - val_false_positives: 0.0000e+00 - val_precision: 0.0000e+00 - val_recall: 0.0000e+00 - val_auc: 0.5000\n",
      "processed so far: [78.72]\n",
      "train size: [921] val size: [231]\n",
      "58/58 [==============================] - 50s 862ms/step - loss: 0.6516 - binary_accuracy: 0.8871 - false_negatives: 78.0000 - false_positives: 26.0000 - precision: 0.0714 - recall: 0.0250 - auc: 0.4834 - val_loss: 0.6729 - val_binary_accuracy: 0.8528 - val_false_negatives: 34.0000 - val_false_positives: 0.0000e+00 - val_precision: 0.0000e+00 - val_recall: 0.0000e+00 - val_auc: 0.5000\n",
      "processed so far: [80.64]\n",
      "train size: [921] val size: [231]\n",
      "58/58 [==============================] - 50s 860ms/step - loss: 0.7078 - binary_accuracy: 0.8958 - false_negatives: 96.0000 - false_positives: 0.0000e+00 - precision: 0.0000e+00 - recall: 0.0000e+00 - auc: 0.4866 - val_loss: 0.6803 - val_binary_accuracy: 0.9351 - val_false_negatives: 15.0000 - val_false_positives: 0.0000e+00 - val_precision: 0.0000e+00 - val_recall: 0.0000e+00 - val_auc: 0.5000\n",
      "processed so far: [82.56]\n",
      "train size: [921] val size: [231]\n",
      "58/58 [==============================] - 50s 858ms/step - loss: 0.7142 - binary_accuracy: 0.3594 - false_negatives: 43.0000 - false_positives: 547.0000 - precision: 0.0914 - recall: 0.5612 - auc: 0.4310 - val_loss: 0.6984 - val_binary_accuracy: 0.1039 - val_false_negatives: 0.0000e+00 - val_false_positives: 207.0000 - val_precision: 0.1039 - val_recall: 1.0000 - val_auc: 0.5000\n",
      "processed so far: [84.48]\n",
      "train size: [921] val size: [231]\n",
      "58/58 [==============================] - 50s 861ms/step - loss: 0.7193 - binary_accuracy: 0.1824 - false_negatives: 8.0000 - false_positives: 745.0000 - precision: 0.1099 - recall: 0.9200 - auc: 0.4911 - val_loss: 0.7041 - val_binary_accuracy: 0.1299 - val_false_negatives: 0.0000e+00 - val_false_positives: 201.0000 - val_precision: 0.1299 - val_recall: 1.0000 - val_auc: 0.5000\n",
      "processed so far: [86.40]\n",
      "train size: [921] val size: [231]\n",
      "58/58 [==============================] - 50s 860ms/step - loss: 0.6970 - binary_accuracy: 0.1401 - false_negatives: 13.0000 - false_positives: 779.0000 - precision: 0.0931 - recall: 0.8602 - auc: 0.4428 - val_loss: 0.7038 - val_binary_accuracy: 0.1169 - val_false_negatives: 0.0000e+00 - val_false_positives: 204.0000 - val_precision: 0.1169 - val_recall: 1.0000 - val_auc: 0.5000\n",
      "processed so far: [88.32]\n",
      "train size: [921] val size: [231]\n",
      "58/58 [==============================] - 50s 860ms/step - loss: 0.6802 - binary_accuracy: 0.2714 - false_negatives: 24.0000 - false_positives: 647.0000 - precision: 0.0900 - recall: 0.7273 - auc: 0.4750 - val_loss: 0.6894 - val_binary_accuracy: 0.8874 - val_false_negatives: 26.0000 - val_false_positives: 0.0000e+00 - val_precision: 0.0000e+00 - val_recall: 0.0000e+00 - val_auc: 0.5000\n",
      "processed so far: [90.24]\n",
      "train size: [921] val size: [231]\n",
      "58/58 [==============================] - 50s 861ms/step - loss: 0.6663 - binary_accuracy: 0.6895 - false_negatives: 66.0000 - false_positives: 220.0000 - precision: 0.0756 - recall: 0.2143 - auc: 0.4484 - val_loss: 0.6880 - val_binary_accuracy: 0.8831 - val_false_negatives: 27.0000 - val_false_positives: 0.0000e+00 - val_precision: 0.0000e+00 - val_recall: 0.0000e+00 - val_auc: 0.5000\n",
      "processed so far: [92.16]\n",
      "train size: [921] val size: [231]\n",
      "58/58 [==============================] - 50s 861ms/step - loss: 0.6656 - binary_accuracy: 0.9023 - false_negatives: 83.0000 - false_positives: 7.0000 - precision: 0.1250 - recall: 0.0119 - auc: 0.4949 - val_loss: 0.6768 - val_binary_accuracy: 0.9004 - val_false_negatives: 23.0000 - val_false_positives: 0.0000e+00 - val_precision: 0.0000e+00 - val_recall: 0.0000e+00 - val_auc: 0.5000\n",
      "processed so far: [94.08]\n",
      "train size: [921] val size: [231]\n",
      "58/58 [==============================] - 50s 859ms/step - loss: 0.7614 - binary_accuracy: 0.7188 - false_negatives: 86.0000 - false_positives: 173.0000 - precision: 0.1307 - recall: 0.2321 - auc: 0.4742 - val_loss: 0.6987 - val_binary_accuracy: 0.1082 - val_false_negatives: 0.0000e+00 - val_false_positives: 206.0000 - val_precision: 0.1082 - val_recall: 1.0000 - val_auc: 0.5000\n",
      "processed so far: [96.00]\n",
      "train size: [921] val size: [231]\n",
      "58/58 [==============================] - 50s 863ms/step - loss: 0.6435 - binary_accuracy: 0.1824 - false_negatives: 6.0000 - false_positives: 747.0000 - precision: 0.0868 - recall: 0.9221 - auc: 0.5131 - val_loss: 0.6890 - val_binary_accuracy: 0.8745 - val_false_negatives: 29.0000 - val_false_positives: 0.0000e+00 - val_precision: 0.0000e+00 - val_recall: 0.0000e+00 - val_auc: 0.5000\n",
      "processed so far: [97.92]\n",
      "train size: [921] val size: [231]\n",
      "58/58 [==============================] - 50s 860ms/step - loss: 0.6968 - binary_accuracy: 0.8860 - false_negatives: 93.0000 - false_positives: 12.0000 - precision: 0.0000e+00 - recall: 0.0000e+00 - auc: 0.4896 - val_loss: 0.6856 - val_binary_accuracy: 0.9091 - val_false_negatives: 21.0000 - val_false_positives: 0.0000e+00 - val_precision: 0.0000e+00 - val_recall: 0.0000e+00 - val_auc: 0.5000\n",
      "processed so far: [99.84]\n",
      "train size: [76] val size: [20]\n",
      "5/5 [==============================] - 17s 4s/step - loss: 0.7523 - binary_accuracy: 0.8816 - false_negatives: 9.0000 - false_positives: 0.0000e+00 - precision: 0.0000e+00 - recall: 0.0000e+00 - auc: 0.3715 - val_loss: 0.6867 - val_binary_accuracy: 0.9500 - val_false_negatives: 1.0000 - val_false_positives: 0.0000e+00 - val_precision: 0.0000e+00 - val_recall: 0.0000e+00 - val_auc: 0.5000\n",
      "processed so far: [101.76]\n",
      "Epoch: [1]\n",
      "train size: [921] val size: [231]\n",
      "58/58 [==============================] - 50s 858ms/step - loss: 0.7066 - binary_accuracy: 0.7329 - false_negatives: 77.0000 - false_positives: 169.0000 - precision: 0.1011 - recall: 0.1979 - auc: 0.4590 - val_loss: 0.6957 - val_binary_accuracy: 0.1385 - val_false_negatives: 0.0000e+00 - val_false_positives: 199.0000 - val_precision: 0.1385 - val_recall: 1.0000 - val_auc: 0.5000\n",
      "processed so far: [1.92]\n",
      "train size: [921] val size: [231]\n",
      "58/58 [==============================] - 50s 859ms/step - loss: 0.7229 - binary_accuracy: 0.1390 - false_negatives: 4.0000 - false_positives: 789.0000 - precision: 0.1095 - recall: 0.9604 - auc: 0.4588 - val_loss: 0.7051 - val_binary_accuracy: 0.0866 - val_false_negatives: 0.0000e+00 - val_false_positives: 211.0000 - val_precision: 0.0866 - val_recall: 1.0000 - val_auc: 0.5000\n",
      "processed so far: [3.84]\n",
      "train size: [921] val size: [231]\n",
      "58/58 [==============================] - 50s 858ms/step - loss: 0.6766 - binary_accuracy: 0.1531 - false_negatives: 8.0000 - false_positives: 772.0000 - precision: 0.0928 - recall: 0.9080 - auc: 0.4891 - val_loss: 0.7000 - val_binary_accuracy: 0.0823 - val_false_negatives: 0.0000e+00 - val_false_positives: 212.0000 - val_precision: 0.0823 - val_recall: 1.0000 - val_auc: 0.5000\n",
      "processed so far: [5.76]\n",
      "train size: [921] val size: [231]\n",
      "58/58 [==============================] - 50s 859ms/step - loss: 0.7353 - binary_accuracy: 0.1270 - false_negatives: 5.0000 - false_positives: 799.0000 - precision: 0.1112 - recall: 0.9524 - auc: 0.4963 - val_loss: 0.7132 - val_binary_accuracy: 0.1126 - val_false_negatives: 0.0000e+00 - val_false_positives: 205.0000 - val_precision: 0.1126 - val_recall: 1.0000 - val_auc: 0.5000\n",
      "processed so far: [7.68]\n",
      "train size: [921] val size: [231]\n",
      "58/58 [==============================] - 50s 859ms/step - loss: 0.7093 - binary_accuracy: 0.1075 - false_negatives: 0.0000e+00 - false_positives: 822.0000 - precision: 0.1055 - recall: 1.0000 - auc: 0.4765 - val_loss: 0.7121 - val_binary_accuracy: 0.1082 - val_false_negatives: 0.0000e+00 - val_false_positives: 206.0000 - val_precision: 0.1082 - val_recall: 1.0000 - val_auc: 0.5000\n",
      "processed so far: [9.60]\n",
      "train size: [921] val size: [231]\n",
      "58/58 [==============================] - 50s 861ms/step - loss: 0.6444 - binary_accuracy: 0.1107 - false_negatives: 3.0000 - false_positives: 816.0000 - precision: 0.0831 - recall: 0.9610 - auc: 0.4952 - val_loss: 0.6946 - val_binary_accuracy: 0.0909 - val_false_negatives: 0.0000e+00 - val_false_positives: 210.0000 - val_precision: 0.0909 - val_recall: 1.0000 - val_auc: 0.5000\n",
      "processed so far: [11.52]\n",
      "train size: [921] val size: [231]\n",
      "58/58 [==============================] - 50s 858ms/step - loss: 0.6763 - binary_accuracy: 0.4615 - false_negatives: 42.0000 - false_positives: 454.0000 - precision: 0.0902 - recall: 0.5172 - auc: 0.4820 - val_loss: 0.6902 - val_binary_accuracy: 0.8788 - val_false_negatives: 28.0000 - val_false_positives: 0.0000e+00 - val_precision: 0.0000e+00 - val_recall: 0.0000e+00 - val_auc: 0.5000\n",
      "processed so far: [13.44]\n",
      "train size: [921] val size: [231]\n",
      "58/58 [==============================] - 50s 861ms/step - loss: 0.7041 - binary_accuracy: 0.6721 - false_negatives: 78.0000 - false_positives: 224.0000 - precision: 0.0705 - recall: 0.1789 - auc: 0.4521 - val_loss: 0.6933 - val_binary_accuracy: 0.1299 - val_false_negatives: 0.0000e+00 - val_false_positives: 201.0000 - val_precision: 0.1299 - val_recall: 1.0000 - val_auc: 0.5000\n",
      "processed so far: [15.36]\n",
      "train size: [921] val size: [231]\n",
      "58/58 [==============================] - 50s 860ms/step - loss: 0.7168 - binary_accuracy: 0.6536 - false_negatives: 77.0000 - false_positives: 242.0000 - precision: 0.0833 - recall: 0.2222 - auc: 0.4727 - val_loss: 0.6970 - val_binary_accuracy: 0.1299 - val_false_negatives: 0.0000e+00 - val_false_positives: 201.0000 - val_precision: 0.1299 - val_recall: 1.0000 - val_auc: 0.5000\n",
      "processed so far: [17.28]\n",
      "train size: [921] val size: [231]\n",
      "58/58 [==============================] - 50s 860ms/step - loss: 0.6701 - binary_accuracy: 0.1585 - false_negatives: 8.0000 - false_positives: 767.0000 - precision: 0.0912 - recall: 0.9059 - auc: 0.4554 - val_loss: 0.6964 - val_binary_accuracy: 0.0823 - val_false_negatives: 0.0000e+00 - val_false_positives: 212.0000 - val_precision: 0.0823 - val_recall: 1.0000 - val_auc: 0.5000\n",
      "processed so far: [19.20]\n",
      "train size: [921] val size: [231]\n",
      "58/58 [==============================] - 50s 859ms/step - loss: 0.7168 - binary_accuracy: 0.2454 - false_negatives: 32.0000 - false_positives: 663.0000 - precision: 0.0918 - recall: 0.6768 - auc: 0.4713 - val_loss: 0.6965 - val_binary_accuracy: 0.1688 - val_false_negatives: 0.0000e+00 - val_false_positives: 192.0000 - val_precision: 0.1688 - val_recall: 1.0000 - val_auc: 0.5000\n",
      "processed so far: [21.12]\n",
      "train size: [921] val size: [231]\n",
      "58/58 [==============================] - 50s 861ms/step - loss: 0.6796 - binary_accuracy: 0.3355 - false_negatives: 25.0000 - false_positives: 587.0000 - precision: 0.0969 - recall: 0.7159 - auc: 0.4772 - val_loss: 0.6923 - val_binary_accuracy: 0.9091 - val_false_negatives: 21.0000 - val_false_positives: 0.0000e+00 - val_precision: 0.0000e+00 - val_recall: 0.0000e+00 - val_auc: 0.5000\n",
      "processed so far: [23.04]\n",
      "train size: [921] val size: [231]\n",
      "58/58 [==============================] - 50s 862ms/step - loss: 0.6555 - binary_accuracy: 0.7698 - false_negatives: 65.0000 - false_positives: 147.0000 - precision: 0.0982 - recall: 0.1975 - auc: 0.5024 - val_loss: 0.6811 - val_binary_accuracy: 0.9221 - val_false_negatives: 18.0000 - val_false_positives: 0.0000e+00 - val_precision: 0.0000e+00 - val_recall: 0.0000e+00 - val_auc: 0.5000\n",
      "processed so far: [24.96]\n",
      "train size: [921] val size: [231]\n",
      "58/58 [==============================] - 50s 860ms/step - loss: 0.7242 - binary_accuracy: 0.7014 - false_negatives: 84.0000 - false_positives: 191.0000 - precision: 0.0817 - recall: 0.1683 - auc: 0.4555 - val_loss: 0.6926 - val_binary_accuracy: 0.9524 - val_false_negatives: 11.0000 - val_false_positives: 0.0000e+00 - val_precision: 0.0000e+00 - val_recall: 0.0000e+00 - val_auc: 0.5000\n",
      "processed so far: [26.88]\n",
      "train size: [921] val size: [231]\n",
      "58/58 [==============================] - 50s 861ms/step - loss: 0.6863 - binary_accuracy: 0.3800 - false_negatives: 33.0000 - false_positives: 538.0000 - precision: 0.0958 - recall: 0.6333 - auc: 0.4726 - val_loss: 0.6926 - val_binary_accuracy: 0.9134 - val_false_negatives: 20.0000 - val_false_positives: 0.0000e+00 - val_precision: 0.0000e+00 - val_recall: 0.0000e+00 - val_auc: 0.5000\n",
      "processed so far: [28.80]\n",
      "train size: [921] val size: [231]\n",
      "58/58 [==============================] - 50s 861ms/step - loss: 0.6891 - binary_accuracy: 0.8339 - false_negatives: 79.0000 - false_positives: 74.0000 - precision: 0.1395 - recall: 0.1319 - auc: 0.5235 - val_loss: 0.6862 - val_binary_accuracy: 0.9004 - val_false_negatives: 23.0000 - val_false_positives: 0.0000e+00 - val_precision: 0.0000e+00 - val_recall: 0.0000e+00 - val_auc: 0.5000\n",
      "processed so far: [30.72]\n",
      "train size: [921] val size: [231]\n",
      "58/58 [==============================] - 50s 860ms/step - loss: 0.6937 - binary_accuracy: 0.8588 - false_negatives: 90.0000 - false_positives: 40.0000 - precision: 0.0476 - recall: 0.0217 - auc: 0.4204 - val_loss: 0.6865 - val_binary_accuracy: 0.8961 - val_false_negatives: 24.0000 - val_false_positives: 0.0000e+00 - val_precision: 0.0000e+00 - val_recall: 0.0000e+00 - val_auc: 0.5000\n",
      "processed so far: [32.64]\n",
      "train size: [921] val size: [231]\n",
      "58/58 [==============================] - 50s 859ms/step - loss: 0.7365 - binary_accuracy: 0.4267 - false_negatives: 44.0000 - false_positives: 484.0000 - precision: 0.1119 - recall: 0.5810 - auc: 0.4729 - val_loss: 0.7070 - val_binary_accuracy: 0.0952 - val_false_negatives: 0.0000e+00 - val_false_positives: 209.0000 - val_precision: 0.0952 - val_recall: 1.0000 - val_auc: 0.5000\n",
      "processed so far: [34.56]\n",
      "train size: [921] val size: [231]\n",
      "58/58 [==============================] - 50s 860ms/step - loss: 0.6835 - binary_accuracy: 0.1053 - false_negatives: 1.0000 - false_positives: 823.0000 - precision: 0.0966 - recall: 0.9888 - auc: 0.4773 - val_loss: 0.7033 - val_binary_accuracy: 0.1039 - val_false_negatives: 0.0000e+00 - val_false_positives: 207.0000 - val_precision: 0.1039 - val_recall: 1.0000 - val_auc: 0.5000\n",
      "processed so far: [36.48]\n",
      "train size: [921] val size: [231]\n",
      "58/58 [==============================] - 50s 860ms/step - loss: 0.6594 - binary_accuracy: 0.3496 - false_negatives: 27.0000 - false_positives: 572.0000 - precision: 0.0877 - recall: 0.6707 - auc: 0.5171 - val_loss: 0.6869 - val_binary_accuracy: 0.8745 - val_false_negatives: 29.0000 - val_false_positives: 0.0000e+00 - val_precision: 0.0000e+00 - val_recall: 0.0000e+00 - val_auc: 0.5000\n",
      "processed so far: [38.40]\n",
      "train size: [921] val size: [231]\n",
      "58/58 [==============================] - 50s 860ms/step - loss: 0.6448 - binary_accuracy: 0.9131 - false_negatives: 76.0000 - false_positives: 4.0000 - precision: 0.3333 - recall: 0.0256 - auc: 0.5277 - val_loss: 0.6763 - val_binary_accuracy: 0.8918 - val_false_negatives: 25.0000 - val_false_positives: 0.0000e+00 - val_precision: 0.0000e+00 - val_recall: 0.0000e+00 - val_auc: 0.5000\n",
      "processed so far: [40.32]\n",
      "train size: [921] val size: [231]\n",
      "58/58 [==============================] - 50s 862ms/step - loss: 0.6760 - binary_accuracy: 0.9055 - false_negatives: 87.0000 - false_positives: 0.0000e+00 - precision: 0.0000e+00 - recall: 0.0000e+00 - auc: 0.4634 - val_loss: 0.6743 - val_binary_accuracy: 0.9048 - val_false_negatives: 22.0000 - val_false_positives: 0.0000e+00 - val_precision: 0.0000e+00 - val_recall: 0.0000e+00 - val_auc: 0.5000\n",
      "processed so far: [42.24]\n",
      "train size: [921] val size: [231]\n",
      "58/58 [==============================] - 50s 858ms/step - loss: 0.6890 - binary_accuracy: 0.9012 - false_negatives: 91.0000 - false_positives: 0.0000e+00 - precision: 0.0000e+00 - recall: 0.0000e+00 - auc: 0.5478 - val_loss: 0.6776 - val_binary_accuracy: 0.9177 - val_false_negatives: 19.0000 - val_false_positives: 0.0000e+00 - val_precision: 0.0000e+00 - val_recall: 0.0000e+00 - val_auc: 0.5000\n",
      "processed so far: [44.16]\n",
      "train size: [921] val size: [231]\n",
      "58/58 [==============================] - 50s 861ms/step - loss: 0.6789 - binary_accuracy: 0.9045 - false_negatives: 88.0000 - false_positives: 0.0000e+00 - precision: 0.0000e+00 - recall: 0.0000e+00 - auc: 0.5256 - val_loss: 0.6777 - val_binary_accuracy: 0.8831 - val_false_negatives: 27.0000 - val_false_positives: 0.0000e+00 - val_precision: 0.0000e+00 - val_recall: 0.0000e+00 - val_auc: 0.5000\n",
      "processed so far: [46.08]\n",
      "train size: [921] val size: [231]\n",
      "58/58 [==============================] - 50s 861ms/step - loss: 0.6730 - binary_accuracy: 0.9066 - false_negatives: 86.0000 - false_positives: 0.0000e+00 - precision: 0.0000e+00 - recall: 0.0000e+00 - auc: 0.4446 - val_loss: 0.6714 - val_binary_accuracy: 0.9091 - val_false_negatives: 21.0000 - val_false_positives: 0.0000e+00 - val_precision: 0.0000e+00 - val_recall: 0.0000e+00 - val_auc: 0.5000\n",
      "processed so far: [48.00]\n",
      "train size: [921] val size: [231]\n",
      "58/58 [==============================] - 50s 860ms/step - loss: 0.6619 - binary_accuracy: 0.9099 - false_negatives: 83.0000 - false_positives: 0.0000e+00 - precision: 0.0000e+00 - recall: 0.0000e+00 - auc: 0.4694 - val_loss: 0.6755 - val_binary_accuracy: 0.8701 - val_false_negatives: 30.0000 - val_false_positives: 0.0000e+00 - val_precision: 0.0000e+00 - val_recall: 0.0000e+00 - val_auc: 0.5000\n",
      "processed so far: [49.92]\n",
      "train size: [921] val size: [231]\n",
      "58/58 [==============================] - 50s 859ms/step - loss: 0.6927 - binary_accuracy: 0.9001 - false_negatives: 92.0000 - false_positives: 0.0000e+00 - precision: 0.0000e+00 - recall: 0.0000e+00 - auc: 0.5193 - val_loss: 0.6729 - val_binary_accuracy: 0.9351 - val_false_negatives: 15.0000 - val_false_positives: 0.0000e+00 - val_precision: 0.0000e+00 - val_recall: 0.0000e+00 - val_auc: 0.5000\n",
      "processed so far: [51.84]\n",
      "train size: [921] val size: [231]\n",
      "58/58 [==============================] - 50s 860ms/step - loss: 0.7037 - binary_accuracy: 0.8849 - false_negatives: 93.0000 - false_positives: 13.0000 - precision: 0.1333 - recall: 0.0211 - auc: 0.4429 - val_loss: 0.6842 - val_binary_accuracy: 0.9004 - val_false_negatives: 23.0000 - val_false_positives: 0.0000e+00 - val_precision: 0.0000e+00 - val_recall: 0.0000e+00 - val_auc: 0.5000\n",
      "processed so far: [53.76]\n",
      "train size: [921] val size: [231]\n",
      "58/58 [==============================] - 50s 860ms/step - loss: 0.6517 - binary_accuracy: 0.9034 - false_negatives: 78.0000 - false_positives: 11.0000 - precision: 0.1538 - recall: 0.0250 - auc: 0.5010 - val_loss: 0.6718 - val_binary_accuracy: 0.9004 - val_false_negatives: 23.0000 - val_false_positives: 0.0000e+00 - val_precision: 0.0000e+00 - val_recall: 0.0000e+00 - val_auc: 0.5000\n",
      "processed so far: [55.68]\n",
      "train size: [921] val size: [231]\n",
      "58/58 [==============================] - 50s 860ms/step - loss: 0.6829 - binary_accuracy: 0.9034 - false_negatives: 89.0000 - false_positives: 0.0000e+00 - precision: 0.0000e+00 - recall: 0.0000e+00 - auc: 0.4677 - val_loss: 0.6743 - val_binary_accuracy: 0.9221 - val_false_negatives: 18.0000 - val_false_positives: 0.0000e+00 - val_precision: 0.0000e+00 - val_recall: 0.0000e+00 - val_auc: 0.5000\n",
      "processed so far: [57.60]\n",
      "train size: [921] val size: [231]\n",
      "58/58 [==============================] - 50s 861ms/step - loss: 0.6329 - binary_accuracy: 0.9186 - false_negatives: 75.0000 - false_positives: 0.0000e+00 - precision: 0.0000e+00 - recall: 0.0000e+00 - auc: 0.4937 - val_loss: 0.6620 - val_binary_accuracy: 0.8831 - val_false_negatives: 27.0000 - val_false_positives: 0.0000e+00 - val_precision: 0.0000e+00 - val_recall: 0.0000e+00 - val_auc: 0.5000\n",
      "processed so far: [59.52]\n",
      "train size: [921] val size: [231]\n",
      "58/58 [==============================] - 50s 861ms/step - loss: 0.7010 - binary_accuracy: 0.8979 - false_negatives: 94.0000 - false_positives: 0.0000e+00 - precision: 0.0000e+00 - recall: 0.0000e+00 - auc: 0.4969 - val_loss: 0.6633 - val_binary_accuracy: 0.9048 - val_false_negatives: 22.0000 - val_false_positives: 0.0000e+00 - val_precision: 0.0000e+00 - val_recall: 0.0000e+00 - val_auc: 0.5000\n",
      "processed so far: [61.44]\n",
      "train size: [921] val size: [231]\n",
      "58/58 [==============================] - 50s 859ms/step - loss: 0.6938 - binary_accuracy: 0.9001 - false_negatives: 92.0000 - false_positives: 0.0000e+00 - precision: 0.0000e+00 - recall: 0.0000e+00 - auc: 0.4776 - val_loss: 0.6762 - val_binary_accuracy: 0.9221 - val_false_negatives: 18.0000 - val_false_positives: 0.0000e+00 - val_precision: 0.0000e+00 - val_recall: 0.0000e+00 - val_auc: 0.5000\n",
      "processed so far: [63.36]\n",
      "train size: [921] val size: [231]\n",
      "58/58 [==============================] - 50s 861ms/step - loss: 0.7106 - binary_accuracy: 0.8914 - false_negatives: 97.0000 - false_positives: 3.0000 - precision: 0.0000e+00 - recall: 0.0000e+00 - auc: 0.5072 - val_loss: 0.6841 - val_binary_accuracy: 0.9437 - val_false_negatives: 13.0000 - val_false_positives: 0.0000e+00 - val_precision: 0.0000e+00 - val_recall: 0.0000e+00 - val_auc: 0.5000\n",
      "processed so far: [65.28]\n",
      "train size: [921] val size: [231]\n",
      "58/58 [==============================] - 50s 858ms/step - loss: 0.6764 - binary_accuracy: 0.8024 - false_negatives: 83.0000 - false_positives: 99.0000 - precision: 0.0388 - recall: 0.0460 - auc: 0.4656 - val_loss: 0.6844 - val_binary_accuracy: 0.9048 - val_false_negatives: 22.0000 - val_false_positives: 0.0000e+00 - val_precision: 0.0000e+00 - val_recall: 0.0000e+00 - val_auc: 0.5000\n",
      "processed so far: [67.20]\n",
      "train size: [921] val size: [231]\n",
      "58/58 [==============================] - 50s 859ms/step - loss: 0.7137 - binary_accuracy: 0.6265 - false_negatives: 69.0000 - false_positives: 275.0000 - precision: 0.0954 - recall: 0.2959 - auc: 0.4638 - val_loss: 0.6938 - val_binary_accuracy: 0.1342 - val_false_negatives: 0.0000e+00 - val_false_positives: 200.0000 - val_precision: 0.1342 - val_recall: 1.0000 - val_auc: 0.5000\n",
      "processed so far: [69.12]\n",
      "train size: [921] val size: [231]\n",
      "58/58 [==============================] - 50s 858ms/step - loss: 0.7002 - binary_accuracy: 0.7557 - false_negatives: 88.0000 - false_positives: 137.0000 - precision: 0.0420 - recall: 0.0638 - auc: 0.4595 - val_loss: 0.6897 - val_binary_accuracy: 0.9004 - val_false_negatives: 23.0000 - val_false_positives: 0.0000e+00 - val_precision: 0.0000e+00 - val_recall: 0.0000e+00 - val_auc: 0.5000\n",
      "processed so far: [71.04]\n",
      "train size: [921] val size: [231]\n",
      "58/58 [==============================] - 50s 859ms/step - loss: 0.7129 - binary_accuracy: 0.1933 - false_negatives: 16.0000 - false_positives: 727.0000 - precision: 0.1014 - recall: 0.8367 - auc: 0.4847 - val_loss: 0.7028 - val_binary_accuracy: 0.1385 - val_false_negatives: 0.0000e+00 - val_false_positives: 199.0000 - val_precision: 0.1385 - val_recall: 1.0000 - val_auc: 0.5000\n",
      "processed so far: [72.96]\n",
      "train size: [921] val size: [231]\n",
      "58/58 [==============================] - 50s 863ms/step - loss: 0.6494 - binary_accuracy: 0.2845 - false_negatives: 14.0000 - false_positives: 645.0000 - precision: 0.0915 - recall: 0.8228 - auc: 0.5195 - val_loss: 0.6903 - val_binary_accuracy: 0.8225 - val_false_negatives: 41.0000 - val_false_positives: 0.0000e+00 - val_precision: 0.0000e+00 - val_recall: 0.0000e+00 - val_auc: 0.5000\n",
      "processed so far: [74.88]\n",
      "train size: [921] val size: [231]\n",
      "58/58 [==============================] - 50s 860ms/step - loss: 0.6697 - binary_accuracy: 0.8947 - false_negatives: 84.0000 - false_positives: 13.0000 - precision: 0.0714 - recall: 0.0118 - auc: 0.4468 - val_loss: 0.6774 - val_binary_accuracy: 0.9221 - val_false_negatives: 18.0000 - val_false_positives: 0.0000e+00 - val_precision: 0.0000e+00 - val_recall: 0.0000e+00 - val_auc: 0.5000\n",
      "processed so far: [76.80]\n",
      "train size: [921] val size: [231]\n",
      "58/58 [==============================] - 50s 859ms/step - loss: 0.6969 - binary_accuracy: 0.8795 - false_negatives: 92.0000 - false_positives: 19.0000 - precision: 0.0500 - recall: 0.0108 - auc: 0.4814 - val_loss: 0.6852 - val_binary_accuracy: 0.8874 - val_false_negatives: 26.0000 - val_false_positives: 0.0000e+00 - val_precision: 0.0000e+00 - val_recall: 0.0000e+00 - val_auc: 0.5000\n",
      "processed so far: [78.72]\n",
      "train size: [921] val size: [231]\n",
      "58/58 [==============================] - 50s 857ms/step - loss: 0.6689 - binary_accuracy: 0.9045 - false_negatives: 84.0000 - false_positives: 4.0000 - precision: 0.2000 - recall: 0.0118 - auc: 0.4749 - val_loss: 0.6784 - val_binary_accuracy: 0.8874 - val_false_negatives: 26.0000 - val_false_positives: 0.0000e+00 - val_precision: 0.0000e+00 - val_recall: 0.0000e+00 - val_auc: 0.5000\n",
      "processed so far: [80.64]\n",
      "train size: [921] val size: [231]\n",
      "58/58 [==============================] - 50s 858ms/step - loss: 0.7171 - binary_accuracy: 0.8817 - false_negatives: 99.0000 - false_positives: 10.0000 - precision: 0.0000e+00 - recall: 0.0000e+00 - auc: 0.4762 - val_loss: 0.6861 - val_binary_accuracy: 0.8874 - val_false_negatives: 26.0000 - val_false_positives: 0.0000e+00 - val_precision: 0.0000e+00 - val_recall: 0.0000e+00 - val_auc: 0.5000\n",
      "processed so far: [82.56]\n",
      "train size: [921] val size: [231]\n",
      "58/58 [==============================] - 50s 858ms/step - loss: 0.7454 - binary_accuracy: 0.3941 - false_negatives: 34.0000 - false_positives: 524.0000 - precision: 0.1237 - recall: 0.6852 - auc: 0.5199 - val_loss: 0.7201 - val_binary_accuracy: 0.1039 - val_false_negatives: 0.0000e+00 - val_false_positives: 207.0000 - val_precision: 0.1039 - val_recall: 1.0000 - val_auc: 0.5000\n",
      "processed so far: [84.48]\n",
      "train size: [921] val size: [231]\n",
      "58/58 [==============================] - 50s 858ms/step - loss: 0.7320 - binary_accuracy: 0.1140 - false_negatives: 0.0000e+00 - false_positives: 816.0000 - precision: 0.1130 - recall: 1.0000 - auc: 0.4671 - val_loss: 0.7309 - val_binary_accuracy: 0.0996 - val_false_negatives: 0.0000e+00 - val_false_positives: 208.0000 - val_precision: 0.0996 - val_recall: 1.0000 - val_auc: 0.5000\n",
      "processed so far: [86.40]\n",
      "train size: [921] val size: [231]\n",
      "58/58 [==============================] - 50s 858ms/step - loss: 0.7526 - binary_accuracy: 0.1325 - false_negatives: 1.0000 - false_positives: 798.0000 - precision: 0.1202 - recall: 0.9909 - auc: 0.4497 - val_loss: 0.7163 - val_binary_accuracy: 0.1342 - val_false_negatives: 0.0000e+00 - val_false_positives: 200.0000 - val_precision: 0.1342 - val_recall: 1.0000 - val_auc: 0.5000\n",
      "processed so far: [88.32]\n",
      "train size: [921] val size: [231]\n",
      "58/58 [==============================] - 50s 857ms/step - loss: 0.6916 - binary_accuracy: 0.0988 - false_negatives: 0.0000e+00 - false_positives: 830.0000 - precision: 0.0988 - recall: 1.0000 - auc: 0.4435 - val_loss: 0.7181 - val_binary_accuracy: 0.1169 - val_false_negatives: 0.0000e+00 - val_false_positives: 204.0000 - val_precision: 0.1169 - val_recall: 1.0000 - val_auc: 0.5000\n",
      "processed so far: [90.24]\n",
      "train size: [921] val size: [231]\n",
      "58/58 [==============================] - 50s 859ms/step - loss: 0.6817 - binary_accuracy: 0.4875 - false_negatives: 55.0000 - false_positives: 417.0000 - precision: 0.0733 - recall: 0.3750 - auc: 0.4330 - val_loss: 0.6955 - val_binary_accuracy: 0.1126 - val_false_negatives: 0.0000e+00 - val_false_positives: 205.0000 - val_precision: 0.1126 - val_recall: 1.0000 - val_auc: 0.5000\n",
      "processed so far: [92.16]\n",
      "train size: [921] val size: [231]\n",
      "58/58 [==============================] - 50s 858ms/step - loss: 0.6866 - binary_accuracy: 0.3931 - false_negatives: 34.0000 - false_positives: 525.0000 - precision: 0.0964 - recall: 0.6222 - auc: 0.4835 - val_loss: 0.6929 - val_binary_accuracy: 0.9004 - val_false_negatives: 23.0000 - val_false_positives: 0.0000e+00 - val_precision: 0.0000e+00 - val_recall: 0.0000e+00 - val_auc: 0.5000\n",
      "processed so far: [94.08]\n",
      "train size: [921] val size: [231]\n",
      "58/58 [==============================] - 50s 858ms/step - loss: 0.7169 - binary_accuracy: 0.4680 - false_negatives: 49.0000 - false_positives: 441.0000 - precision: 0.1018 - recall: 0.5051 - auc: 0.4823 - val_loss: 0.7039 - val_binary_accuracy: 0.1039 - val_false_negatives: 0.0000e+00 - val_false_positives: 207.0000 - val_precision: 0.1039 - val_recall: 1.0000 - val_auc: 0.5000\n",
      "processed so far: [96.00]\n",
      "train size: [921] val size: [231]\n",
      "58/58 [==============================] - 50s 858ms/step - loss: 0.6589 - binary_accuracy: 0.3963 - false_negatives: 27.0000 - false_positives: 529.0000 - precision: 0.0942 - recall: 0.6707 - auc: 0.5425 - val_loss: 0.6842 - val_binary_accuracy: 0.9524 - val_false_negatives: 11.0000 - val_false_positives: 0.0000e+00 - val_precision: 0.0000e+00 - val_recall: 0.0000e+00 - val_auc: 0.5000\n",
      "processed so far: [97.92]\n",
      "train size: [921] val size: [231]\n",
      "58/58 [==============================] - 50s 857ms/step - loss: 0.6675 - binary_accuracy: 0.8838 - false_negatives: 84.0000 - false_positives: 23.0000 - precision: 0.0000e+00 - recall: 0.0000e+00 - auc: 0.4188 - val_loss: 0.6730 - val_binary_accuracy: 0.9091 - val_false_negatives: 21.0000 - val_false_positives: 0.0000e+00 - val_precision: 0.0000e+00 - val_recall: 0.0000e+00 - val_auc: 0.5000\n",
      "processed so far: [99.84]\n",
      "train size: [76] val size: [20]\n",
      "5/5 [==============================] - 4s 855ms/step - loss: 0.7948 - binary_accuracy: 0.8684 - false_negatives: 10.0000 - false_positives: 0.0000e+00 - precision: 0.0000e+00 - recall: 0.0000e+00 - auc: 0.4932 - val_loss: 0.6775 - val_binary_accuracy: 0.8500 - val_false_negatives: 3.0000 - val_false_positives: 0.0000e+00 - val_precision: 0.0000e+00 - val_recall: 0.0000e+00 - val_auc: 0.5000\n",
      "processed so far: [101.76]\n",
      "Epoch: [2]\n",
      "train size: [921] val size: [231]\n",
      "58/58 [==============================] - 50s 858ms/step - loss: 0.6974 - binary_accuracy: 0.8274 - false_negatives: 86.0000 - false_positives: 73.0000 - precision: 0.0875 - recall: 0.0753 - auc: 0.4377 - val_loss: 0.6823 - val_binary_accuracy: 0.9221 - val_false_negatives: 18.0000 - val_false_positives: 0.0000e+00 - val_precision: 0.0000e+00 - val_recall: 0.0000e+00 - val_auc: 0.5000\n",
      "processed so far: [1.92]\n",
      "train size: [921] val size: [231]\n",
      "58/58 [==============================] - 50s 858ms/step - loss: 0.7909 - binary_accuracy: 0.3094 - false_negatives: 28.0000 - false_positives: 608.0000 - precision: 0.1339 - recall: 0.7705 - auc: 0.4965 - val_loss: 0.7394 - val_binary_accuracy: 0.1082 - val_false_negatives: 0.0000e+00 - val_false_positives: 206.0000 - val_precision: 0.1082 - val_recall: 1.0000 - val_auc: 0.5000\n",
      "processed so far: [3.84]\n",
      "train size: [921] val size: [231]\n",
      "58/58 [==============================] - 50s 859ms/step - loss: 0.6621 - binary_accuracy: 0.1596 - false_negatives: 11.0000 - false_positives: 763.0000 - precision: 0.0851 - recall: 0.8659 - auc: 0.4943 - val_loss: 0.6938 - val_binary_accuracy: 0.0952 - val_false_negatives: 0.0000e+00 - val_false_positives: 209.0000 - val_precision: 0.0952 - val_recall: 1.0000 - val_auc: 0.5000\n",
      "processed so far: [5.76]\n",
      "train size: [921] val size: [231]\n",
      "58/58 [==============================] - 50s 859ms/step - loss: 0.6278 - binary_accuracy: 0.8469 - false_negatives: 70.0000 - false_positives: 71.0000 - precision: 0.0405 - recall: 0.0411 - auc: 0.4661 - val_loss: 0.6350 - val_binary_accuracy: 0.8745 - val_false_negatives: 29.0000 - val_false_positives: 0.0000e+00 - val_precision: 0.0000e+00 - val_recall: 0.0000e+00 - val_auc: 0.5000\n",
      "processed so far: [7.68]\n",
      "train size: [921] val size: [231]\n",
      "58/58 [==============================] - 50s 858ms/step - loss: 0.6940 - binary_accuracy: 0.8936 - false_negatives: 89.0000 - false_positives: 9.0000 - precision: 0.2500 - recall: 0.0326 - auc: 0.4916 - val_loss: 0.6740 - val_binary_accuracy: 0.9048 - val_false_negatives: 22.0000 - val_false_positives: 0.0000e+00 - val_precision: 0.0000e+00 - val_recall: 0.0000e+00 - val_auc: 0.5000\n",
      "processed so far: [9.60]\n",
      "train size: [921] val size: [231]\n",
      "58/58 [==============================] - 50s 859ms/step - loss: 0.7043 - binary_accuracy: 0.6764 - false_negatives: 74.0000 - false_positives: 224.0000 - precision: 0.0857 - recall: 0.2211 - auc: 0.4590 - val_loss: 0.6947 - val_binary_accuracy: 0.0909 - val_false_negatives: 0.0000e+00 - val_false_positives: 210.0000 - val_precision: 0.0909 - val_recall: 1.0000 - val_auc: 0.5000\n",
      "processed so far: [11.52]\n",
      "train size: [921] val size: [231]\n",
      "58/58 [==============================] - 50s 860ms/step - loss: 0.7261 - binary_accuracy: 0.3474 - false_negatives: 26.0000 - false_positives: 575.0000 - precision: 0.1167 - recall: 0.7451 - auc: 0.4864 - val_loss: 0.7142 - val_binary_accuracy: 0.0866 - val_false_negatives: 0.0000e+00 - val_false_positives: 211.0000 - val_precision: 0.0866 - val_recall: 1.0000 - val_auc: 0.5000\n",
      "processed so far: [13.44]\n",
      "train size: [921] val size: [231]\n",
      "58/58 [==============================] - 50s 859ms/step - loss: 0.6896 - binary_accuracy: 0.1835 - false_negatives: 10.0000 - false_positives: 742.0000 - precision: 0.0984 - recall: 0.8901 - auc: 0.5080 - val_loss: 0.7075 - val_binary_accuracy: 0.1126 - val_false_negatives: 0.0000e+00 - val_false_positives: 205.0000 - val_precision: 0.1126 - val_recall: 1.0000 - val_auc: 0.5000\n",
      "processed so far: [15.36]\n",
      "train size: [921] val size: [231]\n",
      "58/58 [==============================] - 50s 856ms/step - loss: 0.6895 - binary_accuracy: 0.1933 - false_negatives: 15.0000 - false_positives: 728.0000 - precision: 0.0945 - recall: 0.8352 - auc: 0.5226 - val_loss: 0.7007 - val_binary_accuracy: 0.1342 - val_false_negatives: 0.0000e+00 - val_false_positives: 200.0000 - val_precision: 0.1342 - val_recall: 1.0000 - val_auc: 0.5000\n",
      "processed so far: [17.28]\n",
      "train size: [921] val size: [231]\n",
      "58/58 [==============================] - 50s 856ms/step - loss: 0.6848 - binary_accuracy: 0.6515 - false_negatives: 66.0000 - false_positives: 255.0000 - precision: 0.0827 - recall: 0.2584 - auc: 0.4270 - val_loss: 0.6895 - val_binary_accuracy: 0.9307 - val_false_negatives: 16.0000 - val_false_positives: 0.0000e+00 - val_precision: 0.0000e+00 - val_recall: 0.0000e+00 - val_auc: 0.5000\n",
      "processed so far: [19.20]\n",
      "train size: [921] val size: [231]\n",
      "58/58 [==============================] - 50s 858ms/step - loss: 0.6596 - binary_accuracy: 0.5624 - false_negatives: 50.0000 - false_positives: 353.0000 - precision: 0.0831 - recall: 0.3902 - auc: 0.4773 - val_loss: 0.6781 - val_binary_accuracy: 0.9177 - val_false_negatives: 19.0000 - val_false_positives: 0.0000e+00 - val_precision: 0.0000e+00 - val_recall: 0.0000e+00 - val_auc: 0.5000\n",
      "processed so far: [21.12]\n",
      "train size: [921] val size: [231]\n",
      "58/58 [==============================] - 50s 858ms/step - loss: 0.6696 - binary_accuracy: 0.9012 - false_negatives: 85.0000 - false_positives: 6.0000 - precision: 0.0000e+00 - recall: 0.0000e+00 - auc: 0.4603 - val_loss: 0.6702 - val_binary_accuracy: 0.8918 - val_false_negatives: 25.0000 - val_false_positives: 0.0000e+00 - val_precision: 0.0000e+00 - val_recall: 0.0000e+00 - val_auc: 0.5000\n",
      "processed so far: [23.04]\n",
      "train size: [921] val size: [231]\n",
      "58/58 [==============================] - 50s 857ms/step - loss: 0.6636 - binary_accuracy: 0.9099 - false_negatives: 83.0000 - false_positives: 0.0000e+00 - precision: 0.0000e+00 - recall: 0.0000e+00 - auc: 0.4125 - val_loss: 0.6593 - val_binary_accuracy: 0.8874 - val_false_negatives: 26.0000 - val_false_positives: 0.0000e+00 - val_precision: 0.0000e+00 - val_recall: 0.0000e+00 - val_auc: 0.5000\n",
      "processed so far: [24.96]\n",
      "train size: [921] val size: [231]\n",
      "58/58 [==============================] - 50s 857ms/step - loss: 0.7011 - binary_accuracy: 0.8969 - false_negatives: 93.0000 - false_positives: 2.0000 - precision: 0.3333 - recall: 0.0106 - auc: 0.4736 - val_loss: 0.6757 - val_binary_accuracy: 0.9091 - val_false_negatives: 21.0000 - val_false_positives: 0.0000e+00 - val_precision: 0.0000e+00 - val_recall: 0.0000e+00 - val_auc: 0.5000\n",
      "processed so far: [26.88]\n",
      "train size: [921] val size: [231]\n",
      "58/58 [==============================] - 50s 858ms/step - loss: 0.6895 - binary_accuracy: 0.8893 - false_negatives: 86.0000 - false_positives: 16.0000 - precision: 0.2381 - recall: 0.0549 - auc: 0.5000 - val_loss: 0.6817 - val_binary_accuracy: 0.9048 - val_false_negatives: 22.0000 - val_false_positives: 0.0000e+00 - val_precision: 0.0000e+00 - val_recall: 0.0000e+00 - val_auc: 0.5000\n",
      "processed so far: [28.80]\n",
      "train size: [921] val size: [231]\n",
      "58/58 [==============================] - 50s 857ms/step - loss: 0.6485 - binary_accuracy: 0.8936 - false_negatives: 78.0000 - false_positives: 20.0000 - precision: 0.0476 - recall: 0.0127 - auc: 0.4510 - val_loss: 0.6691 - val_binary_accuracy: 0.8831 - val_false_negatives: 27.0000 - val_false_positives: 0.0000e+00 - val_precision: 0.0000e+00 - val_recall: 0.0000e+00 - val_auc: 0.5000\n",
      "processed so far: [30.72]\n",
      "train size: [921] val size: [231]\n",
      "58/58 [==============================] - 50s 862ms/step - loss: 0.6698 - binary_accuracy: 0.9077 - false_negatives: 85.0000 - false_positives: 0.0000e+00 - precision: 0.0000e+00 - recall: 0.0000e+00 - auc: 0.4475 - val_loss: 0.6581 - val_binary_accuracy: 0.9004 - val_false_negatives: 23.0000 - val_false_positives: 0.0000e+00 - val_precision: 0.0000e+00 - val_recall: 0.0000e+00 - val_auc: 0.5000\n",
      "processed so far: [32.64]\n",
      "train size: [921] val size: [231]\n",
      "58/58 [==============================] - 50s 857ms/step - loss: 0.7362 - binary_accuracy: 0.8621 - false_negatives: 101.0000 - false_positives: 26.0000 - precision: 0.1034 - recall: 0.0288 - auc: 0.4683 - val_loss: 0.6868 - val_binary_accuracy: 0.9177 - val_false_negatives: 19.0000 - val_false_positives: 0.0000e+00 - val_precision: 0.0000e+00 - val_recall: 0.0000e+00 - val_auc: 0.5000\n",
      "processed so far: [34.56]\n",
      "train size: [921] val size: [231]\n",
      "58/58 [==============================] - 50s 857ms/step - loss: 0.7265 - binary_accuracy: 0.2324 - false_negatives: 17.0000 - false_positives: 690.0000 - precision: 0.1097 - recall: 0.8333 - auc: 0.4586 - val_loss: 0.7109 - val_binary_accuracy: 0.1255 - val_false_negatives: 0.0000e+00 - val_false_positives: 202.0000 - val_precision: 0.1255 - val_recall: 1.0000 - val_auc: 0.5000\n",
      "processed so far: [36.48]\n",
      "train size: [921] val size: [231]\n",
      "58/58 [==============================] - 50s 857ms/step - loss: 0.6696 - binary_accuracy: 0.2063 - false_negatives: 11.0000 - false_positives: 720.0000 - precision: 0.0932 - recall: 0.8706 - auc: 0.5123 - val_loss: 0.6942 - val_binary_accuracy: 0.0866 - val_false_negatives: 0.0000e+00 - val_false_positives: 211.0000 - val_precision: 0.0866 - val_recall: 1.0000 - val_auc: 0.5000\n",
      "processed so far: [38.40]\n",
      "train size: [921] val size: [231]\n",
      "58/58 [==============================] - 50s 859ms/step - loss: 0.6910 - binary_accuracy: 0.7134 - false_negatives: 76.0000 - false_positives: 188.0000 - precision: 0.0739 - recall: 0.1648 - auc: 0.4297 - val_loss: 0.6869 - val_binary_accuracy: 0.8918 - val_false_negatives: 25.0000 - val_false_positives: 0.0000e+00 - val_precision: 0.0000e+00 - val_recall: 0.0000e+00 - val_auc: 0.5000\n",
      "processed so far: [40.32]\n",
      "train size: [921] val size: [231]\n",
      "58/58 [==============================] - 50s 859ms/step - loss: 0.7073 - binary_accuracy: 0.5027 - false_negatives: 57.0000 - false_positives: 401.0000 - precision: 0.0886 - recall: 0.4062 - auc: 0.4395 - val_loss: 0.6922 - val_binary_accuracy: 0.8961 - val_false_negatives: 24.0000 - val_false_positives: 0.0000e+00 - val_precision: 0.0000e+00 - val_recall: 0.0000e+00 - val_auc: 0.5000\n",
      "processed so far: [42.24]\n",
      "train size: [921] val size: [231]\n",
      "58/58 [==============================] - 50s 859ms/step - loss: 0.6840 - binary_accuracy: 0.7731 - false_negatives: 79.0000 - false_positives: 130.0000 - precision: 0.0714 - recall: 0.1124 - auc: 0.4491 - val_loss: 0.6883 - val_binary_accuracy: 0.9091 - val_false_negatives: 21.0000 - val_false_positives: 0.0000e+00 - val_precision: 0.0000e+00 - val_recall: 0.0000e+00 - val_auc: 0.5000\n",
      "processed so far: [44.16]\n",
      "train size: [921] val size: [231]\n",
      "58/58 [==============================] - 50s 859ms/step - loss: 0.7088 - binary_accuracy: 0.3290 - false_negatives: 21.0000 - false_positives: 597.0000 - precision: 0.1129 - recall: 0.7835 - auc: 0.5293 - val_loss: 0.7016 - val_binary_accuracy: 0.0996 - val_false_negatives: 0.0000e+00 - val_false_positives: 208.0000 - val_precision: 0.0996 - val_recall: 1.0000 - val_auc: 0.5000\n",
      "processed so far: [46.08]\n",
      "train size: [921] val size: [231]\n",
      "58/58 [==============================] - 50s 859ms/step - loss: 0.7198 - binary_accuracy: 0.2009 - false_negatives: 15.0000 - false_positives: 721.0000 - precision: 0.1055 - recall: 0.8500 - auc: 0.4608 - val_loss: 0.7093 - val_binary_accuracy: 0.1126 - val_false_negatives: 0.0000e+00 - val_false_positives: 205.0000 - val_precision: 0.1126 - val_recall: 1.0000 - val_auc: 0.5000\n",
      "processed so far: [48.00]\n",
      "train size: [921] val size: [231]\n",
      "58/58 [==============================] - 50s 861ms/step - loss: 0.6307 - binary_accuracy: 0.5255 - false_negatives: 43.0000 - false_positives: 394.0000 - precision: 0.0708 - recall: 0.4110 - auc: 0.4323 - val_loss: 0.6819 - val_binary_accuracy: 0.8831 - val_false_negatives: 27.0000 - val_false_positives: 0.0000e+00 - val_precision: 0.0000e+00 - val_recall: 0.0000e+00 - val_auc: 0.5000\n",
      "processed so far: [49.92]\n",
      "train size: [921] val size: [231]\n",
      "58/58 [==============================] - 50s 858ms/step - loss: 0.7066 - binary_accuracy: 0.8165 - false_negatives: 87.0000 - false_positives: 82.0000 - precision: 0.0989 - recall: 0.0938 - auc: 0.5040 - val_loss: 0.6876 - val_binary_accuracy: 0.8961 - val_false_negatives: 24.0000 - val_false_positives: 0.0000e+00 - val_precision: 0.0000e+00 - val_recall: 0.0000e+00 - val_auc: 0.5000\n",
      "processed so far: [51.84]\n",
      "train size: [921] val size: [231]\n",
      "58/58 [==============================] - 50s 859ms/step - loss: 0.7108 - binary_accuracy: 0.3920 - false_negatives: 51.0000 - false_positives: 509.0000 - precision: 0.0829 - recall: 0.4742 - auc: 0.4210 - val_loss: 0.7004 - val_binary_accuracy: 0.1039 - val_false_negatives: 0.0000e+00 - val_false_positives: 207.0000 - val_precision: 0.1039 - val_recall: 1.0000 - val_auc: 0.5000\n",
      "processed so far: [53.76]\n",
      "train size: [921] val size: [231]\n",
      "58/58 [==============================] - 50s 859ms/step - loss: 0.6820 - binary_accuracy: 0.5049 - false_negatives: 35.0000 - false_positives: 421.0000 - precision: 0.1137 - recall: 0.6067 - auc: 0.5546 - val_loss: 0.6942 - val_binary_accuracy: 0.1299 - val_false_negatives: 0.0000e+00 - val_false_positives: 201.0000 - val_precision: 0.1299 - val_recall: 1.0000 - val_auc: 0.5000\n",
      "processed so far: [55.68]\n",
      "train size: [921] val size: [231]\n",
      "58/58 [==============================] - 50s 858ms/step - loss: 0.7201 - binary_accuracy: 0.4539 - false_negatives: 44.0000 - false_positives: 459.0000 - precision: 0.1087 - recall: 0.5600 - auc: 0.4720 - val_loss: 0.7006 - val_binary_accuracy: 0.1299 - val_false_negatives: 0.0000e+00 - val_false_positives: 201.0000 - val_precision: 0.1299 - val_recall: 1.0000 - val_auc: 0.5000\n",
      "processed so far: [57.60]\n",
      "train size: [921] val size: [231]\n",
      "58/58 [==============================] - 50s 859ms/step - loss: 0.6794 - binary_accuracy: 0.1422 - false_negatives: 4.0000 - false_positives: 786.0000 - precision: 0.0966 - recall: 0.9545 - auc: 0.5168 - val_loss: 0.6968 - val_binary_accuracy: 0.0823 - val_false_negatives: 0.0000e+00 - val_false_positives: 212.0000 - val_precision: 0.0823 - val_recall: 1.0000 - val_auc: 0.5000\n",
      "processed so far: [59.52]\n",
      "train size: [921] val size: [231]\n",
      "58/58 [==============================] - 50s 857ms/step - loss: 0.6692 - binary_accuracy: 0.7861 - false_negatives: 74.0000 - false_positives: 123.0000 - precision: 0.0821 - recall: 0.1294 - auc: 0.5080 - val_loss: 0.6828 - val_binary_accuracy: 0.9091 - val_false_negatives: 21.0000 - val_false_positives: 0.0000e+00 - val_precision: 0.0000e+00 - val_recall: 0.0000e+00 - val_auc: 0.5000\n",
      "processed so far: [61.44]\n",
      "train size: [921] val size: [231]\n",
      "58/58 [==============================] - 50s 860ms/step - loss: 0.6900 - binary_accuracy: 0.8187 - false_negatives: 82.0000 - false_positives: 85.0000 - precision: 0.0957 - recall: 0.0989 - auc: 0.4702 - val_loss: 0.6793 - val_binary_accuracy: 0.8961 - val_false_negatives: 24.0000 - val_false_positives: 0.0000e+00 - val_precision: 0.0000e+00 - val_recall: 0.0000e+00 - val_auc: 0.5000\n",
      "processed so far: [63.36]\n",
      "train size: [921] val size: [231]\n",
      "58/58 [==============================] - 50s 859ms/step - loss: 0.7214 - binary_accuracy: 0.4028 - false_negatives: 48.0000 - false_positives: 502.0000 - precision: 0.0939 - recall: 0.5200 - auc: 0.4144 - val_loss: 0.6959 - val_binary_accuracy: 0.0909 - val_false_negatives: 0.0000e+00 - val_false_positives: 210.0000 - val_precision: 0.0909 - val_recall: 1.0000 - val_auc: 0.5000\n",
      "processed so far: [65.28]\n",
      "train size: [921] val size: [231]\n",
      "58/58 [==============================] - 50s 861ms/step - loss: 0.6695 - binary_accuracy: 0.3692 - false_negatives: 32.0000 - false_positives: 549.0000 - precision: 0.0880 - recall: 0.6235 - auc: 0.4927 - val_loss: 0.6902 - val_binary_accuracy: 0.9091 - val_false_negatives: 21.0000 - val_false_positives: 0.0000e+00 - val_precision: 0.0000e+00 - val_recall: 0.0000e+00 - val_auc: 0.5000\n",
      "processed so far: [67.20]\n",
      "train size: [921] val size: [231]\n",
      "58/58 [==============================] - 50s 859ms/step - loss: 0.6412 - binary_accuracy: 0.8936 - false_negatives: 74.0000 - false_positives: 24.0000 - precision: 0.1111 - recall: 0.0390 - auc: 0.4936 - val_loss: 0.6674 - val_binary_accuracy: 0.8961 - val_false_negatives: 24.0000 - val_false_positives: 0.0000e+00 - val_precision: 0.0000e+00 - val_recall: 0.0000e+00 - val_auc: 0.5000\n",
      "processed so far: [69.12]\n",
      "train size: [921] val size: [231]\n",
      "58/58 [==============================] - 50s 860ms/step - loss: 0.7723 - binary_accuracy: 0.6732 - false_negatives: 86.0000 - false_positives: 215.0000 - precision: 0.1189 - recall: 0.2522 - auc: 0.4951 - val_loss: 0.7059 - val_binary_accuracy: 0.1212 - val_false_negatives: 0.0000e+00 - val_false_positives: 203.0000 - val_precision: 0.1212 - val_recall: 1.0000 - val_auc: 0.5000\n",
      "processed so far: [71.04]\n",
      "train size: [921] val size: [231]\n",
      "58/58 [==============================] - 50s 859ms/step - loss: 0.7320 - binary_accuracy: 0.1183 - false_negatives: 1.0000 - false_positives: 811.0000 - precision: 0.1127 - recall: 0.9904 - auc: 0.4773 - val_loss: 0.7228 - val_binary_accuracy: 0.1082 - val_false_negatives: 0.0000e+00 - val_false_positives: 206.0000 - val_precision: 0.1082 - val_recall: 1.0000 - val_auc: 0.5000\n",
      "processed so far: [72.96]\n",
      "train size: [921] val size: [231]\n",
      "58/58 [==============================] - 50s 857ms/step - loss: 0.6286 - binary_accuracy: 0.1683 - false_negatives: 3.0000 - false_positives: 763.0000 - precision: 0.0829 - recall: 0.9583 - auc: 0.4881 - val_loss: 0.6899 - val_binary_accuracy: 0.9221 - val_false_negatives: 18.0000 - val_false_positives: 0.0000e+00 - val_precision: 0.0000e+00 - val_recall: 0.0000e+00 - val_auc: 0.5000\n",
      "processed so far: [74.88]\n",
      "train size: [921] val size: [231]\n",
      "58/58 [==============================] - 50s 859ms/step - loss: 0.7229 - binary_accuracy: 0.4843 - false_negatives: 46.0000 - false_positives: 429.0000 - precision: 0.1136 - recall: 0.5446 - auc: 0.5185 - val_loss: 0.6958 - val_binary_accuracy: 0.0823 - val_false_negatives: 0.0000e+00 - val_false_positives: 212.0000 - val_precision: 0.0823 - val_recall: 1.0000 - val_auc: 0.5000\n",
      "processed so far: [76.80]\n",
      "train size: [921] val size: [231]\n",
      "58/58 [==============================] - 50s 859ms/step - loss: 0.7587 - binary_accuracy: 0.1607 - false_negatives: 5.0000 - false_positives: 768.0000 - precision: 0.1223 - recall: 0.9554 - auc: 0.4373 - val_loss: 0.7254 - val_binary_accuracy: 0.1039 - val_false_negatives: 0.0000e+00 - val_false_positives: 207.0000 - val_precision: 0.1039 - val_recall: 1.0000 - val_auc: 0.5000\n",
      "processed so far: [78.72]\n",
      "train size: [921] val size: [231]\n",
      "58/58 [==============================] - 50s 862ms/step - loss: 0.7348 - binary_accuracy: 0.1140 - false_negatives: 0.0000e+00 - false_positives: 816.0000 - precision: 0.1140 - recall: 1.0000 - auc: 0.4576 - val_loss: 0.7405 - val_binary_accuracy: 0.0736 - val_false_negatives: 0.0000e+00 - val_false_positives: 214.0000 - val_precision: 0.0736 - val_recall: 1.0000 - val_auc: 0.5000\n",
      "processed so far: [80.64]\n",
      "train size: [921] val size: [231]\n",
      "58/58 [==============================] - 50s 860ms/step - loss: 0.6878 - binary_accuracy: 0.0977 - false_negatives: 0.0000e+00 - false_positives: 831.0000 - precision: 0.0977 - recall: 1.0000 - auc: 0.4933 - val_loss: 0.7183 - val_binary_accuracy: 0.0866 - val_false_negatives: 0.0000e+00 - val_false_positives: 211.0000 - val_precision: 0.0866 - val_recall: 1.0000 - val_auc: 0.5000\n",
      "processed so far: [82.56]\n",
      "train size: [921] val size: [231]\n",
      "58/58 [==============================] - 50s 859ms/step - loss: 0.6742 - binary_accuracy: 0.1173 - false_negatives: 3.0000 - false_positives: 810.0000 - precision: 0.0929 - recall: 0.9651 - auc: 0.4672 - val_loss: 0.7009 - val_binary_accuracy: 0.1082 - val_false_negatives: 0.0000e+00 - val_false_positives: 206.0000 - val_precision: 0.1082 - val_recall: 1.0000 - val_auc: 0.5000\n",
      "processed so far: [84.48]\n",
      "train size: [921] val size: [231]\n",
      "58/58 [==============================] - 50s 860ms/step - loss: 0.7257 - binary_accuracy: 0.1281 - false_negatives: 1.0000 - false_positives: 802.0000 - precision: 0.1118 - recall: 0.9902 - auc: 0.4684 - val_loss: 0.7083 - val_binary_accuracy: 0.1169 - val_false_negatives: 0.0000e+00 - val_false_positives: 204.0000 - val_precision: 0.1169 - val_recall: 1.0000 - val_auc: 0.5000\n",
      "processed so far: [86.40]\n",
      "train size: [921] val size: [231]\n",
      "58/58 [==============================] - 50s 859ms/step - loss: 0.6971 - binary_accuracy: 0.1227 - false_negatives: 8.0000 - false_positives: 800.0000 - precision: 0.0960 - recall: 0.9140 - auc: 0.4471 - val_loss: 0.7080 - val_binary_accuracy: 0.1126 - val_false_negatives: 0.0000e+00 - val_false_positives: 205.0000 - val_precision: 0.1126 - val_recall: 1.0000 - val_auc: 0.5000\n",
      "processed so far: [88.32]\n",
      "train size: [921] val size: [231]\n",
      "58/58 [==============================] - 50s 859ms/step - loss: 0.7161 - binary_accuracy: 0.1249 - false_negatives: 2.0000 - false_positives: 804.0000 - precision: 0.1077 - recall: 0.9798 - auc: 0.4793 - val_loss: 0.7067 - val_binary_accuracy: 0.1082 - val_false_negatives: 0.0000e+00 - val_false_positives: 206.0000 - val_precision: 0.1082 - val_recall: 1.0000 - val_auc: 0.5000\n",
      "processed so far: [90.24]\n",
      "train size: [921] val size: [231]\n",
      "58/58 [==============================] - 50s 861ms/step - loss: 0.7254 - binary_accuracy: 0.1140 - false_negatives: 0.0000e+00 - false_positives: 816.0000 - precision: 0.1111 - recall: 1.0000 - auc: 0.4964 - val_loss: 0.7124 - val_binary_accuracy: 0.0996 - val_false_negatives: 0.0000e+00 - val_false_positives: 208.0000 - val_precision: 0.0996 - val_recall: 1.0000 - val_auc: 0.5000\n",
      "processed so far: [92.16]\n",
      "train size: [921] val size: [231]\n",
      "58/58 [==============================] - 50s 862ms/step - loss: 0.6319 - binary_accuracy: 0.2780 - false_negatives: 21.0000 - false_positives: 644.0000 - precision: 0.0747 - recall: 0.7123 - auc: 0.4496 - val_loss: 0.6923 - val_binary_accuracy: 0.8874 - val_false_negatives: 26.0000 - val_false_positives: 0.0000e+00 - val_precision: 0.0000e+00 - val_recall: 0.0000e+00 - val_auc: 0.5000\n",
      "processed so far: [94.08]\n",
      "train size: [921] val size: [231]\n",
      "58/58 [==============================] - 50s 859ms/step - loss: 0.6523 - binary_accuracy: 0.7014 - false_negatives: 60.0000 - false_positives: 215.0000 - precision: 0.0851 - recall: 0.2500 - auc: 0.5050 - val_loss: 0.6795 - val_binary_accuracy: 0.9134 - val_false_negatives: 20.0000 - val_false_positives: 0.0000e+00 - val_precision: 0.0000e+00 - val_recall: 0.0000e+00 - val_auc: 0.5000\n",
      "processed so far: [96.00]\n",
      "train size: [921] val size: [231]\n",
      "58/58 [==============================] - 50s 860ms/step - loss: 0.6686 - binary_accuracy: 0.8947 - false_negatives: 83.0000 - false_positives: 14.0000 - precision: 0.1250 - recall: 0.0235 - auc: 0.5161 - val_loss: 0.6687 - val_binary_accuracy: 0.9091 - val_false_negatives: 21.0000 - val_false_positives: 0.0000e+00 - val_precision: 0.0000e+00 - val_recall: 0.0000e+00 - val_auc: 0.5000\n",
      "processed so far: [97.92]\n",
      "train size: [921] val size: [231]\n",
      "58/58 [==============================] - 50s 859ms/step - loss: 0.6937 - binary_accuracy: 0.8979 - false_negatives: 92.0000 - false_positives: 2.0000 - precision: 0.0000e+00 - recall: 0.0000e+00 - auc: 0.4798 - val_loss: 0.6761 - val_binary_accuracy: 0.9091 - val_false_negatives: 21.0000 - val_false_positives: 0.0000e+00 - val_precision: 0.0000e+00 - val_recall: 0.0000e+00 - val_auc: 0.5000\n",
      "processed so far: [99.84]\n",
      "train size: [76] val size: [20]\n",
      "5/5 [==============================] - 4s 846ms/step - loss: 0.5818 - binary_accuracy: 0.9342 - false_negatives: 5.0000 - false_positives: 0.0000e+00 - precision: 0.0000e+00 - recall: 0.0000e+00 - auc: 0.6817 - val_loss: 0.6723 - val_binary_accuracy: 1.0000 - val_false_negatives: 0.0000e+00 - val_false_positives: 0.0000e+00 - val_precision: 0.0000e+00 - val_recall: 0.0000e+00 - val_auc: 0.0000e+00\n",
      "processed so far: [101.76]\n",
      "Epoch: [3]\n",
      "train size: [921] val size: [231]\n",
      "58/58 [==============================] - 50s 861ms/step - loss: 0.6829 - binary_accuracy: 0.9001 - false_negatives: 89.0000 - false_positives: 3.0000 - precision: 0.0000e+00 - recall: 0.0000e+00 - auc: 0.4847 - val_loss: 0.6756 - val_binary_accuracy: 0.9134 - val_false_negatives: 20.0000 - val_false_positives: 0.0000e+00 - val_precision: 0.0000e+00 - val_recall: 0.0000e+00 - val_auc: 0.5000\n",
      "processed so far: [1.92]\n",
      "train size: [921] val size: [231]\n",
      "58/58 [==============================] - 50s 858ms/step - loss: 0.7064 - binary_accuracy: 0.8871 - false_negatives: 95.0000 - false_positives: 9.0000 - precision: 0.1000 - recall: 0.0104 - auc: 0.5347 - val_loss: 0.6824 - val_binary_accuracy: 0.9221 - val_false_negatives: 18.0000 - val_false_positives: 0.0000e+00 - val_precision: 0.0000e+00 - val_recall: 0.0000e+00 - val_auc: 0.5000\n",
      "processed so far: [3.84]\n",
      "train size: [921] val size: [231]\n",
      "58/58 [==============================] - 50s 858ms/step - loss: 0.6450 - binary_accuracy: 0.8969 - false_negatives: 77.0000 - false_positives: 18.0000 - precision: 0.0526 - recall: 0.0128 - auc: 0.4736 - val_loss: 0.6670 - val_binary_accuracy: 0.9004 - val_false_negatives: 23.0000 - val_false_positives: 0.0000e+00 - val_precision: 0.0000e+00 - val_recall: 0.0000e+00 - val_auc: 0.5000\n",
      "processed so far: [5.76]\n",
      "train size: [921] val size: [231]\n",
      "58/58 [==============================] - 50s 860ms/step - loss: 0.6435 - binary_accuracy: 0.9153 - false_negatives: 78.0000 - false_positives: 0.0000e+00 - precision: 0.0000e+00 - recall: 0.0000e+00 - auc: 0.4939 - val_loss: 0.6584 - val_binary_accuracy: 0.9048 - val_false_negatives: 22.0000 - val_false_positives: 0.0000e+00 - val_precision: 0.0000e+00 - val_recall: 0.0000e+00 - val_auc: 0.5000\n",
      "processed so far: [7.68]\n",
      "train size: [921] val size: [231]\n",
      "58/58 [==============================] - 50s 859ms/step - loss: 0.6904 - binary_accuracy: 0.9001 - false_negatives: 91.0000 - false_positives: 1.0000 - precision: 0.0000e+00 - recall: 0.0000e+00 - auc: 0.4830 - val_loss: 0.6650 - val_binary_accuracy: 0.8961 - val_false_negatives: 24.0000 - val_false_positives: 0.0000e+00 - val_precision: 0.0000e+00 - val_recall: 0.0000e+00 - val_auc: 0.5000\n",
      "processed so far: [9.60]\n",
      "train size: [921] val size: [231]\n",
      "58/58 [==============================] - 50s 859ms/step - loss: 0.7041 - binary_accuracy: 0.8882 - false_negatives: 93.0000 - false_positives: 10.0000 - precision: 0.1667 - recall: 0.0211 - auc: 0.4736 - val_loss: 0.6808 - val_binary_accuracy: 0.9048 - val_false_negatives: 22.0000 - val_false_positives: 0.0000e+00 - val_precision: 0.0000e+00 - val_recall: 0.0000e+00 - val_auc: 0.5000\n",
      "processed so far: [11.52]\n",
      "train size: [921] val size: [231]\n",
      "58/58 [==============================] - 50s 858ms/step - loss: 0.6967 - binary_accuracy: 0.8708 - false_negatives: 92.0000 - false_positives: 27.0000 - precision: 0.0357 - recall: 0.0108 - auc: 0.4935 - val_loss: 0.6831 - val_binary_accuracy: 0.9177 - val_false_negatives: 19.0000 - val_false_positives: 0.0000e+00 - val_precision: 0.0000e+00 - val_recall: 0.0000e+00 - val_auc: 0.5000\n",
      "processed so far: [13.44]\n",
      "train size: [921] val size: [231]\n",
      "58/58 [==============================] - 50s 861ms/step - loss: 0.6865 - binary_accuracy: 0.8480 - false_negatives: 86.0000 - false_positives: 54.0000 - precision: 0.0690 - recall: 0.0444 - auc: 0.4523 - val_loss: 0.6793 - val_binary_accuracy: 0.8701 - val_false_negatives: 30.0000 - val_false_positives: 0.0000e+00 - val_precision: 0.0000e+00 - val_recall: 0.0000e+00 - val_auc: 0.5000\n",
      "processed so far: [15.36]\n",
      "train size: [921] val size: [231]\n",
      "58/58 [==============================] - 50s 858ms/step - loss: 0.7432 - binary_accuracy: 0.4582 - false_negatives: 47.0000 - false_positives: 452.0000 - precision: 0.1172 - recall: 0.5607 - auc: 0.4847 - val_loss: 0.7027 - val_binary_accuracy: 0.0866 - val_false_negatives: 0.0000e+00 - val_false_positives: 211.0000 - val_precision: 0.0866 - val_recall: 1.0000 - val_auc: 0.5000\n",
      "processed so far: [17.28]\n",
      "train size: [921] val size: [231]\n",
      "58/58 [==============================] - 50s 858ms/step - loss: 0.7286 - binary_accuracy: 0.1260 - false_negatives: 3.0000 - false_positives: 802.0000 - precision: 0.1109 - recall: 0.9709 - auc: 0.5133 - val_loss: 0.7150 - val_binary_accuracy: 0.1385 - val_false_negatives: 0.0000e+00 - val_false_positives: 199.0000 - val_precision: 0.1385 - val_recall: 1.0000 - val_auc: 0.5000\n",
      "processed so far: [19.20]\n",
      "train size: [921] val size: [231]\n",
      "58/58 [==============================] - 50s 862ms/step - loss: 0.6669 - binary_accuracy: 0.2063 - false_negatives: 11.0000 - false_positives: 720.0000 - precision: 0.0921 - recall: 0.8690 - auc: 0.5138 - val_loss: 0.6946 - val_binary_accuracy: 0.0823 - val_false_negatives: 0.0000e+00 - val_false_positives: 212.0000 - val_precision: 0.0823 - val_recall: 1.0000 - val_auc: 0.5000\n",
      "processed so far: [21.12]\n",
      "train size: [921] val size: [231]\n",
      "58/58 [==============================] - 50s 860ms/step - loss: 0.6939 - binary_accuracy: 0.2834 - false_negatives: 31.0000 - false_positives: 629.0000 - precision: 0.0884 - recall: 0.6630 - auc: 0.4312 - val_loss: 0.6993 - val_binary_accuracy: 0.1255 - val_false_negatives: 0.0000e+00 - val_false_positives: 202.0000 - val_precision: 0.1255 - val_recall: 1.0000 - val_auc: 0.5000\n",
      "processed so far: [23.04]\n",
      "train size: [921] val size: [231]\n",
      "58/58 [==============================] - 50s 859ms/step - loss: 0.6896 - binary_accuracy: 0.2334 - false_negatives: 13.0000 - false_positives: 693.0000 - precision: 0.1012 - recall: 0.8571 - auc: 0.4966 - val_loss: 0.6966 - val_binary_accuracy: 0.1212 - val_false_negatives: 0.0000e+00 - val_false_positives: 203.0000 - val_precision: 0.1212 - val_recall: 1.0000 - val_auc: 0.5000\n",
      "processed so far: [24.96]\n",
      "train size: [921] val size: [231]\n",
      "58/58 [==============================] - 50s 860ms/step - loss: 0.6727 - binary_accuracy: 0.7850 - false_negatives: 76.0000 - false_positives: 122.0000 - precision: 0.0758 - recall: 0.1163 - auc: 0.4809 - val_loss: 0.6833 - val_binary_accuracy: 0.8918 - val_false_negatives: 25.0000 - val_false_positives: 0.0000e+00 - val_precision: 0.0000e+00 - val_recall: 0.0000e+00 - val_auc: 0.5000\n",
      "processed so far: [26.88]\n",
      "train size: [921] val size: [231]\n",
      "58/58 [==============================] - 50s 860ms/step - loss: 0.6594 - binary_accuracy: 0.8925 - false_negatives: 82.0000 - false_positives: 17.0000 - precision: 0.0000e+00 - recall: 0.0000e+00 - auc: 0.4430 - val_loss: 0.6714 - val_binary_accuracy: 0.8658 - val_false_negatives: 31.0000 - val_false_positives: 0.0000e+00 - val_precision: 0.0000e+00 - val_recall: 0.0000e+00 - val_auc: 0.5000\n",
      "processed so far: [28.80]\n",
      "train size: [921] val size: [231]\n",
      "58/58 [==============================] - 50s 859ms/step - loss: 0.6766 - binary_accuracy: 0.9034 - false_negatives: 87.0000 - false_positives: 2.0000 - precision: 0.0000e+00 - recall: 0.0000e+00 - auc: 0.4732 - val_loss: 0.6733 - val_binary_accuracy: 0.8961 - val_false_negatives: 24.0000 - val_false_positives: 0.0000e+00 - val_precision: 0.0000e+00 - val_recall: 0.0000e+00 - val_auc: 0.5000\n",
      "processed so far: [30.72]\n",
      "train size: [921] val size: [231]\n",
      "58/58 [==============================] - 50s 857ms/step - loss: 0.7043 - binary_accuracy: 0.8817 - false_negatives: 94.0000 - false_positives: 15.0000 - precision: 0.0625 - recall: 0.0105 - auc: 0.4585 - val_loss: 0.6845 - val_binary_accuracy: 0.8918 - val_false_negatives: 25.0000 - val_false_positives: 0.0000e+00 - val_precision: 0.0000e+00 - val_recall: 0.0000e+00 - val_auc: 0.5000\n",
      "processed so far: [32.64]\n",
      "train size: [921] val size: [231]\n",
      "58/58 [==============================] - 50s 859ms/step - loss: 0.6928 - binary_accuracy: 0.8534 - false_negatives: 88.0000 - false_positives: 47.0000 - precision: 0.0784 - recall: 0.0435 - auc: 0.5173 - val_loss: 0.6843 - val_binary_accuracy: 0.9091 - val_false_negatives: 21.0000 - val_false_positives: 0.0000e+00 - val_precision: 0.0000e+00 - val_recall: 0.0000e+00 - val_auc: 0.5000\n",
      "processed so far: [34.56]\n",
      "train size: [921] val size: [231]\n",
      "58/58 [==============================] - 50s 859ms/step - loss: 0.6930 - binary_accuracy: 0.7134 - false_negatives: 73.0000 - false_positives: 191.0000 - precision: 0.0905 - recall: 0.2065 - auc: 0.4929 - val_loss: 0.6901 - val_binary_accuracy: 0.8788 - val_false_negatives: 28.0000 - val_false_positives: 0.0000e+00 - val_precision: 0.0000e+00 - val_recall: 0.0000e+00 - val_auc: 0.5000\n",
      "processed so far: [36.48]\n",
      "train size: [921] val size: [231]\n",
      "58/58 [==============================] - 50s 860ms/step - loss: 0.6755 - binary_accuracy: 0.7372 - false_negatives: 70.0000 - false_positives: 172.0000 - precision: 0.0899 - recall: 0.1954 - auc: 0.5317 - val_loss: 0.6876 - val_binary_accuracy: 0.8874 - val_false_negatives: 26.0000 - val_false_positives: 0.0000e+00 - val_precision: 0.0000e+00 - val_recall: 0.0000e+00 - val_auc: 0.5000\n",
      "processed so far: [38.40]\n",
      "train size: [921] val size: [231]\n",
      "58/58 [==============================] - 50s 860ms/step - loss: 0.6869 - binary_accuracy: 0.8350 - false_negatives: 84.0000 - false_positives: 68.0000 - precision: 0.0811 - recall: 0.0667 - auc: 0.4587 - val_loss: 0.6798 - val_binary_accuracy: 0.8874 - val_false_negatives: 26.0000 - val_false_positives: 0.0000e+00 - val_precision: 0.0000e+00 - val_recall: 0.0000e+00 - val_auc: 0.5000\n",
      "processed so far: [40.32]\n",
      "train size: [921] val size: [231]\n",
      "58/58 [==============================] - 50s 858ms/step - loss: 0.6759 - binary_accuracy: 0.8089 - false_negatives: 81.0000 - false_positives: 95.0000 - precision: 0.0594 - recall: 0.0690 - auc: 0.4794 - val_loss: 0.6845 - val_binary_accuracy: 0.8874 - val_false_negatives: 26.0000 - val_false_positives: 0.0000e+00 - val_precision: 0.0000e+00 - val_recall: 0.0000e+00 - val_auc: 0.5000\n",
      "processed so far: [42.24]\n",
      "train size: [921] val size: [231]\n",
      "58/58 [==============================] - 50s 858ms/step - loss: 0.7464 - binary_accuracy: 0.5364 - false_negatives: 59.0000 - false_positives: 368.0000 - precision: 0.1175 - recall: 0.4537 - auc: 0.5185 - val_loss: 0.7005 - val_binary_accuracy: 0.1255 - val_false_negatives: 0.0000e+00 - val_false_positives: 202.0000 - val_precision: 0.1255 - val_recall: 1.0000 - val_auc: 0.5000\n",
      "processed so far: [44.16]\n",
      "train size: [921] val size: [231]\n",
      "58/58 [==============================] - 50s 859ms/step - loss: 0.7284 - binary_accuracy: 0.2161 - false_negatives: 11.0000 - false_positives: 711.0000 - precision: 0.1146 - recall: 0.8932 - auc: 0.5128 - val_loss: 0.7131 - val_binary_accuracy: 0.1169 - val_false_negatives: 0.0000e+00 - val_false_positives: 204.0000 - val_precision: 0.1169 - val_recall: 1.0000 - val_auc: 0.5000\n",
      "processed so far: [46.08]\n",
      "train size: [921] val size: [231]\n",
      "58/58 [==============================] - 50s 858ms/step - loss: 0.7156 - binary_accuracy: 0.1097 - false_negatives: 0.0000e+00 - false_positives: 820.0000 - precision: 0.1077 - recall: 1.0000 - auc: 0.4971 - val_loss: 0.7249 - val_binary_accuracy: 0.0736 - val_false_negatives: 0.0000e+00 - val_false_positives: 214.0000 - val_precision: 0.0736 - val_recall: 1.0000 - val_auc: 0.5000\n",
      "processed so far: [48.00]\n",
      "train size: [921] val size: [231]\n",
      "58/58 [==============================] - 50s 859ms/step - loss: 0.7347 - binary_accuracy: 0.1140 - false_negatives: 0.0000e+00 - false_positives: 816.0000 - precision: 0.1140 - recall: 1.0000 - auc: 0.4869 - val_loss: 0.7279 - val_binary_accuracy: 0.0909 - val_false_negatives: 0.0000e+00 - val_false_positives: 210.0000 - val_precision: 0.0909 - val_recall: 1.0000 - val_auc: 0.5000\n",
      "processed so far: [49.92]\n",
      "train size: [921] val size: [231]\n",
      "58/58 [==============================] - 50s 858ms/step - loss: 0.6907 - binary_accuracy: 0.0999 - false_negatives: 0.0000e+00 - false_positives: 829.0000 - precision: 0.0989 - recall: 1.0000 - auc: 0.4733 - val_loss: 0.7148 - val_binary_accuracy: 0.0779 - val_false_negatives: 0.0000e+00 - val_false_positives: 213.0000 - val_precision: 0.0779 - val_recall: 1.0000 - val_auc: 0.5000\n",
      "processed so far: [51.84]\n",
      "train size: [921] val size: [231]\n",
      "58/58 [==============================] - 50s 857ms/step - loss: 0.6474 - binary_accuracy: 0.1574 - false_negatives: 7.0000 - false_positives: 769.0000 - precision: 0.0845 - recall: 0.9103 - auc: 0.5275 - val_loss: 0.6950 - val_binary_accuracy: 0.1039 - val_false_negatives: 0.0000e+00 - val_false_positives: 207.0000 - val_precision: 0.1039 - val_recall: 1.0000 - val_auc: 0.5000\n",
      "processed so far: [53.76]\n",
      "train size: [921] val size: [231]\n",
      "58/58 [==============================] - 50s 860ms/step - loss: 0.6486 - binary_accuracy: 0.7622 - false_negatives: 64.0000 - false_positives: 155.0000 - precision: 0.0882 - recall: 0.1899 - auc: 0.4825 - val_loss: 0.6764 - val_binary_accuracy: 0.9351 - val_false_negatives: 15.0000 - val_false_positives: 0.0000e+00 - val_precision: 0.0000e+00 - val_recall: 0.0000e+00 - val_auc: 0.5000\n",
      "processed so far: [55.68]\n",
      "train size: [921] val size: [231]\n",
      "58/58 [==============================] - 50s 861ms/step - loss: 0.7513 - binary_accuracy: 0.6536 - false_negatives: 80.0000 - false_positives: 239.0000 - precision: 0.1082 - recall: 0.2661 - auc: 0.4805 - val_loss: 0.6988 - val_binary_accuracy: 0.1126 - val_false_negatives: 0.0000e+00 - val_false_positives: 205.0000 - val_precision: 0.1126 - val_recall: 1.0000 - val_auc: 0.5000\n",
      "processed so far: [57.60]\n",
      "train size: [921] val size: [231]\n",
      "58/58 [==============================] - 50s 860ms/step - loss: 0.6837 - binary_accuracy: 0.2324 - false_negatives: 18.0000 - false_positives: 689.0000 - precision: 0.0934 - recall: 0.7978 - auc: 0.4729 - val_loss: 0.6983 - val_binary_accuracy: 0.1212 - val_false_negatives: 0.0000e+00 - val_false_positives: 203.0000 - val_precision: 0.1212 - val_recall: 1.0000 - val_auc: 0.5000\n",
      "processed so far: [59.52]\n",
      "train size: [921] val size: [231]\n",
      "58/58 [==============================] - 50s 858ms/step - loss: 0.6560 - binary_accuracy: 0.4235 - false_negatives: 34.0000 - false_positives: 497.0000 - precision: 0.0864 - recall: 0.5802 - auc: 0.5102 - val_loss: 0.6869 - val_binary_accuracy: 0.8961 - val_false_negatives: 24.0000 - val_false_positives: 0.0000e+00 - val_precision: 0.0000e+00 - val_recall: 0.0000e+00 - val_auc: 0.5000\n",
      "processed so far: [61.44]\n",
      "train size: [921] val size: [231]\n",
      "58/58 [==============================] - 50s 860ms/step - loss: 0.6761 - binary_accuracy: 0.8545 - false_negatives: 79.0000 - false_positives: 55.0000 - precision: 0.1270 - recall: 0.0920 - auc: 0.4805 - val_loss: 0.6783 - val_binary_accuracy: 0.8961 - val_false_negatives: 24.0000 - val_false_positives: 0.0000e+00 - val_precision: 0.0000e+00 - val_recall: 0.0000e+00 - val_auc: 0.5000\n",
      "processed so far: [63.36]\n",
      "train size: [921] val size: [231]\n",
      "58/58 [==============================] - 50s 860ms/step - loss: 0.6550 - binary_accuracy: 0.9034 - false_negatives: 80.0000 - false_positives: 9.0000 - precision: 0.1000 - recall: 0.0123 - auc: 0.4824 - val_loss: 0.6657 - val_binary_accuracy: 0.9351 - val_false_negatives: 15.0000 - val_false_positives: 0.0000e+00 - val_precision: 0.0000e+00 - val_recall: 0.0000e+00 - val_auc: 0.5000\n",
      "processed so far: [65.28]\n",
      "train size: [921] val size: [231]\n",
      "58/58 [==============================] - 50s 859ms/step - loss: 0.6938 - binary_accuracy: 0.8990 - false_negatives: 91.0000 - false_positives: 2.0000 - precision: 0.3333 - recall: 0.0109 - auc: 0.4484 - val_loss: 0.6753 - val_binary_accuracy: 0.8961 - val_false_negatives: 24.0000 - val_false_positives: 0.0000e+00 - val_precision: 0.0000e+00 - val_recall: 0.0000e+00 - val_auc: 0.5000\n",
      "processed so far: [67.20]\n",
      "train size: [921] val size: [231]\n",
      "58/58 [==============================] - 50s 859ms/step - loss: 0.6726 - binary_accuracy: 0.8958 - false_negatives: 85.0000 - false_positives: 11.0000 - precision: 0.0833 - recall: 0.0116 - auc: 0.4699 - val_loss: 0.6718 - val_binary_accuracy: 0.9134 - val_false_negatives: 20.0000 - val_false_positives: 0.0000e+00 - val_precision: 0.0000e+00 - val_recall: 0.0000e+00 - val_auc: 0.5000\n",
      "processed so far: [69.12]\n",
      "train size: [921] val size: [231]\n",
      "58/58 [==============================] - 50s 863ms/step - loss: 0.7067 - binary_accuracy: 0.8436 - false_negatives: 90.0000 - false_positives: 54.0000 - precision: 0.1000 - recall: 0.0625 - auc: 0.4924 - val_loss: 0.6849 - val_binary_accuracy: 0.8701 - val_false_negatives: 30.0000 - val_false_positives: 0.0000e+00 - val_precision: 0.0000e+00 - val_recall: 0.0000e+00 - val_auc: 0.5000\n",
      "processed so far: [71.04]\n",
      "train size: [921] val size: [231]\n",
      "58/58 [==============================] - 50s 860ms/step - loss: 0.6958 - binary_accuracy: 0.8447 - false_negatives: 85.0000 - false_positives: 58.0000 - precision: 0.1212 - recall: 0.0860 - auc: 0.5224 - val_loss: 0.6822 - val_binary_accuracy: 0.9177 - val_false_negatives: 19.0000 - val_false_positives: 0.0000e+00 - val_precision: 0.0000e+00 - val_recall: 0.0000e+00 - val_auc: 0.5000\n",
      "processed so far: [72.96]\n",
      "train size: [921] val size: [231]\n",
      "58/58 [==============================] - 50s 859ms/step - loss: 0.6617 - binary_accuracy: 0.8860 - false_negatives: 82.0000 - false_positives: 23.0000 - precision: 0.0417 - recall: 0.0120 - auc: 0.5331 - val_loss: 0.6699 - val_binary_accuracy: 0.9351 - val_false_negatives: 15.0000 - val_false_positives: 0.0000e+00 - val_precision: 0.0000e+00 - val_recall: 0.0000e+00 - val_auc: 0.5000\n",
      "processed so far: [74.88]\n",
      "train size: [921] val size: [231]\n",
      "58/58 [==============================] - 50s 860ms/step - loss: 0.7139 - binary_accuracy: 0.8654 - false_negatives: 88.0000 - false_positives: 36.0000 - precision: 0.2174 - recall: 0.1020 - auc: 0.4774 - val_loss: 0.6877 - val_binary_accuracy: 0.8918 - val_false_negatives: 25.0000 - val_false_positives: 0.0000e+00 - val_precision: 0.0000e+00 - val_recall: 0.0000e+00 - val_auc: 0.5000\n",
      "processed so far: [76.80]\n",
      "train size: [921] val size: [231]\n",
      "58/58 [==============================] - 50s 859ms/step - loss: 0.7206 - binary_accuracy: 0.3377 - false_negatives: 41.0000 - false_positives: 569.0000 - precision: 0.0939 - recall: 0.5900 - auc: 0.4311 - val_loss: 0.6996 - val_binary_accuracy: 0.1126 - val_false_negatives: 0.0000e+00 - val_false_positives: 205.0000 - val_precision: 0.1126 - val_recall: 1.0000 - val_auc: 0.5000\n",
      "processed so far: [78.72]\n",
      "train size: [921] val size: [231]\n",
      "58/58 [==============================] - 50s 859ms/step - loss: 0.7200 - binary_accuracy: 0.2204 - false_negatives: 21.0000 - false_positives: 697.0000 - precision: 0.1018 - recall: 0.7900 - auc: 0.4564 - val_loss: 0.7041 - val_binary_accuracy: 0.0996 - val_false_negatives: 0.0000e+00 - val_false_positives: 208.0000 - val_precision: 0.0996 - val_recall: 1.0000 - val_auc: 0.5000\n",
      "processed so far: [80.64]\n",
      "train size: [921] val size: [231]\n",
      "58/58 [==============================] - 50s 859ms/step - loss: 0.6631 - binary_accuracy: 0.2519 - false_negatives: 15.0000 - false_positives: 674.0000 - precision: 0.0916 - recall: 0.8193 - auc: 0.5039 - val_loss: 0.6930 - val_binary_accuracy: 0.8918 - val_false_negatives: 25.0000 - val_false_positives: 0.0000e+00 - val_precision: 0.0000e+00 - val_recall: 0.0000e+00 - val_auc: 0.5000\n",
      "processed so far: [82.56]\n",
      "train size: [921] val size: [231]\n",
      "58/58 [==============================] - 50s 862ms/step - loss: 0.7033 - binary_accuracy: 0.6851 - false_negatives: 70.0000 - false_positives: 220.0000 - precision: 0.1020 - recall: 0.2632 - auc: 0.4775 - val_loss: 0.6922 - val_binary_accuracy: 0.9004 - val_false_negatives: 23.0000 - val_false_positives: 0.0000e+00 - val_precision: 0.0000e+00 - val_recall: 0.0000e+00 - val_auc: 0.5000\n",
      "processed so far: [84.48]\n",
      "train size: [921] val size: [231]\n",
      "58/58 [==============================] - 50s 860ms/step - loss: 0.7196 - binary_accuracy: 0.3713 - false_negatives: 34.0000 - false_positives: 545.0000 - precision: 0.1080 - recall: 0.6600 - auc: 0.4876 - val_loss: 0.7021 - val_binary_accuracy: 0.1039 - val_false_negatives: 0.0000e+00 - val_false_positives: 207.0000 - val_precision: 0.1039 - val_recall: 1.0000 - val_auc: 0.5000\n",
      "processed so far: [86.40]\n",
      "train size: [921] val size: [231]\n",
      "58/58 [==============================] - 50s 859ms/step - loss: 0.7418 - binary_accuracy: 0.1292 - false_negatives: 5.0000 - false_positives: 797.0000 - precision: 0.1135 - recall: 0.9533 - auc: 0.4811 - val_loss: 0.7223 - val_binary_accuracy: 0.1039 - val_false_negatives: 0.0000e+00 - val_false_positives: 207.0000 - val_precision: 0.1039 - val_recall: 1.0000 - val_auc: 0.5000\n",
      "processed so far: [88.32]\n",
      "train size: [921] val size: [231]\n",
      "58/58 [==============================] - 50s 861ms/step - loss: 0.6652 - binary_accuracy: 0.0955 - false_negatives: 2.0000 - false_positives: 831.0000 - precision: 0.0888 - recall: 0.9759 - auc: 0.4704 - val_loss: 0.7055 - val_binary_accuracy: 0.0779 - val_false_negatives: 0.0000e+00 - val_false_positives: 213.0000 - val_precision: 0.0779 - val_recall: 1.0000 - val_auc: 0.5000\n",
      "processed so far: [90.24]\n",
      "train size: [921] val size: [231]\n",
      "58/58 [==============================] - 50s 860ms/step - loss: 0.6900 - binary_accuracy: 0.2248 - false_negatives: 15.0000 - false_positives: 699.0000 - precision: 0.0981 - recall: 0.8352 - auc: 0.4741 - val_loss: 0.6976 - val_binary_accuracy: 0.1255 - val_false_negatives: 0.0000e+00 - val_false_positives: 202.0000 - val_precision: 0.1255 - val_recall: 1.0000 - val_auc: 0.5000\n",
      "processed so far: [92.16]\n",
      "train size: [921] val size: [231]\n",
      "58/58 [==============================] - 50s 858ms/step - loss: 0.6998 - binary_accuracy: 0.2530 - false_negatives: 18.0000 - false_positives: 670.0000 - precision: 0.1019 - recall: 0.8085 - auc: 0.4785 - val_loss: 0.6986 - val_binary_accuracy: 0.0866 - val_false_negatives: 0.0000e+00 - val_false_positives: 211.0000 - val_precision: 0.0866 - val_recall: 1.0000 - val_auc: 0.5000\n",
      "processed so far: [94.08]\n",
      "train size: [921] val size: [231]\n",
      "58/58 [==============================] - 50s 859ms/step - loss: 0.7088 - binary_accuracy: 0.2085 - false_negatives: 7.0000 - false_positives: 722.0000 - precision: 0.1108 - recall: 0.9278 - auc: 0.5163 - val_loss: 0.7024 - val_binary_accuracy: 0.1082 - val_false_negatives: 0.0000e+00 - val_false_positives: 206.0000 - val_precision: 0.1082 - val_recall: 1.0000 - val_auc: 0.5000\n",
      "processed so far: [96.00]\n",
      "train size: [921] val size: [231]\n",
      "58/58 [==============================] - 50s 858ms/step - loss: 0.6666 - binary_accuracy: 0.4408 - false_negatives: 42.0000 - false_positives: 473.0000 - precision: 0.0816 - recall: 0.5000 - auc: 0.4845 - val_loss: 0.6890 - val_binary_accuracy: 0.8745 - val_false_negatives: 29.0000 - val_false_positives: 0.0000e+00 - val_precision: 0.0000e+00 - val_recall: 0.0000e+00 - val_auc: 0.5000\n",
      "processed so far: [97.92]\n",
      "train size: [921] val size: [231]\n",
      "58/58 [==============================] - 50s 861ms/step - loss: 0.6723 - binary_accuracy: 0.8252 - false_negatives: 73.0000 - false_positives: 88.0000 - precision: 0.1287 - recall: 0.1512 - auc: 0.5027 - val_loss: 0.6836 - val_binary_accuracy: 0.8918 - val_false_negatives: 25.0000 - val_false_positives: 0.0000e+00 - val_precision: 0.0000e+00 - val_recall: 0.0000e+00 - val_auc: 0.5000\n",
      "processed so far: [99.84]\n",
      "train size: [76] val size: [20]\n",
      "5/5 [==============================] - 4s 849ms/step - loss: 0.6266 - binary_accuracy: 0.8684 - false_negatives: 4.0000 - false_positives: 6.0000 - precision: 0.2500 - recall: 0.3333 - auc: 0.5167 - val_loss: 0.6812 - val_binary_accuracy: 0.9500 - val_false_negatives: 1.0000 - val_false_positives: 0.0000e+00 - val_precision: 0.0000e+00 - val_recall: 0.0000e+00 - val_auc: 0.5000\n",
      "processed so far: [101.76]\n",
      "Epoch: [4]\n",
      "train size: [921] val size: [231]\n",
      "58/58 [==============================] - 50s 859ms/step - loss: 0.6304 - binary_accuracy: 0.9012 - false_negatives: 74.0000 - false_positives: 17.0000 - precision: 0.0000e+00 - recall: 0.0000e+00 - auc: 0.4881 - val_loss: 0.6647 - val_binary_accuracy: 0.8831 - val_false_negatives: 27.0000 - val_false_positives: 0.0000e+00 - val_precision: 0.0000e+00 - val_recall: 0.0000e+00 - val_auc: 0.5000\n",
      "processed so far: [1.92]\n",
      "train size: [921] val size: [231]\n",
      "58/58 [==============================] - 50s 860ms/step - loss: 0.7314 - binary_accuracy: 0.8654 - false_negatives: 100.0000 - false_positives: 24.0000 - precision: 0.1111 - recall: 0.0291 - auc: 0.4979 - val_loss: 0.6835 - val_binary_accuracy: 0.8961 - val_false_negatives: 24.0000 - val_false_positives: 0.0000e+00 - val_precision: 0.0000e+00 - val_recall: 0.0000e+00 - val_auc: 0.5000\n",
      "processed so far: [3.84]\n",
      "train size: [921] val size: [231]\n",
      "58/58 [==============================] - 50s 861ms/step - loss: 0.7341 - binary_accuracy: 0.6547 - false_negatives: 81.0000 - false_positives: 237.0000 - precision: 0.0885 - recall: 0.2212 - auc: 0.4765 - val_loss: 0.6951 - val_binary_accuracy: 0.0952 - val_false_negatives: 0.0000e+00 - val_false_positives: 209.0000 - val_precision: 0.0952 - val_recall: 1.0000 - val_auc: 0.5000\n",
      "processed so far: [5.76]\n",
      "train size: [921] val size: [231]\n",
      "58/58 [==============================] - 50s 862ms/step - loss: 0.6826 - binary_accuracy: 0.4050 - false_negatives: 31.0000 - false_positives: 517.0000 - precision: 0.1009 - recall: 0.6517 - auc: 0.5175 - val_loss: 0.6936 - val_binary_accuracy: 0.1126 - val_false_negatives: 0.0000e+00 - val_false_positives: 205.0000 - val_precision: 0.1126 - val_recall: 1.0000 - val_auc: 0.5000\n",
      "processed so far: [7.68]\n",
      "train size: [921] val size: [231]\n",
      "58/58 [==============================] - 50s 859ms/step - loss: 0.6596 - binary_accuracy: 0.6895 - false_negatives: 63.0000 - false_positives: 223.0000 - precision: 0.0785 - recall: 0.2317 - auc: 0.4809 - val_loss: 0.6829 - val_binary_accuracy: 0.9134 - val_false_negatives: 20.0000 - val_false_positives: 0.0000e+00 - val_precision: 0.0000e+00 - val_recall: 0.0000e+00 - val_auc: 0.5000\n",
      "processed so far: [9.60]\n",
      "train size: [921] val size: [231]\n",
      "58/58 [==============================] - 50s 858ms/step - loss: 0.7263 - binary_accuracy: 0.6482 - false_negatives: 66.0000 - false_positives: 258.0000 - precision: 0.1224 - recall: 0.3529 - auc: 0.4979 - val_loss: 0.6942 - val_binary_accuracy: 0.1342 - val_false_negatives: 0.0000e+00 - val_false_positives: 200.0000 - val_precision: 0.1342 - val_recall: 1.0000 - val_auc: 0.5000\n",
      "processed so far: [11.52]\n",
      "train size: [921] val size: [231]\n",
      "58/58 [==============================] - 50s 858ms/step - loss: 0.7095 - binary_accuracy: 0.3312 - false_negatives: 24.0000 - false_positives: 592.0000 - precision: 0.1098 - recall: 0.7526 - auc: 0.4919 - val_loss: 0.6998 - val_binary_accuracy: 0.1342 - val_false_negatives: 0.0000e+00 - val_false_positives: 200.0000 - val_precision: 0.1342 - val_recall: 1.0000 - val_auc: 0.5000\n",
      "processed so far: [13.44]\n",
      "train size: [921] val size: [231]\n",
      "58/58 [==============================] - 50s 860ms/step - loss: 0.6996 - binary_accuracy: 0.1553 - false_negatives: 4.0000 - false_positives: 774.0000 - precision: 0.1042 - recall: 0.9574 - auc: 0.4951 - val_loss: 0.7013 - val_binary_accuracy: 0.0866 - val_false_negatives: 0.0000e+00 - val_false_positives: 211.0000 - val_precision: 0.0866 - val_recall: 1.0000 - val_auc: 0.5000\n",
      "processed so far: [15.36]\n",
      "train size: [921] val size: [231]\n",
      "58/58 [==============================] - 50s 861ms/step - loss: 0.6829 - binary_accuracy: 0.3431 - false_negatives: 24.0000 - false_positives: 581.0000 - precision: 0.1006 - recall: 0.7303 - auc: 0.5203 - val_loss: 0.6959 - val_binary_accuracy: 0.0823 - val_false_negatives: 0.0000e+00 - val_false_positives: 212.0000 - val_precision: 0.0823 - val_recall: 1.0000 - val_auc: 0.5000\n",
      "processed so far: [17.28]\n",
      "train size: [921] val size: [231]\n",
      "58/58 [==============================] - 50s 859ms/step - loss: 0.6924 - binary_accuracy: 0.6265 - false_negatives: 51.0000 - false_positives: 293.0000 - precision: 0.1228 - recall: 0.4457 - auc: 0.5307 - val_loss: 0.6922 - val_binary_accuracy: 0.9134 - val_false_negatives: 20.0000 - val_false_positives: 0.0000e+00 - val_precision: 0.0000e+00 - val_recall: 0.0000e+00 - val_auc: 0.5000\n",
      "processed so far: [19.20]\n",
      "train size: [921] val size: [231]\n",
      "58/58 [==============================] - 50s 862ms/step - loss: 0.7258 - binary_accuracy: 0.2497 - false_negatives: 14.0000 - false_positives: 677.0000 - precision: 0.1150 - recall: 0.8627 - auc: 0.4930 - val_loss: 0.7058 - val_binary_accuracy: 0.0996 - val_false_negatives: 0.0000e+00 - val_false_positives: 208.0000 - val_precision: 0.0996 - val_recall: 1.0000 - val_auc: 0.5000\n",
      "processed so far: [21.12]\n",
      "train size: [921] val size: [231]\n",
      "58/58 [==============================] - 50s 859ms/step - loss: 0.6835 - binary_accuracy: 0.1368 - false_negatives: 1.0000 - false_positives: 794.0000 - precision: 0.0998 - recall: 0.9888 - auc: 0.4931 - val_loss: 0.7025 - val_binary_accuracy: 0.0996 - val_false_negatives: 0.0000e+00 - val_false_positives: 208.0000 - val_precision: 0.0996 - val_recall: 1.0000 - val_auc: 0.5000\n",
      "processed so far: [23.04]\n",
      "train size: [921] val size: [231]\n",
      "58/58 [==============================] - 50s 862ms/step - loss: 0.7061 - binary_accuracy: 0.2584 - false_negatives: 21.0000 - false_positives: 662.0000 - precision: 0.1018 - recall: 0.7812 - auc: 0.4968 - val_loss: 0.7027 - val_binary_accuracy: 0.1255 - val_false_negatives: 0.0000e+00 - val_false_positives: 202.0000 - val_precision: 0.1255 - val_recall: 1.0000 - val_auc: 0.5000\n",
      "processed so far: [24.96]\n",
      "train size: [921] val size: [231]\n",
      "58/58 [==============================] - 50s 859ms/step - loss: 0.6931 - binary_accuracy: 0.1488 - false_negatives: 8.0000 - false_positives: 776.0000 - precision: 0.0977 - recall: 0.9130 - auc: 0.4957 - val_loss: 0.7055 - val_binary_accuracy: 0.1039 - val_false_negatives: 0.0000e+00 - val_false_positives: 207.0000 - val_precision: 0.1039 - val_recall: 1.0000 - val_auc: 0.5000\n",
      "processed so far: [26.88]\n",
      "train size: [921] val size: [231]\n",
      "58/58 [==============================] - 50s 865ms/step - loss: 0.6870 - binary_accuracy: 0.1325 - false_negatives: 3.0000 - false_positives: 796.0000 - precision: 0.0985 - recall: 0.9667 - auc: 0.4731 - val_loss: 0.7017 - val_binary_accuracy: 0.0996 - val_false_negatives: 0.0000e+00 - val_false_positives: 208.0000 - val_precision: 0.0996 - val_recall: 1.0000 - val_auc: 0.5000\n",
      "processed so far: [28.80]\n",
      "train size: [921] val size: [231]\n",
      "58/58 [==============================] - 50s 864ms/step - loss: 0.6154 - binary_accuracy: 0.5168 - false_negatives: 34.0000 - false_positives: 411.0000 - precision: 0.0785 - recall: 0.5072 - auc: 0.5158 - val_loss: 0.6728 - val_binary_accuracy: 0.9091 - val_false_negatives: 21.0000 - val_false_positives: 0.0000e+00 - val_precision: 0.0000e+00 - val_recall: 0.0000e+00 - val_auc: 0.5000\n",
      "processed so far: [30.72]\n",
      "train size: [921] val size: [231]\n",
      "58/58 [==============================] - 50s 862ms/step - loss: 0.6932 - binary_accuracy: 0.8838 - false_negatives: 90.0000 - false_positives: 17.0000 - precision: 0.1053 - recall: 0.0217 - auc: 0.4996 - val_loss: 0.6771 - val_binary_accuracy: 0.8874 - val_false_negatives: 26.0000 - val_false_positives: 0.0000e+00 - val_precision: 0.0000e+00 - val_recall: 0.0000e+00 - val_auc: 0.5000\n",
      "processed so far: [32.64]\n",
      "train size: [921] val size: [231]\n",
      "58/58 [==============================] - 50s 859ms/step - loss: 0.7712 - binary_accuracy: 0.6764 - false_negatives: 86.0000 - false_positives: 212.0000 - precision: 0.1203 - recall: 0.2522 - auc: 0.4914 - val_loss: 0.7005 - val_binary_accuracy: 0.1082 - val_false_negatives: 0.0000e+00 - val_false_positives: 206.0000 - val_precision: 0.1082 - val_recall: 1.0000 - val_auc: 0.5000\n",
      "processed so far: [34.56]\n",
      "train size: [921] val size: [231]\n",
      "58/58 [==============================] - 50s 860ms/step - loss: 0.6636 - binary_accuracy: 0.1303 - false_negatives: 5.0000 - false_positives: 796.0000 - precision: 0.0892 - recall: 0.9398 - auc: 0.4951 - val_loss: 0.6994 - val_binary_accuracy: 0.0996 - val_false_negatives: 0.0000e+00 - val_false_positives: 208.0000 - val_precision: 0.0996 - val_recall: 1.0000 - val_auc: 0.5000\n",
      "processed so far: [36.48]\n",
      "train size: [921] val size: [231]\n",
      "58/58 [==============================] - 50s 858ms/step - loss: 0.5869 - binary_accuracy: 0.7872 - false_negatives: 48.0000 - false_positives: 148.0000 - precision: 0.0807 - recall: 0.2131 - auc: 0.4559 - val_loss: 0.6667 - val_binary_accuracy: 0.8701 - val_false_negatives: 30.0000 - val_false_positives: 0.0000e+00 - val_precision: 0.0000e+00 - val_recall: 0.0000e+00 - val_auc: 0.5000\n",
      "processed so far: [38.40]\n",
      "train size: [921] val size: [231]\n",
      "58/58 [==============================] - 50s 860ms/step - loss: 0.7290 - binary_accuracy: 0.8838 - false_negatives: 102.0000 - false_positives: 5.0000 - precision: 0.0000e+00 - recall: 0.0000e+00 - auc: 0.4802 - val_loss: 0.6769 - val_binary_accuracy: 0.9004 - val_false_negatives: 23.0000 - val_false_positives: 0.0000e+00 - val_precision: 0.0000e+00 - val_recall: 0.0000e+00 - val_auc: 0.5000\n",
      "processed so far: [40.32]\n",
      "train size: [921] val size: [231]\n",
      "58/58 [==============================] - 50s 861ms/step - loss: 0.6513 - binary_accuracy: 0.9110 - false_negatives: 80.0000 - false_positives: 2.0000 - precision: 0.0000e+00 - recall: 0.0000e+00 - auc: 0.4771 - val_loss: 0.6668 - val_binary_accuracy: 0.9177 - val_false_negatives: 19.0000 - val_false_positives: 0.0000e+00 - val_precision: 0.0000e+00 - val_recall: 0.0000e+00 - val_auc: 0.5000\n",
      "processed so far: [42.24]\n",
      "train size: [921] val size: [231]\n",
      "58/58 [==============================] - 50s 856ms/step - loss: 0.7041 - binary_accuracy: 0.8925 - false_negatives: 94.0000 - false_positives: 5.0000 - precision: 0.1667 - recall: 0.0105 - auc: 0.4729 - val_loss: 0.6787 - val_binary_accuracy: 0.8658 - val_false_negatives: 31.0000 - val_false_positives: 0.0000e+00 - val_precision: 0.0000e+00 - val_recall: 0.0000e+00 - val_auc: 0.5000\n",
      "processed so far: [44.16]\n",
      "train size: [921] val size: [231]\n",
      "58/58 [==============================] - 50s 859ms/step - loss: 0.6590 - binary_accuracy: 0.8969 - false_negatives: 82.0000 - false_positives: 13.0000 - precision: 0.0000e+00 - recall: 0.0000e+00 - auc: 0.4602 - val_loss: 0.6739 - val_binary_accuracy: 0.8615 - val_false_negatives: 32.0000 - val_false_positives: 0.0000e+00 - val_precision: 0.0000e+00 - val_recall: 0.0000e+00 - val_auc: 0.5000\n",
      "processed so far: [46.08]\n",
      "train size: [921] val size: [231]\n",
      "58/58 [==============================] - 50s 861ms/step - loss: 0.6872 - binary_accuracy: 0.9023 - false_negatives: 90.0000 - false_positives: 0.0000e+00 - precision: 0.0000e+00 - recall: 0.0000e+00 - auc: 0.4648 - val_loss: 0.6710 - val_binary_accuracy: 0.9177 - val_false_negatives: 19.0000 - val_false_positives: 0.0000e+00 - val_precision: 0.0000e+00 - val_recall: 0.0000e+00 - val_auc: 0.5000\n",
      "processed so far: [48.00]\n",
      "train size: [921] val size: [231]\n",
      "58/58 [==============================] - 50s 859ms/step - loss: 0.6654 - binary_accuracy: 0.8990 - false_negatives: 81.0000 - false_positives: 12.0000 - precision: 0.2000 - recall: 0.0357 - auc: 0.4769 - val_loss: 0.6718 - val_binary_accuracy: 0.9004 - val_false_negatives: 23.0000 - val_false_positives: 0.0000e+00 - val_precision: 0.0000e+00 - val_recall: 0.0000e+00 - val_auc: 0.5000\n",
      "processed so far: [49.92]\n",
      "train size: [921] val size: [231]\n",
      "58/58 [==============================] - 50s 860ms/step - loss: 0.6824 - binary_accuracy: 0.9023 - false_negatives: 89.0000 - false_positives: 1.0000 - precision: 0.0000e+00 - recall: 0.0000e+00 - auc: 0.5329 - val_loss: 0.6707 - val_binary_accuracy: 0.8918 - val_false_negatives: 25.0000 - val_false_positives: 0.0000e+00 - val_precision: 0.0000e+00 - val_recall: 0.0000e+00 - val_auc: 0.5000\n",
      "processed so far: [51.84]\n",
      "train size: [921] val size: [231]\n",
      "58/58 [==============================] - 50s 858ms/step - loss: 0.6761 - binary_accuracy: 0.9045 - false_negatives: 87.0000 - false_positives: 1.0000 - precision: 0.0000e+00 - recall: 0.0000e+00 - auc: 0.4766 - val_loss: 0.6664 - val_binary_accuracy: 0.9048 - val_false_negatives: 22.0000 - val_false_positives: 0.0000e+00 - val_precision: 0.0000e+00 - val_recall: 0.0000e+00 - val_auc: 0.5000\n",
      "processed so far: [53.76]\n",
      "train size: [921] val size: [231]\n",
      "58/58 [==============================] - 50s 859ms/step - loss: 0.6903 - binary_accuracy: 0.9001 - false_negatives: 91.0000 - false_positives: 1.0000 - precision: 0.0000e+00 - recall: 0.0000e+00 - auc: 0.4678 - val_loss: 0.6746 - val_binary_accuracy: 0.9134 - val_false_negatives: 20.0000 - val_false_positives: 0.0000e+00 - val_precision: 0.0000e+00 - val_recall: 0.0000e+00 - val_auc: 0.5000\n",
      "processed so far: [55.68]\n",
      "train size: [921] val size: [231]\n",
      "58/58 [==============================] - 50s 858ms/step - loss: 0.6726 - binary_accuracy: 0.8979 - false_negatives: 86.0000 - false_positives: 8.0000 - precision: 0.0000e+00 - recall: 0.0000e+00 - auc: 0.4746 - val_loss: 0.6753 - val_binary_accuracy: 0.9048 - val_false_negatives: 22.0000 - val_false_positives: 0.0000e+00 - val_precision: 0.0000e+00 - val_recall: 0.0000e+00 - val_auc: 0.5000\n",
      "processed so far: [57.60]\n",
      "train size: [921] val size: [231]\n",
      "58/58 [==============================] - 50s 857ms/step - loss: 0.6934 - binary_accuracy: 0.8958 - false_negatives: 91.0000 - false_positives: 5.0000 - precision: 0.1667 - recall: 0.0109 - auc: 0.4769 - val_loss: 0.6790 - val_binary_accuracy: 0.8831 - val_false_negatives: 27.0000 - val_false_positives: 0.0000e+00 - val_precision: 0.0000e+00 - val_recall: 0.0000e+00 - val_auc: 0.5000\n",
      "processed so far: [59.52]\n",
      "train size: [921] val size: [231]\n",
      "58/58 [==============================] - 50s 859ms/step - loss: 0.6692 - binary_accuracy: 0.8882 - false_negatives: 82.0000 - false_positives: 21.0000 - precision: 0.1250 - recall: 0.0353 - auc: 0.4735 - val_loss: 0.6763 - val_binary_accuracy: 0.9004 - val_false_negatives: 23.0000 - val_false_positives: 0.0000e+00 - val_precision: 0.0000e+00 - val_recall: 0.0000e+00 - val_auc: 0.5000\n",
      "processed so far: [61.44]\n",
      "train size: [921] val size: [231]\n",
      "58/58 [==============================] - 50s 857ms/step - loss: 0.6616 - binary_accuracy: 0.9110 - false_negatives: 82.0000 - false_positives: 0.0000e+00 - precision: 1.0000 - recall: 0.0120 - auc: 0.5102 - val_loss: 0.6680 - val_binary_accuracy: 0.9004 - val_false_negatives: 23.0000 - val_false_positives: 0.0000e+00 - val_precision: 0.0000e+00 - val_recall: 0.0000e+00 - val_auc: 0.5000\n",
      "processed so far: [63.36]\n",
      "train size: [921] val size: [231]\n",
      "58/58 [==============================] - 50s 859ms/step - loss: 0.6933 - binary_accuracy: 0.8969 - false_negatives: 92.0000 - false_positives: 3.0000 - precision: 0.0000e+00 - recall: 0.0000e+00 - auc: 0.5092 - val_loss: 0.6734 - val_binary_accuracy: 0.8961 - val_false_negatives: 24.0000 - val_false_positives: 0.0000e+00 - val_precision: 0.0000e+00 - val_recall: 0.0000e+00 - val_auc: 0.5000\n",
      "processed so far: [65.28]\n",
      "train size: [921] val size: [231]\n",
      "58/58 [==============================] - 50s 859ms/step - loss: 0.7406 - binary_accuracy: 0.8621 - false_negatives: 101.0000 - false_positives: 26.0000 - precision: 0.1613 - recall: 0.0472 - auc: 0.5417 - val_loss: 0.6877 - val_binary_accuracy: 0.9048 - val_false_negatives: 22.0000 - val_false_positives: 0.0000e+00 - val_precision: 0.0000e+00 - val_recall: 0.0000e+00 - val_auc: 0.5000\n",
      "processed so far: [67.20]\n",
      "train size: [921] val size: [231]\n",
      "58/58 [==============================] - 50s 858ms/step - loss: 0.7069 - binary_accuracy: 0.4224 - false_negatives: 48.0000 - false_positives: 484.0000 - precision: 0.0902 - recall: 0.5000 - auc: 0.4401 - val_loss: 0.6948 - val_binary_accuracy: 0.1515 - val_false_negatives: 0.0000e+00 - val_false_positives: 196.0000 - val_precision: 0.1515 - val_recall: 1.0000 - val_auc: 0.5000\n",
      "processed so far: [69.12]\n",
      "train size: [921] val size: [231]\n",
      "58/58 [==============================] - 50s 858ms/step - loss: 0.7031 - binary_accuracy: 0.2519 - false_negatives: 18.0000 - false_positives: 671.0000 - precision: 0.1029 - recall: 0.8105 - auc: 0.4629 - val_loss: 0.6987 - val_binary_accuracy: 0.0779 - val_false_negatives: 0.0000e+00 - val_false_positives: 213.0000 - val_precision: 0.0779 - val_recall: 1.0000 - val_auc: 0.5000\n",
      "processed so far: [71.04]\n",
      "train size: [921] val size: [231]\n",
      "58/58 [==============================] - 50s 859ms/step - loss: 0.6890 - binary_accuracy: 0.3735 - false_negatives: 34.0000 - false_positives: 543.0000 - precision: 0.0950 - recall: 0.6264 - auc: 0.5151 - val_loss: 0.6934 - val_binary_accuracy: 0.0693 - val_false_negatives: 0.0000e+00 - val_false_positives: 215.0000 - val_precision: 0.0693 - val_recall: 1.0000 - val_auc: 0.5000\n",
      "processed so far: [72.96]\n",
      "train size: [921] val size: [231]\n",
      "58/58 [==============================] - 50s 859ms/step - loss: 0.6699 - binary_accuracy: 0.6840 - false_negatives: 63.0000 - false_positives: 228.0000 - precision: 0.0880 - recall: 0.2588 - auc: 0.4499 - val_loss: 0.6861 - val_binary_accuracy: 0.9134 - val_false_negatives: 20.0000 - val_false_positives: 0.0000e+00 - val_precision: 0.0000e+00 - val_recall: 0.0000e+00 - val_auc: 0.5000\n",
      "processed so far: [74.88]\n",
      "train size: [921] val size: [231]\n",
      "58/58 [==============================] - 50s 857ms/step - loss: 0.6695 - binary_accuracy: 0.8339 - false_negatives: 78.0000 - false_positives: 75.0000 - precision: 0.0854 - recall: 0.0824 - auc: 0.4556 - val_loss: 0.6819 - val_binary_accuracy: 0.9264 - val_false_negatives: 17.0000 - val_false_positives: 0.0000e+00 - val_precision: 0.0000e+00 - val_recall: 0.0000e+00 - val_auc: 0.5000\n",
      "processed so far: [76.80]\n",
      "train size: [921] val size: [231]\n",
      "58/58 [==============================] - 50s 858ms/step - loss: 0.7039 - binary_accuracy: 0.8610 - false_negatives: 89.0000 - false_positives: 39.0000 - precision: 0.1333 - recall: 0.0632 - auc: 0.4431 - val_loss: 0.6827 - val_binary_accuracy: 0.9134 - val_false_negatives: 20.0000 - val_false_positives: 0.0000e+00 - val_precision: 0.0000e+00 - val_recall: 0.0000e+00 - val_auc: 0.5000\n",
      "processed so far: [78.72]\n",
      "train size: [921] val size: [231]\n",
      "58/58 [==============================] - 50s 857ms/step - loss: 0.7296 - binary_accuracy: 0.5635 - false_negatives: 63.0000 - false_positives: 339.0000 - precision: 0.1055 - recall: 0.3883 - auc: 0.5271 - val_loss: 0.6967 - val_binary_accuracy: 0.0823 - val_false_negatives: 0.0000e+00 - val_false_positives: 212.0000 - val_precision: 0.0823 - val_recall: 1.0000 - val_auc: 0.5000\n",
      "processed so far: [80.64]\n",
      "train size: [921] val size: [231]\n",
      "58/58 [==============================] - 50s 858ms/step - loss: 0.6934 - binary_accuracy: 0.2649 - false_negatives: 28.0000 - false_positives: 649.0000 - precision: 0.0898 - recall: 0.6957 - auc: 0.4845 - val_loss: 0.6960 - val_binary_accuracy: 0.1082 - val_false_negatives: 0.0000e+00 - val_false_positives: 206.0000 - val_precision: 0.1082 - val_recall: 1.0000 - val_auc: 0.5000\n",
      "processed so far: [82.56]\n",
      "train size: [921] val size: [231]\n",
      "58/58 [==============================] - 50s 857ms/step - loss: 0.6797 - binary_accuracy: 0.4973 - false_negatives: 46.0000 - false_positives: 417.0000 - precision: 0.0915 - recall: 0.4773 - auc: 0.4879 - val_loss: 0.6930 - val_binary_accuracy: 0.8788 - val_false_negatives: 28.0000 - val_false_positives: 0.0000e+00 - val_precision: 0.0000e+00 - val_recall: 0.0000e+00 - val_auc: 0.5000\n",
      "processed so far: [84.48]\n",
      "train size: [921] val size: [231]\n",
      "58/58 [==============================] - 50s 856ms/step - loss: 0.7194 - binary_accuracy: 0.6004 - false_negatives: 59.0000 - false_positives: 309.0000 - precision: 0.1171 - recall: 0.4100 - auc: 0.5043 - val_loss: 0.6959 - val_binary_accuracy: 0.1212 - val_false_negatives: 0.0000e+00 - val_false_positives: 203.0000 - val_precision: 0.1212 - val_recall: 1.0000 - val_auc: 0.5000\n",
      "processed so far: [86.40]\n",
      "train size: [921] val size: [231]\n",
      "58/58 [==============================] - 50s 858ms/step - loss: 0.7222 - binary_accuracy: 0.1922 - false_negatives: 11.0000 - false_positives: 733.0000 - precision: 0.1094 - recall: 0.8911 - auc: 0.5281 - val_loss: 0.7046 - val_binary_accuracy: 0.1212 - val_false_negatives: 0.0000e+00 - val_false_positives: 203.0000 - val_precision: 0.1212 - val_recall: 1.0000 - val_auc: 0.5000\n",
      "processed so far: [88.32]\n",
      "train size: [921] val size: [231]\n",
      "58/58 [==============================] - 50s 857ms/step - loss: 0.6769 - binary_accuracy: 0.1857 - false_negatives: 5.0000 - false_positives: 745.0000 - precision: 0.0992 - recall: 0.9425 - auc: 0.4571 - val_loss: 0.6972 - val_binary_accuracy: 0.1039 - val_false_negatives: 0.0000e+00 - val_false_positives: 207.0000 - val_precision: 0.1039 - val_recall: 1.0000 - val_auc: 0.5000\n",
      "processed so far: [90.24]\n",
      "train size: [921] val size: [231]\n",
      "58/58 [==============================] - 50s 858ms/step - loss: 0.6766 - binary_accuracy: 0.4777 - false_negatives: 47.0000 - false_positives: 434.0000 - precision: 0.0844 - recall: 0.4598 - auc: 0.4752 - val_loss: 0.6889 - val_binary_accuracy: 0.8528 - val_false_negatives: 34.0000 - val_false_positives: 0.0000e+00 - val_precision: 0.0000e+00 - val_recall: 0.0000e+00 - val_auc: 0.5000\n",
      "processed so far: [92.16]\n",
      "train size: [921] val size: [231]\n",
      "58/58 [==============================] - 50s 858ms/step - loss: 0.6617 - binary_accuracy: 0.8002 - false_negatives: 69.0000 - false_positives: 115.0000 - precision: 0.1085 - recall: 0.1687 - auc: 0.5622 - val_loss: 0.6831 - val_binary_accuracy: 0.8831 - val_false_negatives: 27.0000 - val_false_positives: 0.0000e+00 - val_precision: 0.0000e+00 - val_recall: 0.0000e+00 - val_auc: 0.5000\n",
      "processed so far: [94.08]\n",
      "train size: [921] val size: [231]\n",
      "58/58 [==============================] - 50s 867ms/step - loss: 0.7172 - binary_accuracy: 0.7655 - false_negatives: 87.0000 - false_positives: 129.0000 - precision: 0.0851 - recall: 0.1212 - auc: 0.4857 - val_loss: 0.6920 - val_binary_accuracy: 0.9004 - val_false_negatives: 23.0000 - val_false_positives: 0.0000e+00 - val_precision: 0.0000e+00 - val_recall: 0.0000e+00 - val_auc: 0.5000\n",
      "processed so far: [96.00]\n",
      "train size: [921] val size: [231]\n",
      "58/58 [==============================] - 50s 857ms/step - loss: 0.7196 - binary_accuracy: 0.4017 - false_negatives: 40.0000 - false_positives: 511.0000 - precision: 0.1051 - recall: 0.6000 - auc: 0.4981 - val_loss: 0.6983 - val_binary_accuracy: 0.1082 - val_false_negatives: 0.0000e+00 - val_false_positives: 206.0000 - val_precision: 0.1082 - val_recall: 1.0000 - val_auc: 0.5000\n",
      "processed so far: [97.92]\n",
      "train size: [921] val size: [231]\n",
      "58/58 [==============================] - 50s 859ms/step - loss: 0.7098 - binary_accuracy: 0.1596 - false_negatives: 9.0000 - false_positives: 765.0000 - precision: 0.1032 - recall: 0.9072 - auc: 0.4683 - val_loss: 0.7044 - val_binary_accuracy: 0.0866 - val_false_negatives: 0.0000e+00 - val_false_positives: 211.0000 - val_precision: 0.0866 - val_recall: 1.0000 - val_auc: 0.5000\n",
      "processed so far: [99.84]\n",
      "train size: [76] val size: [20]\n",
      "5/5 [==============================] - 4s 845ms/step - loss: 0.7106 - binary_accuracy: 0.1316 - false_negatives: 0.0000e+00 - false_positives: 66.0000 - precision: 0.1081 - recall: 1.0000 - auc: 0.3888 - val_loss: 0.7057 - val_binary_accuracy: 0.0000e+00 - val_false_negatives: 0.0000e+00 - val_false_positives: 20.0000 - val_precision: 0.0000e+00 - val_recall: 0.0000e+00 - val_auc: 0.0000e+00\n",
      "processed so far: [101.76]\n"
     ]
    }
   ],
   "source": [
    "batch_size = 1024+128\n",
    "total = 0\n",
    "next_index = 0\n",
    "\n",
    "class_weights_0, class_weights_1 = class_weight.compute_class_weight('balanced', np.unique(tags), classes=[0, 1], y=tags)\n",
    "\n",
    "print(\"signal weight: [%f] - noiseweight: [%f]\"%(class_weights_1, class_weights_0))\n",
    "for epochs in range(5):\n",
    "    gc.collect()\n",
    "    train_paths, tags = shuffle(train_paths, tags)\n",
    "    total = 0\n",
    "    print(\"Epoch: [%i]\"%(epochs))\n",
    "    next_index = 0\n",
    "    for index in range(0, train_paths.shape[0], batch_size):        \n",
    "        next_index = index + batch_size if train_paths.shape[0] - next_index >= batch_size else train_paths.shape[0]\n",
    "        \n",
    "        batch_x = load_batches(train_paths, index, next_index)\n",
    "        batch_y = tags[index: next_index]\n",
    "\n",
    "#         train_x, train_y, val_x, val_y = split_train_val(batch_x, batch_y, 0.2)\n",
    "        train_x, val_x, train_y, val_y = train_test_split(batch_x, batch_y, test_size=0.2)\n",
    "\n",
    "        print(\"train size: [%i] val size: [%i]\"%(train_x.shape[0], val_x.shape[0]))\n",
    "        \n",
    "        model.fit(x=train_x,\n",
    "                y=train_y,\n",
    "                validation_data=(val_x, val_y), \n",
    "                class_weight={0:class_weights_0, 1:class_weights_1},\n",
    "                batch_size = 16,\n",
    "                epochs=1)\n",
    "        \n",
    "        del batch_x\n",
    "        del batch_y\n",
    "        del train_x\n",
    "        del train_y\n",
    "        del val_x\n",
    "        del val_y\n",
    "        gc.collect()\n",
    "        \n",
    "        total += batch_size\n",
    "        print(\"processed so far: [%.2f]\"%((total/train_paths.shape[0])*100))"
   ]
  },
  {
   "cell_type": "code",
   "execution_count": 31,
   "id": "a434dce0",
   "metadata": {
    "execution": {
     "iopub.execute_input": "2021-08-04T06:57:18.292117Z",
     "iopub.status.busy": "2021-08-04T06:57:18.282082Z",
     "iopub.status.idle": "2021-08-04T06:57:18.319093Z",
     "shell.execute_reply": "2021-08-04T06:57:18.318438Z"
    },
    "papermill": {
     "duration": 4.475876,
     "end_time": "2021-08-04T06:57:18.319281",
     "exception": false,
     "start_time": "2021-08-04T06:57:13.843405",
     "status": "completed"
    },
    "tags": []
   },
   "outputs": [
    {
     "name": "stdout",
     "output_type": "stream",
     "text": [
      "Model: \"model\"\n",
      "_________________________________________________________________\n",
      "Layer (type)                 Output Shape              Param #   \n",
      "=================================================================\n",
      "input_1 (InputLayer)         [(None, 6, 273, 256, 1)]  0         \n",
      "_________________________________________________________________\n",
      "time_distributed (TimeDistri (None, 6, 273, 256, 1)    4         \n",
      "_________________________________________________________________\n",
      "time_distributed_1 (TimeDist (None, 6, 271, 254, 64)   640       \n",
      "_________________________________________________________________\n",
      "time_distributed_2 (TimeDist (None, 6, 269, 252, 64)   36928     \n",
      "_________________________________________________________________\n",
      "time_distributed_3 (TimeDist (None, 6, 134, 126, 64)   0         \n",
      "_________________________________________________________________\n",
      "time_distributed_4 (TimeDist (None, 6, 134, 126, 64)   256       \n",
      "_________________________________________________________________\n",
      "time_distributed_5 (TimeDist (None, 6, 132, 124, 128)  73856     \n",
      "_________________________________________________________________\n",
      "time_distributed_6 (TimeDist (None, 6, 130, 122, 128)  147584    \n",
      "_________________________________________________________________\n",
      "time_distributed_7 (TimeDist (None, 6, 65, 61, 128)    0         \n",
      "_________________________________________________________________\n",
      "time_distributed_8 (TimeDist (None, 6, 65, 61, 128)    512       \n",
      "_________________________________________________________________\n",
      "time_distributed_9 (TimeDist (None, 6, 63, 59, 256)    295168    \n",
      "_________________________________________________________________\n",
      "time_distributed_10 (TimeDis (None, 6, 61, 57, 256)    590080    \n",
      "_________________________________________________________________\n",
      "time_distributed_11 (TimeDis (None, 6, 59, 55, 256)    590080    \n",
      "_________________________________________________________________\n",
      "time_distributed_12 (TimeDis (None, 6, 29, 27, 256)    0         \n",
      "_________________________________________________________________\n",
      "time_distributed_13 (TimeDis (None, 6, 29, 27, 256)    1024      \n",
      "_________________________________________________________________\n",
      "time_distributed_14 (TimeDis (None, 6, 27, 25, 512)    1180160   \n",
      "_________________________________________________________________\n",
      "time_distributed_15 (TimeDis (None, 6, 25, 23, 512)    2359808   \n",
      "_________________________________________________________________\n",
      "time_distributed_16 (TimeDis (None, 6, 23, 21, 512)    2359808   \n",
      "_________________________________________________________________\n",
      "time_distributed_17 (TimeDis (None, 6, 11, 10, 512)    0         \n",
      "_________________________________________________________________\n",
      "time_distributed_18 (TimeDis (None, 6, 11, 10, 512)    2048      \n",
      "_________________________________________________________________\n",
      "time_distributed_19 (TimeDis (None, 6, 9, 8, 512)      2359808   \n",
      "_________________________________________________________________\n",
      "time_distributed_20 (TimeDis (None, 6, 7, 6, 512)      2359808   \n",
      "_________________________________________________________________\n",
      "time_distributed_21 (TimeDis (None, 6, 5, 4, 512)      2359808   \n",
      "_________________________________________________________________\n",
      "time_distributed_22 (TimeDis (None, 6, 2, 2, 512)      0         \n",
      "_________________________________________________________________\n",
      "time_distributed_23 (TimeDis (None, 6, 2, 2, 512)      2048      \n",
      "_________________________________________________________________\n",
      "time_distributed_24 (TimeDis (None, 6, 2048)           0         \n",
      "_________________________________________________________________\n",
      "time_distributed_25 (TimeDis (None, 6, 4096)           8392704   \n",
      "_________________________________________________________________\n",
      "time_distributed_26 (TimeDis (None, 6, 4096)           0         \n",
      "_________________________________________________________________\n",
      "time_distributed_27 (TimeDis (None, 6, 4096)           16781312  \n",
      "_________________________________________________________________\n",
      "time_distributed_28 (TimeDis (None, 6, 4096)           0         \n",
      "_________________________________________________________________\n",
      "bidirectional (Bidirectional (None, 6, 12)             196944    \n",
      "_________________________________________________________________\n",
      "bidirectional_1 (Bidirection (None, 6, 12)             912       \n",
      "_________________________________________________________________\n",
      "bidirectional_2 (Bidirection (None, 6, 12)             912       \n",
      "_________________________________________________________________\n",
      "bidirectional_3 (Bidirection (None, 6, 12)             912       \n",
      "_________________________________________________________________\n",
      "bidirectional_4 (Bidirection (None, 12)                912       \n",
      "_________________________________________________________________\n",
      "dense_2 (Dense)              (None, 1024)              13312     \n",
      "_________________________________________________________________\n",
      "dropout_2 (Dropout)          (None, 1024)              0         \n",
      "_________________________________________________________________\n",
      "dense_3 (Dense)              (None, 1)                 1025      \n",
      "=================================================================\n",
      "Total params: 40,108,373\n",
      "Trainable params: 40,105,427\n",
      "Non-trainable params: 2,946\n",
      "_________________________________________________________________\n"
     ]
    }
   ],
   "source": [
    "model.summary()"
   ]
  },
  {
   "cell_type": "code",
   "execution_count": 32,
   "id": "bbd694bc",
   "metadata": {
    "execution": {
     "iopub.execute_input": "2021-08-04T06:57:27.864685Z",
     "iopub.status.busy": "2021-08-04T06:57:27.864030Z",
     "iopub.status.idle": "2021-08-04T07:20:37.157290Z",
     "shell.execute_reply": "2021-08-04T07:20:37.156614Z"
    },
    "papermill": {
     "duration": 1394.103154,
     "end_time": "2021-08-04T07:20:37.158244",
     "exception": false,
     "start_time": "2021-08-04T06:57:23.055090",
     "status": "completed"
    },
    "tags": []
   },
   "outputs": [
    {
     "name": "stdout",
     "output_type": "stream",
     "text": [
      "39995\n",
      "(0, 1024)\n",
      "processed so far: [1024]\n",
      "38971\n",
      "(1024, 2048)\n",
      "processed so far: [2048]\n",
      "37947\n",
      "(2048, 3072)\n",
      "processed so far: [3072]\n",
      "36923\n",
      "(3072, 4096)\n",
      "processed so far: [4096]\n",
      "35899\n",
      "(4096, 5120)\n",
      "processed so far: [5120]\n",
      "34875\n",
      "(5120, 6144)\n",
      "processed so far: [6144]\n",
      "33851\n",
      "(6144, 7168)\n",
      "processed so far: [7168]\n",
      "32827\n",
      "(7168, 8192)\n",
      "processed so far: [8192]\n",
      "31803\n",
      "(8192, 9216)\n",
      "processed so far: [9216]\n",
      "30779\n",
      "(9216, 10240)\n",
      "processed so far: [10240]\n",
      "29755\n",
      "(10240, 11264)\n",
      "processed so far: [11264]\n",
      "28731\n",
      "(11264, 12288)\n",
      "processed so far: [12288]\n",
      "27707\n",
      "(12288, 13312)\n",
      "processed so far: [13312]\n",
      "26683\n",
      "(13312, 14336)\n",
      "processed so far: [14336]\n",
      "25659\n",
      "(14336, 15360)\n",
      "processed so far: [15360]\n",
      "24635\n",
      "(15360, 16384)\n",
      "processed so far: [16384]\n",
      "23611\n",
      "(16384, 17408)\n",
      "processed so far: [17408]\n",
      "22587\n",
      "(17408, 18432)\n",
      "processed so far: [18432]\n",
      "21563\n",
      "(18432, 19456)\n",
      "processed so far: [19456]\n",
      "20539\n",
      "(19456, 20480)\n",
      "processed so far: [20480]\n",
      "19515\n",
      "(20480, 21504)\n",
      "processed so far: [21504]\n",
      "18491\n",
      "(21504, 22528)\n",
      "processed so far: [22528]\n",
      "17467\n",
      "(22528, 23552)\n",
      "processed so far: [23552]\n",
      "16443\n",
      "(23552, 24576)\n",
      "processed so far: [24576]\n",
      "15419\n",
      "(24576, 25600)\n",
      "processed so far: [25600]\n",
      "14395\n",
      "(25600, 26624)\n",
      "processed so far: [26624]\n",
      "13371\n",
      "(26624, 27648)\n",
      "processed so far: [27648]\n",
      "12347\n",
      "(27648, 28672)\n",
      "processed so far: [28672]\n",
      "11323\n",
      "(28672, 29696)\n",
      "processed so far: [29696]\n",
      "10299\n",
      "(29696, 30720)\n",
      "processed so far: [30720]\n",
      "9275\n",
      "(30720, 31744)\n",
      "processed so far: [31744]\n",
      "8251\n",
      "(31744, 32768)\n",
      "processed so far: [32768]\n",
      "7227\n",
      "(32768, 33792)\n",
      "processed so far: [33792]\n",
      "6203\n",
      "(33792, 34816)\n",
      "processed so far: [34816]\n",
      "5179\n",
      "(34816, 35840)\n",
      "processed so far: [35840]\n",
      "4155\n",
      "(35840, 36864)\n",
      "processed so far: [36864]\n",
      "3131\n",
      "(36864, 37888)\n",
      "processed so far: [37888]\n",
      "2107\n",
      "(37888, 38912)\n",
      "processed so far: [38912]\n",
      "1083\n",
      "(38912, 39936)\n",
      "processed so far: [39936]\n",
      "59\n",
      "(39936, 39995)\n",
      "processed so far: [40960]\n"
     ]
    }
   ],
   "source": [
    "#Predict\n",
    "gc.collect()\n",
    "batch_size = 1024\n",
    "total = 0\n",
    "next_index = 0\n",
    "predictions = []\n",
    "for index in range(0, test_path.shape[0], batch_size):\n",
    "    print(test_path.shape[0]-next_index)\n",
    "    next_index = index+batch_size if test_path.shape[0]-next_index >= batch_size else test_path.shape[0]\n",
    "    print((index, next_index))\n",
    "    batch = load_batches(test_path, index, next_index)\n",
    "    predictions.extend(model.predict(batch))\n",
    "    total+=batch_size\n",
    "    del batch\n",
    "    gc.collect()\n",
    "    print(\"processed so far: [%i]\"%(total))"
   ]
  },
  {
   "cell_type": "code",
   "execution_count": 33,
   "id": "f0ca5465",
   "metadata": {
    "execution": {
     "iopub.execute_input": "2021-08-04T07:20:46.152642Z",
     "iopub.status.busy": "2021-08-04T07:20:46.151883Z",
     "iopub.status.idle": "2021-08-04T07:20:46.184391Z",
     "shell.execute_reply": "2021-08-04T07:20:46.183919Z"
    },
    "papermill": {
     "duration": 4.49332,
     "end_time": "2021-08-04T07:20:46.184538",
     "exception": false,
     "start_time": "2021-08-04T07:20:41.691218",
     "status": "completed"
    },
    "tags": []
   },
   "outputs": [],
   "source": [
    "predictions = np.array(predictions)"
   ]
  },
  {
   "cell_type": "code",
   "execution_count": 34,
   "id": "8d3f8f73",
   "metadata": {
    "execution": {
     "iopub.execute_input": "2021-08-04T07:20:54.973667Z",
     "iopub.status.busy": "2021-08-04T07:20:54.972821Z",
     "iopub.status.idle": "2021-08-04T07:20:54.975047Z",
     "shell.execute_reply": "2021-08-04T07:20:54.975561Z"
    },
    "papermill": {
     "duration": 4.217455,
     "end_time": "2021-08-04T07:20:54.975705",
     "exception": false,
     "start_time": "2021-08-04T07:20:50.758250",
     "status": "completed"
    },
    "tags": []
   },
   "outputs": [],
   "source": [
    "predictions = predictions.reshape(-1)"
   ]
  },
  {
   "cell_type": "code",
   "execution_count": 35,
   "id": "8db024eb",
   "metadata": {
    "execution": {
     "iopub.execute_input": "2021-08-04T07:21:04.765907Z",
     "iopub.status.busy": "2021-08-04T07:21:04.750456Z",
     "iopub.status.idle": "2021-08-04T07:21:04.802570Z",
     "shell.execute_reply": "2021-08-04T07:21:04.802026Z"
    },
    "papermill": {
     "duration": 4.631204,
     "end_time": "2021-08-04T07:21:04.802704",
     "exception": false,
     "start_time": "2021-08-04T07:21:00.171500",
     "status": "completed"
    },
    "tags": []
   },
   "outputs": [],
   "source": [
    "preds_list = []\n",
    "for index in range(0, test_path.shape[0]):\n",
    "    preds_list.append((test_path[index].split('/')[5].split('.')[0], predictions[index]))"
   ]
  },
  {
   "cell_type": "code",
   "execution_count": 36,
   "id": "b3a3b512",
   "metadata": {
    "execution": {
     "iopub.execute_input": "2021-08-04T07:21:14.147577Z",
     "iopub.status.busy": "2021-08-04T07:21:14.140096Z",
     "iopub.status.idle": "2021-08-04T07:21:14.150298Z",
     "shell.execute_reply": "2021-08-04T07:21:14.149796Z"
    },
    "papermill": {
     "duration": 4.625754,
     "end_time": "2021-08-04T07:21:14.150451",
     "exception": false,
     "start_time": "2021-08-04T07:21:09.524697",
     "status": "completed"
    },
    "tags": []
   },
   "outputs": [],
   "source": [
    "pred_df = pd.DataFrame(preds_list, columns=['id', 'target'])"
   ]
  },
  {
   "cell_type": "code",
   "execution_count": 37,
   "id": "fc57225c",
   "metadata": {
    "execution": {
     "iopub.execute_input": "2021-08-04T07:21:23.457816Z",
     "iopub.status.busy": "2021-08-04T07:21:23.456984Z",
     "iopub.status.idle": "2021-08-04T07:21:23.494854Z",
     "shell.execute_reply": "2021-08-04T07:21:23.494325Z"
    },
    "papermill": {
     "duration": 4.817676,
     "end_time": "2021-08-04T07:21:23.495001",
     "exception": false,
     "start_time": "2021-08-04T07:21:18.677325",
     "status": "completed"
    },
    "tags": []
   },
   "outputs": [
    {
     "data": {
      "text/html": [
       "<div>\n",
       "<style scoped>\n",
       "    .dataframe tbody tr th:only-of-type {\n",
       "        vertical-align: middle;\n",
       "    }\n",
       "\n",
       "    .dataframe tbody tr th {\n",
       "        vertical-align: top;\n",
       "    }\n",
       "\n",
       "    .dataframe thead th {\n",
       "        text-align: right;\n",
       "    }\n",
       "</style>\n",
       "<table border=\"1\" class=\"dataframe\">\n",
       "  <thead>\n",
       "    <tr style=\"text-align: right;\">\n",
       "      <th></th>\n",
       "      <th>id</th>\n",
       "      <th>target</th>\n",
       "    </tr>\n",
       "  </thead>\n",
       "  <tbody>\n",
       "    <tr>\n",
       "      <th>22138</th>\n",
       "      <td>a80919159a2d26e</td>\n",
       "      <td>0.506242</td>\n",
       "    </tr>\n",
       "    <tr>\n",
       "      <th>38612</th>\n",
       "      <td>da71e6701c30039</td>\n",
       "      <td>0.506242</td>\n",
       "    </tr>\n",
       "    <tr>\n",
       "      <th>7748</th>\n",
       "      <td>f49c3490943f8ab</td>\n",
       "      <td>0.506242</td>\n",
       "    </tr>\n",
       "    <tr>\n",
       "      <th>591</th>\n",
       "      <td>7f1c1b1294faa6e</td>\n",
       "      <td>0.506242</td>\n",
       "    </tr>\n",
       "    <tr>\n",
       "      <th>15345</th>\n",
       "      <td>88bb45d6025b83e</td>\n",
       "      <td>0.506242</td>\n",
       "    </tr>\n",
       "  </tbody>\n",
       "</table>\n",
       "</div>"
      ],
      "text/plain": [
       "                    id    target\n",
       "22138  a80919159a2d26e  0.506242\n",
       "38612  da71e6701c30039  0.506242\n",
       "7748   f49c3490943f8ab  0.506242\n",
       "591    7f1c1b1294faa6e  0.506242\n",
       "15345  88bb45d6025b83e  0.506242"
      ]
     },
     "execution_count": 37,
     "metadata": {},
     "output_type": "execute_result"
    }
   ],
   "source": [
    "pred_df.sample(n=5)"
   ]
  },
  {
   "cell_type": "code",
   "execution_count": 38,
   "id": "f3dfe6d0",
   "metadata": {
    "execution": {
     "iopub.execute_input": "2021-08-04T07:21:32.727487Z",
     "iopub.status.busy": "2021-08-04T07:21:32.726798Z",
     "iopub.status.idle": "2021-08-04T07:21:32.738775Z",
     "shell.execute_reply": "2021-08-04T07:21:32.738322Z"
    },
    "papermill": {
     "duration": 4.913147,
     "end_time": "2021-08-04T07:21:32.738889",
     "exception": false,
     "start_time": "2021-08-04T07:21:27.825742",
     "status": "completed"
    },
    "tags": []
   },
   "outputs": [
    {
     "data": {
      "text/plain": [
       "target\n",
       "0.506242    1.0\n",
       "dtype: float64"
      ]
     },
     "execution_count": 38,
     "metadata": {},
     "output_type": "execute_result"
    }
   ],
   "source": [
    "pred_df.groupby(by='target').size()/pred_df.shape[0]"
   ]
  },
  {
   "cell_type": "code",
   "execution_count": 39,
   "id": "110ef62d",
   "metadata": {
    "execution": {
     "iopub.execute_input": "2021-08-04T07:21:41.346168Z",
     "iopub.status.busy": "2021-08-04T07:21:41.345340Z",
     "iopub.status.idle": "2021-08-04T07:21:41.348100Z",
     "shell.execute_reply": "2021-08-04T07:21:41.347696Z"
    },
    "papermill": {
     "duration": 4.3427,
     "end_time": "2021-08-04T07:21:41.348214",
     "exception": false,
     "start_time": "2021-08-04T07:21:37.005514",
     "status": "completed"
    },
    "tags": []
   },
   "outputs": [],
   "source": [
    "import datetime"
   ]
  },
  {
   "cell_type": "code",
   "execution_count": 40,
   "id": "d8122d73",
   "metadata": {
    "execution": {
     "iopub.execute_input": "2021-08-04T07:21:49.960816Z",
     "iopub.status.busy": "2021-08-04T07:21:49.959952Z",
     "iopub.status.idle": "2021-08-04T07:21:49.962722Z",
     "shell.execute_reply": "2021-08-04T07:21:49.962305Z"
    },
    "papermill": {
     "duration": 4.245055,
     "end_time": "2021-08-04T07:21:49.962836",
     "exception": false,
     "start_time": "2021-08-04T07:21:45.717781",
     "status": "completed"
    },
    "tags": []
   },
   "outputs": [],
   "source": [
    "assert pred_df.shape[0] == 39995"
   ]
  },
  {
   "cell_type": "code",
   "execution_count": 41,
   "id": "eb70e3fc",
   "metadata": {
    "execution": {
     "iopub.execute_input": "2021-08-04T07:21:58.770131Z",
     "iopub.status.busy": "2021-08-04T07:21:58.769574Z",
     "iopub.status.idle": "2021-08-04T07:21:58.912946Z",
     "shell.execute_reply": "2021-08-04T07:21:58.912444Z"
    },
    "papermill": {
     "duration": 4.495319,
     "end_time": "2021-08-04T07:21:58.913068",
     "exception": false,
     "start_time": "2021-08-04T07:21:54.417749",
     "status": "completed"
    },
    "tags": []
   },
   "outputs": [],
   "source": [
    "pred_df.to_csv('submission_%s.csv'%(datetime.datetime.now().strftime(\"%Y-%m-%d-%HH\")), index=False)"
   ]
  }
 ],
 "metadata": {
  "kernelspec": {
   "display_name": "base",
   "language": "python",
   "name": "python3"
  },
  "language_info": {
   "codemirror_mode": {
    "name": "ipython",
    "version": 3
   },
   "file_extension": ".py",
   "mimetype": "text/x-python",
   "name": "python",
   "nbconvert_exporter": "python",
   "pygments_lexer": "ipython3",
   "version": "3.9.15 | packaged by conda-forge | (main, Nov 22 2022, 08:48:25) \n[Clang 14.0.6 ]"
  },
  "papermill": {
   "default_parameters": {},
   "duration": 20512.367943,
   "end_time": "2021-08-04T07:22:24.859863",
   "environment_variables": {},
   "exception": null,
   "input_path": "__notebook__.ipynb",
   "output_path": "__notebook__.ipynb",
   "parameters": {},
   "start_time": "2021-08-04T01:40:32.491920",
   "version": "2.3.3"
  },
  "vscode": {
   "interpreter": {
    "hash": "5e3bc487293aaf1ea890fc3644b24cff5f3348eb3d135a8a8d51485957d009e3"
   }
  }
 },
 "nbformat": 4,
 "nbformat_minor": 5
}
